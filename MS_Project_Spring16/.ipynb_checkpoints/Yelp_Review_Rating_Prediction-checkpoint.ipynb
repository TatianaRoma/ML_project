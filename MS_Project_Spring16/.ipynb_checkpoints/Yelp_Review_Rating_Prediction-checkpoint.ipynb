{
 "cells": [
  {
   "cell_type": "markdown",
   "metadata": {},
   "source": [
    "# Yelp Review Rating Prediction Using Text\n",
    "### Tatiana Romanchishina"
   ]
  },
  {
   "cell_type": "code",
   "execution_count": 1,
   "metadata": {
    "collapsed": false
   },
   "outputs": [
    {
     "name": "stderr",
     "output_type": "stream",
     "text": [
      "/home/ubuntu/anaconda2/lib/python2.7/site-packages/pandas/computation/__init__.py:19: UserWarning: The installed version of numexpr 2.4.4 is not supported in pandas and will be not be used\n",
      "\n",
      "  UserWarning)\n"
     ]
    }
   ],
   "source": [
    "### libraries\n",
    "import numpy as np\n",
    "import pandas as pd\n",
    "import matplotlib as mpl\n",
    "\n",
    "import matplotlib.pyplot as plt\n",
    "%matplotlib inline\n",
    "\n",
    "from pylab import *\n",
    "import itertools\n",
    "import random\n",
    "import scipy\n",
    "import six\n",
    "import re\n",
    "\n",
    "from __future__ import print_function\n",
    "from pprint import pprint\n",
    "import time as time"
   ]
  },
  {
   "cell_type": "markdown",
   "metadata": {},
   "source": [
    "#### Connect to Amazon S3 storage and download the file"
   ]
  },
  {
   "cell_type": "code",
   "execution_count": 14,
   "metadata": {
    "collapsed": false
   },
   "outputs": [
    {
     "name": "stdout",
     "output_type": "stream",
     "text": [
      "reviews_all.csv\t663830339\t2016-05-03T17:35:07.000Z\n"
     ]
    }
   ],
   "source": [
    "import boto\n",
    "import boto.s3.connection\n",
    "from boto.s3.connection import S3Connection\n",
    "conn = S3Connection()\n",
    "bucket = conn.get_bucket('yelp-rest-reviews')\n",
    "for key in bucket.list():\n",
    "        print (\"{name}\\t{size}\\t{modified}\".format(\n",
    "                name = key.name,\n",
    "                size = key.size,\n",
    "                modified = key.last_modified,\n",
    "                ))"
   ]
  },
  {
   "cell_type": "code",
   "execution_count": 3,
   "metadata": {
    "collapsed": true
   },
   "outputs": [],
   "source": [
    "key = bucket.get_key('reviews_all.csv')\n",
    "key.get_contents_to_filename('/home/ubuntu/yelp/reviews_all.csv')"
   ]
  },
  {
   "cell_type": "markdown",
   "metadata": {},
   "source": [
    "### Load the data into a dataframe"
   ]
  },
  {
   "cell_type": "code",
   "execution_count": 2,
   "metadata": {
    "collapsed": false
   },
   "outputs": [
    {
     "data": {
      "text/html": [
       "<div>\n",
       "<table border=\"1\" class=\"dataframe\">\n",
       "  <thead>\n",
       "    <tr style=\"text-align: right;\">\n",
       "      <th></th>\n",
       "      <th>Text</th>\n",
       "      <th>Rating_nom</th>\n",
       "    </tr>\n",
       "  </thead>\n",
       "  <tbody>\n",
       "    <tr>\n",
       "      <th>0</th>\n",
       "      <td>I was underwhelmed   I ordered the filet and i...</td>\n",
       "      <td>two</td>\n",
       "    </tr>\n",
       "    <tr>\n",
       "      <th>1</th>\n",
       "      <td>Fun environment  friendly staff and decent foo...</td>\n",
       "      <td>four</td>\n",
       "    </tr>\n",
       "    <tr>\n",
       "      <th>2</th>\n",
       "      <td>Benjamin s is good bar  restaurant on the Nort...</td>\n",
       "      <td>five</td>\n",
       "    </tr>\n",
       "    <tr>\n",
       "      <th>3</th>\n",
       "      <td>This place is awesome  The food is great and t...</td>\n",
       "      <td>five</td>\n",
       "    </tr>\n",
       "    <tr>\n",
       "      <th>4</th>\n",
       "      <td>We loved Eddie  and his very appeasing accent ...</td>\n",
       "      <td>five</td>\n",
       "    </tr>\n",
       "  </tbody>\n",
       "</table>\n",
       "</div>"
      ],
      "text/plain": [
       "                                                Text Rating_nom\n",
       "0  I was underwhelmed   I ordered the filet and i...        two\n",
       "1  Fun environment  friendly staff and decent foo...       four\n",
       "2  Benjamin s is good bar  restaurant on the Nort...       five\n",
       "3  This place is awesome  The food is great and t...       five\n",
       "4  We loved Eddie  and his very appeasing accent ...       five"
      ]
     },
     "execution_count": 2,
     "metadata": {},
     "output_type": "execute_result"
    }
   ],
   "source": [
    "path = r'/home/ubuntu/yelp/reviews_all.csv'\n",
    "reviews = pd.read_csv(path)\n",
    "reviews['Rating_nom'] = [\"one\" if Rating == 1 else \"two\" if Rating == 2 else \"three\" if Rating == 3 \n",
    "                else \"four\" if Rating == 4 else \"five\" for Rating in reviews.Rating]\n",
    "reviews = reviews[['Text','Rating_nom']]\n",
    "reviews.head()"
   ]
  },
  {
   "cell_type": "code",
   "execution_count": 13,
   "metadata": {
    "collapsed": false
   },
   "outputs": [
    {
     "data": {
      "text/plain": [
       "(990627, 2)"
      ]
     },
     "execution_count": 13,
     "metadata": {},
     "output_type": "execute_result"
    }
   ],
   "source": [
    "reviews.shape"
   ]
  },
  {
   "cell_type": "markdown",
   "metadata": {},
   "source": [
    "#### Load the necessary Machine Learning libraries"
   ]
  },
  {
   "cell_type": "code",
   "execution_count": 3,
   "metadata": {
    "collapsed": true
   },
   "outputs": [],
   "source": [
    "from sklearn.feature_extraction.text import CountVectorizer\n",
    "from sklearn.feature_extraction.text import TfidfTransformer\n",
    "\n",
    "from sklearn.svm import SVC \n",
    "from sklearn.naive_bayes import MultinomialNB\n",
    "from sklearn.neighbors import KNeighborsClassifier\n",
    "from sklearn.linear_model import LogisticRegression\n",
    "\n",
    "from sklearn.grid_search import GridSearchCV\n",
    "from sklearn.pipeline import Pipeline\n",
    "from sklearn.cross_validation import KFold\n",
    "from sklearn.metrics import confusion_matrix, f1_score\n",
    "from sklearn import metrics\n",
    "from sklearn.cross_validation import train_test_split"
   ]
  },
  {
   "cell_type": "markdown",
   "metadata": {},
   "source": [
    "#### Helper function for plotting confusion matrix"
   ]
  },
  {
   "cell_type": "code",
   "execution_count": 4,
   "metadata": {
    "collapsed": true
   },
   "outputs": [],
   "source": [
    "labels = [\"one\",\"two\",\"three\",\"four\",\"five\"]\n",
    "\n",
    "def plot_confusion(confmat):\n",
    "    fig = plt.figure()\n",
    "    ax = fig.add_subplot(111)\n",
    "    cax = ax.matshow(confmat)\n",
    "    plt.title('Confusion matrix of the classifier')\n",
    "    fig.colorbar(cax)\n",
    "    ax.set_xticklabels([''] + labels)\n",
    "    ax.set_yticklabels([''] + labels)\n",
    "    plt.xlabel('Predicted')\n",
    "    plt.ylabel('True')\n",
    "    plt.show()"
   ]
  },
  {
   "cell_type": "markdown",
   "metadata": {},
   "source": [
    "## Parameter Tuning"
   ]
  },
  {
   "cell_type": "markdown",
   "metadata": {},
   "source": [
    "### Multinomial Naive Bayes"
   ]
  },
  {
   "cell_type": "code",
   "execution_count": 5,
   "metadata": {
    "collapsed": false,
    "scrolled": true
   },
   "outputs": [
    {
     "name": "stdout",
     "output_type": "stream",
     "text": [
      "pipeline: ['vectorizer', 'transformer', 'nbClassifier']\n",
      "parameters:\n",
      "{'nbClassifier__fit_prior': (True, False),\n",
      " 'transformer__use_idf': (True, False),\n",
      " 'vectorizer__max_df': (0.6, 0.75),\n",
      " 'vectorizer__min_df': (1000, 0.01, 0.1),\n",
      " 'vectorizer__ngram_range': ((1, 1), (1, 2), (1, 3))}\n",
      "Fitting 2 folds for each of 72 candidates, totalling 144 fits\n"
     ]
    },
    {
     "name": "stderr",
     "output_type": "stream",
     "text": [
      "[Parallel(n_jobs=-1)]: Done   9 tasks      | elapsed:  1.3min\n",
      "[Parallel(n_jobs=-1)]: Done  18 tasks      | elapsed:  2.2min\n",
      "[Parallel(n_jobs=-1)]: Done  29 tasks      | elapsed:  3.2min\n",
      "[Parallel(n_jobs=-1)]: Done  40 tasks      | elapsed:  4.1min\n",
      "[Parallel(n_jobs=-1)]: Done  53 tasks      | elapsed:  5.4min\n",
      "[Parallel(n_jobs=-1)]: Done  66 tasks      | elapsed:  7.0min\n",
      "[Parallel(n_jobs=-1)]: Done  81 tasks      | elapsed:  8.7min\n",
      "[Parallel(n_jobs=-1)]: Done  96 tasks      | elapsed:  9.8min\n",
      "[Parallel(n_jobs=-1)]: Done 113 tasks      | elapsed: 11.1min\n",
      "[Parallel(n_jobs=-1)]: Done 144 out of 144 | elapsed: 13.4min finished\n"
     ]
    },
    {
     "name": "stdout",
     "output_type": "stream",
     "text": [
      "done in 843.881s\n",
      "Best score: 0.525\n",
      "Best parameters set:\n",
      "\tnbClassifier__fit_prior: False\n",
      "\ttransformer__use_idf: False\n",
      "\tvectorizer__max_df: 0.6\n",
      "\tvectorizer__min_df: 0.01\n",
      "\tvectorizer__ngram_range: (1, 2)\n",
      "[CV] vectorizer__min_df=1000, transformer__use_idf=True, vectorizer__ngram_range=(1, 1), nbClassifier__fit_prior=True, vectorizer__max_df=0.6 \n",
      "[CV] vectorizer__min_df=1000, transformer__use_idf=True, vectorizer__ngram_range=(1, 1), nbClassifier__fit_prior=True, vectorizer__max_df=0.6 \n",
      "[CV] vectorizer__min_df=1000, transformer__use_idf=True, vectorizer__ngram_range=(1, 2), nbClassifier__fit_prior=True, vectorizer__max_df=0.6 \n",
      "[CV] vectorizer__min_df=1000, transformer__use_idf=True, vectorizer__ngram_range=(1, 2), nbClassifier__fit_prior=True, vectorizer__max_df=0.6 \n",
      "[CV] vectorizer__min_df=1000, transformer__use_idf=True, vectorizer__ngram_range=(1, 3), nbClassifier__fit_prior=True, vectorizer__max_df=0.6 \n",
      "[CV] vectorizer__min_df=1000, transformer__use_idf=True, vectorizer__ngram_range=(1, 3), nbClassifier__fit_prior=True, vectorizer__max_df=0.6 \n",
      "[CV] vectorizer__min_df=0.01, transformer__use_idf=True, vectorizer__ngram_range=(1, 1), nbClassifier__fit_prior=True, vectorizer__max_df=0.6 \n",
      "[CV] vectorizer__min_df=0.01, transformer__use_idf=True, vectorizer__ngram_range=(1, 1), nbClassifier__fit_prior=True, vectorizer__max_df=0.6 \n",
      "[CV] vectorizer__min_df=0.01, transformer__use_idf=True, vectorizer__ngram_range=(1, 2), nbClassifier__fit_prior=True, vectorizer__max_df=0.6 \n",
      "[CV] vectorizer__min_df=0.01, transformer__use_idf=True, vectorizer__ngram_range=(1, 2), nbClassifier__fit_prior=True, vectorizer__max_df=0.6 \n",
      "[CV] vectorizer__min_df=0.01, transformer__use_idf=True, vectorizer__ngram_range=(1, 3), nbClassifier__fit_prior=True, vectorizer__max_df=0.6 \n",
      "[CV] vectorizer__min_df=0.01, transformer__use_idf=True, vectorizer__ngram_range=(1, 3), nbClassifier__fit_prior=True, vectorizer__max_df=0.6 \n",
      "[CV] vectorizer__min_df=0.1, transformer__use_idf=True, vectorizer__ngram_range=(1, 1), nbClassifier__fit_prior=True, vectorizer__max_df=0.6 \n",
      "[CV] vectorizer__min_df=0.1, transformer__use_idf=True, vectorizer__ngram_range=(1, 1), nbClassifier__fit_prior=True, vectorizer__max_df=0.6 \n",
      "[CV] vectorizer__min_df=0.1, transformer__use_idf=True, vectorizer__ngram_range=(1, 2), nbClassifier__fit_prior=True, vectorizer__max_df=0.6 \n",
      "[CV] vectorizer__min_df=0.1, transformer__use_idf=True, vectorizer__ngram_range=(1, 2), nbClassifier__fit_prior=True, vectorizer__max_df=0.6 \n",
      "[CV]  vectorizer__min_df=1000, transformer__use_idf=True, vectorizer__ngram_range=(1, 1), nbClassifier__fit_prior=True, vectorizer__max_df=0.6, score=0.486550 -  33.0s[CV]  vectorizer__min_df=1000, transformer__use_idf=True, vectorizer__ngram_range=(1, 1), nbClassifier__fit_prior=True, vectorizer__max_df=0.6, score=0.487110 -  33.5s[CV]  vectorizer__min_df=1000, transformer__use_idf=True, vectorizer__ngram_range=(1, 2), nbClassifier__fit_prior=True, vectorizer__max_df=0.6, score=0.489950 - 1.3min[CV]  vectorizer__min_df=1000, transformer__use_idf=True, vectorizer__ngram_range=(1, 2), nbClassifier__fit_prior=True, vectorizer__max_df=0.6, score=0.490250 - 1.4min[CV]  vectorizer__min_df=1000, transformer__use_idf=True, vectorizer__ngram_range=(1, 3), nbClassifier__fit_prior=True, vectorizer__max_df=0.6, score=0.489950 - 2.4min[CV]  vectorizer__min_df=1000, transformer__use_idf=True, vectorizer__ngram_range=(1, 3), nbClassifier__fit_prior=True, vectorizer__max_df=0.6, score=0.490250 - 2.5min[CV]  vectorizer__min_df=0.01, transformer__use_idf=True, vectorizer__ngram_range=(1, 1), nbClassifier__fit_prior=True, vectorizer__max_df=0.6, score=0.508990 -  35.2s[CV]  vectorizer__min_df=0.01, transformer__use_idf=True, vectorizer__ngram_range=(1, 1), nbClassifier__fit_prior=True, vectorizer__max_df=0.6, score=0.508410 -  34.5s[CV]  vectorizer__min_df=0.01, transformer__use_idf=True, vectorizer__ngram_range=(1, 2), nbClassifier__fit_prior=True, vectorizer__max_df=0.6, score=0.512450 - 1.3min[CV]  vectorizer__min_df=0.01, transformer__use_idf=True, vectorizer__ngram_range=(1, 2), nbClassifier__fit_prior=True, vectorizer__max_df=0.6, score=0.516010 - 1.3min[CV]  vectorizer__min_df=0.01, transformer__use_idf=True, vectorizer__ngram_range=(1, 3), nbClassifier__fit_prior=True, vectorizer__max_df=0.6, score=0.512450 - 2.5min[CV]  vectorizer__min_df=0.01, transformer__use_idf=True, vectorizer__ngram_range=(1, 3), nbClassifier__fit_prior=True, vectorizer__max_df=0.6, score=0.516010 - 2.5min[CV]  vectorizer__min_df=0.1, transformer__use_idf=True, vectorizer__ngram_range=(1, 1), nbClassifier__fit_prior=True, vectorizer__max_df=0.6, score=0.420012 -  35.9s[CV]  vectorizer__min_df=0.1, transformer__use_idf=True, vectorizer__ngram_range=(1, 1), nbClassifier__fit_prior=True, vectorizer__max_df=0.6, score=0.420028 -  36.2s[CV]  vectorizer__min_df=0.1, transformer__use_idf=True, vectorizer__ngram_range=(1, 2), nbClassifier__fit_prior=True, vectorizer__max_df=0.6, score=0.420012 - 1.4min[CV]  vectorizer__min_df=0.1, transformer__use_idf=True, vectorizer__ngram_range=(1, 2), nbClassifier__fit_prior=True, vectorizer__max_df=0.6, score=0.420028 - 1.4min\n",
      "\n",
      "\n",
      "\n",
      "\n",
      "\n",
      "\n",
      "\n",
      "\n",
      "\n",
      "\n",
      "\n",
      "\n",
      "\n",
      "\n",
      "\n",
      "[CV] vectorizer__min_df=0.1, transformer__use_idf=True, vectorizer__ngram_range=(1, 3), nbClassifier__fit_prior=True, vectorizer__max_df=0.6 [CV] vectorizer__min_df=0.1, transformer__use_idf=True, vectorizer__ngram_range=(1, 3), nbClassifier__fit_prior=True, vectorizer__max_df=0.6 [CV] vectorizer__min_df=0.01, transformer__use_idf=True, vectorizer__ngram_range=(1, 1), nbClassifier__fit_prior=True, vectorizer__max_df=0.75 [CV] vectorizer__min_df=0.01, transformer__use_idf=True, vectorizer__ngram_range=(1, 1), nbClassifier__fit_prior=True, vectorizer__max_df=0.75 [CV] vectorizer__min_df=0.1, transformer__use_idf=True, vectorizer__ngram_range=(1, 3), nbClassifier__fit_prior=True, vectorizer__max_df=0.75 [CV] vectorizer__min_df=0.1, transformer__use_idf=True, vectorizer__ngram_range=(1, 3), nbClassifier__fit_prior=True, vectorizer__max_df=0.75 [CV] vectorizer__min_df=1000, transformer__use_idf=True, vectorizer__ngram_range=(1, 1), nbClassifier__fit_prior=True, vectorizer__max_df=0.75 [CV] vectorizer__min_df=1000, transformer__use_idf=True, vectorizer__ngram_range=(1, 1), nbClassifier__fit_prior=True, vectorizer__max_df=0.75 [CV] vectorizer__min_df=0.01, transformer__use_idf=True, vectorizer__ngram_range=(1, 2), nbClassifier__fit_prior=True, vectorizer__max_df=0.75 [CV] vectorizer__min_df=0.01, transformer__use_idf=True, vectorizer__ngram_range=(1, 2), nbClassifier__fit_prior=True, vectorizer__max_df=0.75 [CV] vectorizer__min_df=1000, transformer__use_idf=False, vectorizer__ngram_range=(1, 2), nbClassifier__fit_prior=True, vectorizer__max_df=0.6 [CV] vectorizer__min_df=1000, transformer__use_idf=False, vectorizer__ngram_range=(1, 2), nbClassifier__fit_prior=True, vectorizer__max_df=0.6 [CV] vectorizer__min_df=1000, transformer__use_idf=True, vectorizer__ngram_range=(1, 2), nbClassifier__fit_prior=True, vectorizer__max_df=0.75 [CV] vectorizer__min_df=1000, transformer__use_idf=True, vectorizer__ngram_range=(1, 2), nbClassifier__fit_prior=True, vectorizer__max_df=0.75 [CV] vectorizer__min_df=0.01, transformer__use_idf=True, vectorizer__ngram_range=(1, 3), nbClassifier__fit_prior=True, vectorizer__max_df=0.75 [CV] vectorizer__min_df=0.01, transformer__use_idf=True, vectorizer__ngram_range=(1, 3), nbClassifier__fit_prior=True, vectorizer__max_df=0.75 \n",
      "\n",
      "\n",
      "\n",
      "\n",
      "\n",
      "\n",
      "\n",
      "\n",
      "\n",
      "\n",
      "\n",
      "\n",
      "\n",
      "\n",
      "\n",
      "[CV]  vectorizer__min_df=0.1, transformer__use_idf=True, vectorizer__ngram_range=(1, 3), nbClassifier__fit_prior=True, vectorizer__max_df=0.6, score=0.420012 - 2.6min[CV]  vectorizer__min_df=0.1, transformer__use_idf=True, vectorizer__ngram_range=(1, 3), nbClassifier__fit_prior=True, vectorizer__max_df=0.6, score=0.420028 - 2.6min[CV]  vectorizer__min_df=0.01, transformer__use_idf=True, vectorizer__ngram_range=(1, 1), nbClassifier__fit_prior=True, vectorizer__max_df=0.75, score=0.508990 -  33.5s[CV]  vectorizer__min_df=0.01, transformer__use_idf=True, vectorizer__ngram_range=(1, 1), nbClassifier__fit_prior=True, vectorizer__max_df=0.75, score=0.508410 -  32.5s[CV]  vectorizer__min_df=0.1, transformer__use_idf=True, vectorizer__ngram_range=(1, 3), nbClassifier__fit_prior=True, vectorizer__max_df=0.75, score=0.420012 - 2.6min[CV]  vectorizer__min_df=0.1, transformer__use_idf=True, vectorizer__ngram_range=(1, 3), nbClassifier__fit_prior=True, vectorizer__max_df=0.75, score=0.420028 - 2.6min[CV]  vectorizer__min_df=1000, transformer__use_idf=True, vectorizer__ngram_range=(1, 1), nbClassifier__fit_prior=True, vectorizer__max_df=0.75, score=0.487110 -  33.6s[CV]  vectorizer__min_df=1000, transformer__use_idf=True, vectorizer__ngram_range=(1, 1), nbClassifier__fit_prior=True, vectorizer__max_df=0.75, score=0.486550 -  32.7s[CV]  vectorizer__min_df=0.01, transformer__use_idf=True, vectorizer__ngram_range=(1, 2), nbClassifier__fit_prior=True, vectorizer__max_df=0.75, score=0.512450 - 1.4min[CV]  vectorizer__min_df=0.01, transformer__use_idf=True, vectorizer__ngram_range=(1, 2), nbClassifier__fit_prior=True, vectorizer__max_df=0.75, score=0.516010 - 1.3min[CV]  vectorizer__min_df=1000, transformer__use_idf=False, vectorizer__ngram_range=(1, 2), nbClassifier__fit_prior=True, vectorizer__max_df=0.6, score=0.485450 - 1.4min[CV]  vectorizer__min_df=1000, transformer__use_idf=False, vectorizer__ngram_range=(1, 2), nbClassifier__fit_prior=True, vectorizer__max_df=0.6, score=0.486790 - 1.4min[CV]  vectorizer__min_df=1000, transformer__use_idf=True, vectorizer__ngram_range=(1, 2), nbClassifier__fit_prior=True, vectorizer__max_df=0.75, score=0.489950 - 1.3min[CV]  vectorizer__min_df=1000, transformer__use_idf=True, vectorizer__ngram_range=(1, 2), nbClassifier__fit_prior=True, vectorizer__max_df=0.75, score=0.490250 - 1.4min[CV]  vectorizer__min_df=0.01, transformer__use_idf=True, vectorizer__ngram_range=(1, 3), nbClassifier__fit_prior=True, vectorizer__max_df=0.75, score=0.512450 - 2.5min[CV]  vectorizer__min_df=0.01, transformer__use_idf=True, vectorizer__ngram_range=(1, 3), nbClassifier__fit_prior=True, vectorizer__max_df=0.75, score=0.516010 - 2.4min\n",
      "\n",
      "\n",
      "\n",
      "\n",
      "\n",
      "\n",
      "\n",
      "\n",
      "\n",
      "\n",
      "\n",
      "\n",
      "\n",
      "\n",
      "\n",
      "[CV] vectorizer__min_df=0.01, transformer__use_idf=False, vectorizer__ngram_range=(1, 1), nbClassifier__fit_prior=True, vectorizer__max_df=0.6 [CV] vectorizer__min_df=0.01, transformer__use_idf=False, vectorizer__ngram_range=(1, 2), nbClassifier__fit_prior=True, vectorizer__max_df=0.6 [CV] vectorizer__min_df=0.1, transformer__use_idf=True, vectorizer__ngram_range=(1, 1), nbClassifier__fit_prior=True, vectorizer__max_df=0.75 [CV] vectorizer__min_df=0.1, transformer__use_idf=True, vectorizer__ngram_range=(1, 1), nbClassifier__fit_prior=True, vectorizer__max_df=0.75 [CV] vectorizer__min_df=0.01, transformer__use_idf=False, vectorizer__ngram_range=(1, 2), nbClassifier__fit_prior=True, vectorizer__max_df=0.75 [CV] vectorizer__min_df=0.01, transformer__use_idf=False, vectorizer__ngram_range=(1, 2), nbClassifier__fit_prior=True, vectorizer__max_df=0.75 [CV] vectorizer__min_df=1000, transformer__use_idf=True, vectorizer__ngram_range=(1, 3), nbClassifier__fit_prior=True, vectorizer__max_df=0.75 [CV] vectorizer__min_df=1000, transformer__use_idf=True, vectorizer__ngram_range=(1, 3), nbClassifier__fit_prior=True, vectorizer__max_df=0.75 [CV] vectorizer__min_df=1000, transformer__use_idf=False, vectorizer__ngram_range=(1, 3), nbClassifier__fit_prior=True, vectorizer__max_df=0.6 [CV] vectorizer__min_df=1000, transformer__use_idf=False, vectorizer__ngram_range=(1, 3), nbClassifier__fit_prior=True, vectorizer__max_df=0.6 [CV] vectorizer__min_df=1000, transformer__use_idf=False, vectorizer__ngram_range=(1, 1), nbClassifier__fit_prior=True, vectorizer__max_df=0.75 [CV] vectorizer__min_df=1000, transformer__use_idf=False, vectorizer__ngram_range=(1, 1), nbClassifier__fit_prior=True, vectorizer__max_df=0.75 [CV] vectorizer__min_df=0.1, transformer__use_idf=True, vectorizer__ngram_range=(1, 2), nbClassifier__fit_prior=True, vectorizer__max_df=0.75 [CV] vectorizer__min_df=0.1, transformer__use_idf=True, vectorizer__ngram_range=(1, 2), nbClassifier__fit_prior=True, vectorizer__max_df=0.75 [CV] vectorizer__min_df=0.1, transformer__use_idf=False, vectorizer__ngram_range=(1, 3), nbClassifier__fit_prior=True, vectorizer__max_df=0.6 [CV] vectorizer__min_df=0.1, transformer__use_idf=False, vectorizer__ngram_range=(1, 3), nbClassifier__fit_prior=True, vectorizer__max_df=0.6 \n",
      "\n",
      "\n",
      "\n",
      "\n",
      "\n",
      "\n",
      "\n",
      "\n",
      "\n",
      "\n",
      "\n",
      "\n",
      "\n",
      "\n",
      "\n",
      "[CV]  vectorizer__min_df=0.01, transformer__use_idf=False, vectorizer__ngram_range=(1, 1), nbClassifier__fit_prior=True, vectorizer__max_df=0.6, score=0.505310 -  36.7s[CV]  vectorizer__min_df=0.01, transformer__use_idf=False, vectorizer__ngram_range=(1, 2), nbClassifier__fit_prior=True, vectorizer__max_df=0.6, score=0.508270 - 1.4min[CV]  vectorizer__min_df=0.1, transformer__use_idf=True, vectorizer__ngram_range=(1, 1), nbClassifier__fit_prior=True, vectorizer__max_df=0.75, score=0.420012 -  38.7s[CV]  vectorizer__min_df=0.1, transformer__use_idf=True, vectorizer__ngram_range=(1, 1), nbClassifier__fit_prior=True, vectorizer__max_df=0.75, score=0.420028 -  37.9s[CV]  vectorizer__min_df=0.01, transformer__use_idf=False, vectorizer__ngram_range=(1, 2), nbClassifier__fit_prior=True, vectorizer__max_df=0.75, score=0.508270 - 1.6min[CV]  vectorizer__min_df=0.01, transformer__use_idf=False, vectorizer__ngram_range=(1, 2), nbClassifier__fit_prior=True, vectorizer__max_df=0.75, score=0.510050 - 1.6min[CV]  vectorizer__min_df=1000, transformer__use_idf=True, vectorizer__ngram_range=(1, 3), nbClassifier__fit_prior=True, vectorizer__max_df=0.75, score=0.490250 - 2.5min[CV]  vectorizer__min_df=1000, transformer__use_idf=True, vectorizer__ngram_range=(1, 3), nbClassifier__fit_prior=True, vectorizer__max_df=0.75, score=0.489950 - 2.5min[CV]  vectorizer__min_df=1000, transformer__use_idf=False, vectorizer__ngram_range=(1, 3), nbClassifier__fit_prior=True, vectorizer__max_df=0.6, score=0.486790 - 2.5min[CV]  vectorizer__min_df=1000, transformer__use_idf=False, vectorizer__ngram_range=(1, 3), nbClassifier__fit_prior=True, vectorizer__max_df=0.6, score=0.485450 - 2.5min[CV]  vectorizer__min_df=1000, transformer__use_idf=False, vectorizer__ngram_range=(1, 1), nbClassifier__fit_prior=True, vectorizer__max_df=0.75, score=0.483590 -  34.5s[CV]  vectorizer__min_df=1000, transformer__use_idf=False, vectorizer__ngram_range=(1, 1), nbClassifier__fit_prior=True, vectorizer__max_df=0.75, score=0.484130 -  36.5s[CV]  vectorizer__min_df=0.1, transformer__use_idf=True, vectorizer__ngram_range=(1, 2), nbClassifier__fit_prior=True, vectorizer__max_df=0.75, score=0.420012 - 1.4min[CV]  vectorizer__min_df=0.1, transformer__use_idf=True, vectorizer__ngram_range=(1, 2), nbClassifier__fit_prior=True, vectorizer__max_df=0.75, score=0.420028 - 1.4min[CV]  vectorizer__min_df=0.1, transformer__use_idf=False, vectorizer__ngram_range=(1, 3), nbClassifier__fit_prior=True, vectorizer__max_df=0.6, score=0.420312 - 2.9min[CV]  vectorizer__min_df=0.1, transformer__use_idf=False, vectorizer__ngram_range=(1, 3), nbClassifier__fit_prior=True, vectorizer__max_df=0.6, score=0.420508 - 2.8min\n",
      "\n",
      "\n",
      "\n",
      "\n",
      "\n",
      "\n",
      "\n",
      "\n",
      "\n",
      "\n",
      "\n",
      "\n",
      "\n",
      "\n",
      "\n",
      "[CV] vectorizer__min_df=0.1, transformer__use_idf=False, vectorizer__ngram_range=(1, 2), nbClassifier__fit_prior=True, vectorizer__max_df=0.6 [CV] vectorizer__min_df=1000, transformer__use_idf=False, vectorizer__ngram_range=(1, 3), nbClassifier__fit_prior=True, vectorizer__max_df=0.75 [CV] vectorizer__min_df=1000, transformer__use_idf=False, vectorizer__ngram_range=(1, 1), nbClassifier__fit_prior=True, vectorizer__max_df=0.6 [CV] vectorizer__min_df=1000, transformer__use_idf=False, vectorizer__ngram_range=(1, 1), nbClassifier__fit_prior=True, vectorizer__max_df=0.6 [CV] vectorizer__min_df=1000, transformer__use_idf=True, vectorizer__ngram_range=(1, 3), nbClassifier__fit_prior=False, vectorizer__max_df=0.6 [CV] vectorizer__min_df=0.01, transformer__use_idf=True, vectorizer__ngram_range=(1, 1), nbClassifier__fit_prior=False, vectorizer__max_df=0.6 [CV] vectorizer__min_df=0.1, transformer__use_idf=False, vectorizer__ngram_range=(1, 1), nbClassifier__fit_prior=True, vectorizer__max_df=0.6 [CV] vectorizer__min_df=0.1, transformer__use_idf=False, vectorizer__ngram_range=(1, 1), nbClassifier__fit_prior=True, vectorizer__max_df=0.6 [CV] vectorizer__min_df=0.1, transformer__use_idf=False, vectorizer__ngram_range=(1, 2), nbClassifier__fit_prior=True, vectorizer__max_df=0.75 [CV] vectorizer__min_df=0.1, transformer__use_idf=False, vectorizer__ngram_range=(1, 1), nbClassifier__fit_prior=True, vectorizer__max_df=0.75 [CV] vectorizer__min_df=0.01, transformer__use_idf=False, vectorizer__ngram_range=(1, 1), nbClassifier__fit_prior=True, vectorizer__max_df=0.75 [CV] vectorizer__min_df=0.01, transformer__use_idf=False, vectorizer__ngram_range=(1, 1), nbClassifier__fit_prior=True, vectorizer__max_df=0.75 [CV] vectorizer__min_df=0.01, transformer__use_idf=False, vectorizer__ngram_range=(1, 3), nbClassifier__fit_prior=True, vectorizer__max_df=0.6 [CV] vectorizer__min_df=0.01, transformer__use_idf=False, vectorizer__ngram_range=(1, 3), nbClassifier__fit_prior=True, vectorizer__max_df=0.6 [CV] vectorizer__min_df=0.01, transformer__use_idf=True, vectorizer__ngram_range=(1, 2), nbClassifier__fit_prior=False, vectorizer__max_df=0.6 [CV] vectorizer__min_df=0.01, transformer__use_idf=True, vectorizer__ngram_range=(1, 2), nbClassifier__fit_prior=False, vectorizer__max_df=0.6 \n",
      "\n",
      "\n",
      "\n",
      "\n",
      "\n",
      "\n",
      "\n",
      "\n",
      "\n",
      "\n",
      "\n",
      "\n",
      "\n",
      "\n",
      "\n",
      "[CV]  vectorizer__min_df=0.1, transformer__use_idf=False, vectorizer__ngram_range=(1, 2), nbClassifier__fit_prior=True, vectorizer__max_df=0.6, score=0.420312 - 1.4min[CV]  vectorizer__min_df=1000, transformer__use_idf=False, vectorizer__ngram_range=(1, 3), nbClassifier__fit_prior=True, vectorizer__max_df=0.75, score=0.486790 - 2.8min[CV]  vectorizer__min_df=1000, transformer__use_idf=False, vectorizer__ngram_range=(1, 1), nbClassifier__fit_prior=True, vectorizer__max_df=0.6, score=0.483590 -  36.3s[CV]  vectorizer__min_df=1000, transformer__use_idf=False, vectorizer__ngram_range=(1, 1), nbClassifier__fit_prior=True, vectorizer__max_df=0.6, score=0.484130 -  37.4s[CV]  vectorizer__min_df=1000, transformer__use_idf=True, vectorizer__ngram_range=(1, 3), nbClassifier__fit_prior=False, vectorizer__max_df=0.6, score=0.495150 - 2.6min[CV]  vectorizer__min_df=0.01, transformer__use_idf=True, vectorizer__ngram_range=(1, 1), nbClassifier__fit_prior=False, vectorizer__max_df=0.6, score=0.521550 -  40.5s[CV]  vectorizer__min_df=0.1, transformer__use_idf=False, vectorizer__ngram_range=(1, 1), nbClassifier__fit_prior=True, vectorizer__max_df=0.6, score=0.420312 -  39.0s[CV]  vectorizer__min_df=0.1, transformer__use_idf=False, vectorizer__ngram_range=(1, 1), nbClassifier__fit_prior=True, vectorizer__max_df=0.6, score=0.420508 -  39.1s[CV]  vectorizer__min_df=0.1, transformer__use_idf=False, vectorizer__ngram_range=(1, 2), nbClassifier__fit_prior=True, vectorizer__max_df=0.75, score=0.420508 - 1.6min[CV]  vectorizer__min_df=0.1, transformer__use_idf=False, vectorizer__ngram_range=(1, 1), nbClassifier__fit_prior=True, vectorizer__max_df=0.75, score=0.420508 -  42.6s[CV]  vectorizer__min_df=0.01, transformer__use_idf=False, vectorizer__ngram_range=(1, 1), nbClassifier__fit_prior=True, vectorizer__max_df=0.75, score=0.505310 -  38.6s[CV]  vectorizer__min_df=0.01, transformer__use_idf=False, vectorizer__ngram_range=(1, 1), nbClassifier__fit_prior=True, vectorizer__max_df=0.75, score=0.505110 -  37.8s[CV]  vectorizer__min_df=0.01, transformer__use_idf=False, vectorizer__ngram_range=(1, 3), nbClassifier__fit_prior=True, vectorizer__max_df=0.6, score=0.508270 - 2.6min[CV]  vectorizer__min_df=0.01, transformer__use_idf=False, vectorizer__ngram_range=(1, 3), nbClassifier__fit_prior=True, vectorizer__max_df=0.6, score=0.510050 - 2.6min[CV]  vectorizer__min_df=0.01, transformer__use_idf=True, vectorizer__ngram_range=(1, 2), nbClassifier__fit_prior=False, vectorizer__max_df=0.6, score=0.524490 - 1.5min[CV]  vectorizer__min_df=0.01, transformer__use_idf=True, vectorizer__ngram_range=(1, 2), nbClassifier__fit_prior=False, vectorizer__max_df=0.6, score=0.519150 - 1.5min\n",
      "\n",
      "\n",
      "\n",
      "\n",
      "\n",
      "\n",
      "\n",
      "\n",
      "\n",
      "\n",
      "\n",
      "\n",
      "\n",
      "\n",
      "\n",
      "[CV] vectorizer__min_df=0.01, transformer__use_idf=False, vectorizer__ngram_range=(1, 3), nbClassifier__fit_prior=True, vectorizer__max_df=0.75 [CV] vectorizer__min_df=0.1, transformer__use_idf=True, vectorizer__ngram_range=(1, 1), nbClassifier__fit_prior=False, vectorizer__max_df=0.6 [CV] vectorizer__min_df=0.01, transformer__use_idf=False, vectorizer__ngram_range=(1, 1), nbClassifier__fit_prior=True, vectorizer__max_df=0.6 [CV] vectorizer__min_df=0.01, transformer__use_idf=False, vectorizer__ngram_range=(1, 2), nbClassifier__fit_prior=True, vectorizer__max_df=0.6 [CV] vectorizer__min_df=0.1, transformer__use_idf=True, vectorizer__ngram_range=(1, 1), nbClassifier__fit_prior=False, vectorizer__max_df=0.75 [CV] vectorizer__min_df=0.1, transformer__use_idf=True, vectorizer__ngram_range=(1, 2), nbClassifier__fit_prior=False, vectorizer__max_df=0.6 [CV] vectorizer__min_df=1000, transformer__use_idf=False, vectorizer__ngram_range=(1, 2), nbClassifier__fit_prior=True, vectorizer__max_df=0.75 [CV] vectorizer__min_df=1000, transformer__use_idf=False, vectorizer__ngram_range=(1, 2), nbClassifier__fit_prior=True, vectorizer__max_df=0.75 [CV] vectorizer__min_df=0.01, transformer__use_idf=True, vectorizer__ngram_range=(1, 3), nbClassifier__fit_prior=False, vectorizer__max_df=0.6 [CV] vectorizer__min_df=1000, transformer__use_idf=True, vectorizer__ngram_range=(1, 2), nbClassifier__fit_prior=False, vectorizer__max_df=0.6 [CV] vectorizer__min_df=0.1, transformer__use_idf=False, vectorizer__ngram_range=(1, 1), nbClassifier__fit_prior=True, vectorizer__max_df=0.75 [CV] vectorizer__min_df=0.1, transformer__use_idf=False, vectorizer__ngram_range=(1, 2), nbClassifier__fit_prior=True, vectorizer__max_df=0.75 [CV] vectorizer__min_df=1000, transformer__use_idf=True, vectorizer__ngram_range=(1, 1), nbClassifier__fit_prior=False, vectorizer__max_df=0.6 [CV] vectorizer__min_df=1000, transformer__use_idf=True, vectorizer__ngram_range=(1, 2), nbClassifier__fit_prior=False, vectorizer__max_df=0.6 [CV] vectorizer__min_df=1000, transformer__use_idf=True, vectorizer__ngram_range=(1, 3), nbClassifier__fit_prior=False, vectorizer__max_df=0.75 [CV] vectorizer__min_df=1000, transformer__use_idf=True, vectorizer__ngram_range=(1, 3), nbClassifier__fit_prior=False, vectorizer__max_df=0.75 \n",
      "\n",
      "\n",
      "\n",
      "\n",
      "\n",
      "\n",
      "\n",
      "\n",
      "\n",
      "\n",
      "\n",
      "\n",
      "\n",
      "\n",
      "\n",
      "[CV]  vectorizer__min_df=0.01, transformer__use_idf=False, vectorizer__ngram_range=(1, 3), nbClassifier__fit_prior=True, vectorizer__max_df=0.75, score=0.510050 - 2.8min[CV]  vectorizer__min_df=0.1, transformer__use_idf=True, vectorizer__ngram_range=(1, 1), nbClassifier__fit_prior=False, vectorizer__max_df=0.6, score=0.407388 -  39.4s[CV]  vectorizer__min_df=0.01, transformer__use_idf=False, vectorizer__ngram_range=(1, 1), nbClassifier__fit_prior=True, vectorizer__max_df=0.6, score=0.505110 -  36.5s[CV]  vectorizer__min_df=0.01, transformer__use_idf=False, vectorizer__ngram_range=(1, 2), nbClassifier__fit_prior=True, vectorizer__max_df=0.6, score=0.510050 - 1.3min[CV]  vectorizer__min_df=0.1, transformer__use_idf=True, vectorizer__ngram_range=(1, 1), nbClassifier__fit_prior=False, vectorizer__max_df=0.75, score=0.407388 -  30.9s[CV]  vectorizer__min_df=0.1, transformer__use_idf=True, vectorizer__ngram_range=(1, 2), nbClassifier__fit_prior=False, vectorizer__max_df=0.6, score=0.404592 - 1.5min[CV]  vectorizer__min_df=1000, transformer__use_idf=False, vectorizer__ngram_range=(1, 2), nbClassifier__fit_prior=True, vectorizer__max_df=0.75, score=0.485450 - 1.5min[CV]  vectorizer__min_df=1000, transformer__use_idf=False, vectorizer__ngram_range=(1, 2), nbClassifier__fit_prior=True, vectorizer__max_df=0.75, score=0.486790 - 1.5min[CV]  vectorizer__min_df=0.01, transformer__use_idf=True, vectorizer__ngram_range=(1, 3), nbClassifier__fit_prior=False, vectorizer__max_df=0.6, score=0.524490 - 2.6min[CV]  vectorizer__min_df=1000, transformer__use_idf=True, vectorizer__ngram_range=(1, 2), nbClassifier__fit_prior=False, vectorizer__max_df=0.6, score=0.495150 - 1.5min[CV]  vectorizer__min_df=0.1, transformer__use_idf=False, vectorizer__ngram_range=(1, 1), nbClassifier__fit_prior=True, vectorizer__max_df=0.75, score=0.420312 -  41.8s[CV]  vectorizer__min_df=0.1, transformer__use_idf=False, vectorizer__ngram_range=(1, 2), nbClassifier__fit_prior=True, vectorizer__max_df=0.75, score=0.420312 - 1.6min[CV]  vectorizer__min_df=1000, transformer__use_idf=True, vectorizer__ngram_range=(1, 1), nbClassifier__fit_prior=False, vectorizer__max_df=0.6, score=0.496990 -  43.3s[CV]  vectorizer__min_df=1000, transformer__use_idf=True, vectorizer__ngram_range=(1, 2), nbClassifier__fit_prior=False, vectorizer__max_df=0.6, score=0.496330 - 1.5min[CV]  vectorizer__min_df=1000, transformer__use_idf=True, vectorizer__ngram_range=(1, 3), nbClassifier__fit_prior=False, vectorizer__max_df=0.75, score=0.496330 - 2.2min[CV]  vectorizer__min_df=1000, transformer__use_idf=True, vectorizer__ngram_range=(1, 3), nbClassifier__fit_prior=False, vectorizer__max_df=0.75, score=0.495150 - 2.2min\n",
      "\n",
      "\n",
      "\n",
      "\n",
      "\n",
      "\n",
      "\n",
      "\n",
      "\n",
      "\n",
      "\n",
      "\n",
      "\n",
      "\n",
      "\n",
      "[CV] vectorizer__min_df=1000, transformer__use_idf=True, vectorizer__ngram_range=(1, 1), nbClassifier__fit_prior=False, vectorizer__max_df=0.75 [CV] vectorizer__min_df=1000, transformer__use_idf=True, vectorizer__ngram_range=(1, 2), nbClassifier__fit_prior=False, vectorizer__max_df=0.75 [CV] vectorizer__min_df=0.1, transformer__use_idf=False, vectorizer__ngram_range=(1, 2), nbClassifier__fit_prior=True, vectorizer__max_df=0.6 [CV] vectorizer__min_df=1000, transformer__use_idf=False, vectorizer__ngram_range=(1, 3), nbClassifier__fit_prior=True, vectorizer__max_df=0.75 [CV] vectorizer__min_df=1000, transformer__use_idf=False, vectorizer__ngram_range=(1, 2), nbClassifier__fit_prior=False, vectorizer__max_df=0.6 [CV] vectorizer__min_df=0.01, transformer__use_idf=True, vectorizer__ngram_range=(1, 3), nbClassifier__fit_prior=False, vectorizer__max_df=0.75 [CV] vectorizer__min_df=0.1, transformer__use_idf=False, vectorizer__ngram_range=(1, 3), nbClassifier__fit_prior=True, vectorizer__max_df=0.75 [CV] vectorizer__min_df=0.1, transformer__use_idf=False, vectorizer__ngram_range=(1, 3), nbClassifier__fit_prior=True, vectorizer__max_df=0.75 [CV] vectorizer__min_df=1000, transformer__use_idf=False, vectorizer__ngram_range=(1, 1), nbClassifier__fit_prior=False, vectorizer__max_df=0.6 [CV] vectorizer__min_df=0.1, transformer__use_idf=True, vectorizer__ngram_range=(1, 3), nbClassifier__fit_prior=False, vectorizer__max_df=0.6 [CV] vectorizer__min_df=1000, transformer__use_idf=True, vectorizer__ngram_range=(1, 1), nbClassifier__fit_prior=False, vectorizer__max_df=0.6 [CV] vectorizer__min_df=0.01, transformer__use_idf=True, vectorizer__ngram_range=(1, 3), nbClassifier__fit_prior=False, vectorizer__max_df=0.6 [CV] vectorizer__min_df=0.01, transformer__use_idf=True, vectorizer__ngram_range=(1, 1), nbClassifier__fit_prior=False, vectorizer__max_df=0.6 [CV] vectorizer__min_df=0.1, transformer__use_idf=True, vectorizer__ngram_range=(1, 3), nbClassifier__fit_prior=False, vectorizer__max_df=0.6 [CV] vectorizer__min_df=0.1, transformer__use_idf=False, vectorizer__ngram_range=(1, 2), nbClassifier__fit_prior=False, vectorizer__max_df=0.6 [CV] vectorizer__min_df=0.1, transformer__use_idf=False, vectorizer__ngram_range=(1, 2), nbClassifier__fit_prior=False, vectorizer__max_df=0.6 \n",
      "\n",
      "\n",
      "\n",
      "\n",
      "\n",
      "\n",
      "\n",
      "\n",
      "\n",
      "\n",
      "\n",
      "\n",
      "\n",
      "\n",
      "\n",
      "[CV]  vectorizer__min_df=1000, transformer__use_idf=True, vectorizer__ngram_range=(1, 1), nbClassifier__fit_prior=False, vectorizer__max_df=0.75, score=0.496990 -  38.2s[CV]  vectorizer__min_df=1000, transformer__use_idf=True, vectorizer__ngram_range=(1, 2), nbClassifier__fit_prior=False, vectorizer__max_df=0.75, score=0.496330 - 1.4min[CV]  vectorizer__min_df=0.1, transformer__use_idf=False, vectorizer__ngram_range=(1, 2), nbClassifier__fit_prior=True, vectorizer__max_df=0.6, score=0.420508 - 1.4min[CV]  vectorizer__min_df=1000, transformer__use_idf=False, vectorizer__ngram_range=(1, 3), nbClassifier__fit_prior=True, vectorizer__max_df=0.75, score=0.485450 - 2.8min[CV]  vectorizer__min_df=1000, transformer__use_idf=False, vectorizer__ngram_range=(1, 2), nbClassifier__fit_prior=False, vectorizer__max_df=0.6, score=0.500410 - 1.1min[CV]  vectorizer__min_df=0.01, transformer__use_idf=True, vectorizer__ngram_range=(1, 3), nbClassifier__fit_prior=False, vectorizer__max_df=0.75, score=0.519150 - 2.1min[CV]  vectorizer__min_df=0.1, transformer__use_idf=False, vectorizer__ngram_range=(1, 3), nbClassifier__fit_prior=True, vectorizer__max_df=0.75, score=0.420312 - 2.8min[CV]  vectorizer__min_df=0.1, transformer__use_idf=False, vectorizer__ngram_range=(1, 3), nbClassifier__fit_prior=True, vectorizer__max_df=0.75, score=0.420508 - 2.8min[CV]  vectorizer__min_df=1000, transformer__use_idf=False, vectorizer__ngram_range=(1, 1), nbClassifier__fit_prior=False, vectorizer__max_df=0.6, score=0.502130 -  30.7s[CV]  vectorizer__min_df=0.1, transformer__use_idf=True, vectorizer__ngram_range=(1, 3), nbClassifier__fit_prior=False, vectorizer__max_df=0.6, score=0.404592 - 2.4min[CV]  vectorizer__min_df=1000, transformer__use_idf=True, vectorizer__ngram_range=(1, 1), nbClassifier__fit_prior=False, vectorizer__max_df=0.6, score=0.494890 -  43.0s[CV]  vectorizer__min_df=0.01, transformer__use_idf=True, vectorizer__ngram_range=(1, 3), nbClassifier__fit_prior=False, vectorizer__max_df=0.6, score=0.519150 - 2.5min[CV]  vectorizer__min_df=0.01, transformer__use_idf=True, vectorizer__ngram_range=(1, 1), nbClassifier__fit_prior=False, vectorizer__max_df=0.6, score=0.524410 -  38.9s[CV]  vectorizer__min_df=0.1, transformer__use_idf=True, vectorizer__ngram_range=(1, 3), nbClassifier__fit_prior=False, vectorizer__max_df=0.6, score=0.407388 - 2.4min[CV]  vectorizer__min_df=0.1, transformer__use_idf=False, vectorizer__ngram_range=(1, 2), nbClassifier__fit_prior=False, vectorizer__max_df=0.6, score=0.410548 - 1.0min[CV]  vectorizer__min_df=0.1, transformer__use_idf=False, vectorizer__ngram_range=(1, 2), nbClassifier__fit_prior=False, vectorizer__max_df=0.6, score=0.408932 -  60.0s\n",
      "\n",
      "\n",
      "\n",
      "\n",
      "\n",
      "\n",
      "\n",
      "\n",
      "\n",
      "\n",
      "\n",
      "\n",
      "\n",
      "\n",
      "\n",
      "[CV] vectorizer__min_df=0.01, transformer__use_idf=True, vectorizer__ngram_range=(1, 1), nbClassifier__fit_prior=False, vectorizer__max_df=0.75 [CV] vectorizer__min_df=1000, transformer__use_idf=False, vectorizer__ngram_range=(1, 1), nbClassifier__fit_prior=False, vectorizer__max_df=0.6 [CV] vectorizer__min_df=0.01, transformer__use_idf=False, vectorizer__ngram_range=(1, 3), nbClassifier__fit_prior=True, vectorizer__max_df=0.75 [CV] vectorizer__min_df=0.1, transformer__use_idf=True, vectorizer__ngram_range=(1, 1), nbClassifier__fit_prior=False, vectorizer__max_df=0.6 [CV] vectorizer__min_df=0.1, transformer__use_idf=False, vectorizer__ngram_range=(1, 3), nbClassifier__fit_prior=False, vectorizer__max_df=0.6 [CV] vectorizer__min_df=1000, transformer__use_idf=False, vectorizer__ngram_range=(1, 1), nbClassifier__fit_prior=False, vectorizer__max_df=0.75 [CV] vectorizer__min_df=0.01, transformer__use_idf=True, vectorizer__ngram_range=(1, 2), nbClassifier__fit_prior=False, vectorizer__max_df=0.75 [CV] vectorizer__min_df=0.01, transformer__use_idf=True, vectorizer__ngram_range=(1, 2), nbClassifier__fit_prior=False, vectorizer__max_df=0.75 [CV] vectorizer__min_df=0.01, transformer__use_idf=False, vectorizer__ngram_range=(1, 2), nbClassifier__fit_prior=False, vectorizer__max_df=0.6 [CV] vectorizer__min_df=0.01, transformer__use_idf=False, vectorizer__ngram_range=(1, 1), nbClassifier__fit_prior=False, vectorizer__max_df=0.6 [CV] vectorizer__min_df=1000, transformer__use_idf=True, vectorizer__ngram_range=(1, 3), nbClassifier__fit_prior=False, vectorizer__max_df=0.6 [CV] vectorizer__min_df=0.1, transformer__use_idf=True, vectorizer__ngram_range=(1, 3), nbClassifier__fit_prior=False, vectorizer__max_df=0.75 [CV] vectorizer__min_df=0.1, transformer__use_idf=True, vectorizer__ngram_range=(1, 2), nbClassifier__fit_prior=False, vectorizer__max_df=0.6 [CV] vectorizer__min_df=0.01, transformer__use_idf=False, vectorizer__ngram_range=(1, 2), nbClassifier__fit_prior=False, vectorizer__max_df=0.6 [CV] vectorizer__min_df=0.01, transformer__use_idf=False, vectorizer__ngram_range=(1, 3), nbClassifier__fit_prior=False, vectorizer__max_df=0.75 [CV] vectorizer__min_df=0.01, transformer__use_idf=False, vectorizer__ngram_range=(1, 3), nbClassifier__fit_prior=False, vectorizer__max_df=0.75 \n",
      "\n",
      "\n",
      "\n",
      "\n",
      "\n",
      "\n",
      "\n",
      "\n",
      "\n",
      "\n",
      "\n",
      "\n",
      "\n",
      "\n",
      "\n",
      "[CV]  vectorizer__min_df=0.01, transformer__use_idf=True, vectorizer__ngram_range=(1, 1), nbClassifier__fit_prior=False, vectorizer__max_df=0.75, score=0.524410 -  33.9s[CV]  vectorizer__min_df=1000, transformer__use_idf=False, vectorizer__ngram_range=(1, 1), nbClassifier__fit_prior=False, vectorizer__max_df=0.6, score=0.498670 -  32.3s[CV]  vectorizer__min_df=0.01, transformer__use_idf=False, vectorizer__ngram_range=(1, 3), nbClassifier__fit_prior=True, vectorizer__max_df=0.75, score=0.508270 - 2.8min[CV]  vectorizer__min_df=0.1, transformer__use_idf=True, vectorizer__ngram_range=(1, 1), nbClassifier__fit_prior=False, vectorizer__max_df=0.6, score=0.404592 -  42.2s[CV]  vectorizer__min_df=0.1, transformer__use_idf=False, vectorizer__ngram_range=(1, 3), nbClassifier__fit_prior=False, vectorizer__max_df=0.6, score=0.410548 - 1.7min[CV]  vectorizer__min_df=1000, transformer__use_idf=False, vectorizer__ngram_range=(1, 1), nbClassifier__fit_prior=False, vectorizer__max_df=0.75, score=0.498670 -  25.1s[CV]  vectorizer__min_df=0.01, transformer__use_idf=True, vectorizer__ngram_range=(1, 2), nbClassifier__fit_prior=False, vectorizer__max_df=0.75, score=0.519150 - 1.2min[CV]  vectorizer__min_df=0.01, transformer__use_idf=True, vectorizer__ngram_range=(1, 2), nbClassifier__fit_prior=False, vectorizer__max_df=0.75, score=0.524490 - 1.2min[CV]  vectorizer__min_df=0.01, transformer__use_idf=False, vectorizer__ngram_range=(1, 2), nbClassifier__fit_prior=False, vectorizer__max_df=0.6, score=0.522690 - 1.0min[CV]  vectorizer__min_df=0.01, transformer__use_idf=False, vectorizer__ngram_range=(1, 1), nbClassifier__fit_prior=False, vectorizer__max_df=0.6, score=0.525771 -  28.8s[CV]  vectorizer__min_df=1000, transformer__use_idf=True, vectorizer__ngram_range=(1, 3), nbClassifier__fit_prior=False, vectorizer__max_df=0.6, score=0.496330 - 2.7min[CV]  vectorizer__min_df=0.1, transformer__use_idf=True, vectorizer__ngram_range=(1, 3), nbClassifier__fit_prior=False, vectorizer__max_df=0.75, score=0.407388 - 2.0min[CV]  vectorizer__min_df=0.1, transformer__use_idf=True, vectorizer__ngram_range=(1, 2), nbClassifier__fit_prior=False, vectorizer__max_df=0.6, score=0.407388 - 1.5min[CV]  vectorizer__min_df=0.01, transformer__use_idf=False, vectorizer__ngram_range=(1, 2), nbClassifier__fit_prior=False, vectorizer__max_df=0.6, score=0.527351 - 1.0min[CV]  vectorizer__min_df=0.01, transformer__use_idf=False, vectorizer__ngram_range=(1, 3), nbClassifier__fit_prior=False, vectorizer__max_df=0.75, score=0.527351 - 1.4min[CV]  vectorizer__min_df=0.01, transformer__use_idf=False, vectorizer__ngram_range=(1, 3), nbClassifier__fit_prior=False, vectorizer__max_df=0.75, score=0.522690 - 1.4min\n",
      "\n",
      "\n",
      "\n",
      "\n",
      "\n",
      "\n",
      "\n",
      "\n",
      "\n",
      "\n",
      "\n",
      "\n",
      "\n",
      "\n",
      "\n",
      "[CV] vectorizer__min_df=0.1, transformer__use_idf=True, vectorizer__ngram_range=(1, 2), nbClassifier__fit_prior=False, vectorizer__max_df=0.75 [CV] vectorizer__min_df=0.01, transformer__use_idf=False, vectorizer__ngram_range=(1, 1), nbClassifier__fit_prior=False, vectorizer__max_df=0.6 [CV] vectorizer__min_df=1000, transformer__use_idf=True, vectorizer__ngram_range=(1, 1), nbClassifier__fit_prior=False, vectorizer__max_df=0.75 [CV] vectorizer__min_df=1000, transformer__use_idf=True, vectorizer__ngram_range=(1, 2), nbClassifier__fit_prior=False, vectorizer__max_df=0.75 [CV] vectorizer__min_df=1000, transformer__use_idf=False, vectorizer__ngram_range=(1, 3), nbClassifier__fit_prior=False, vectorizer__max_df=0.75 [CV] vectorizer__min_df=0.01, transformer__use_idf=False, vectorizer__ngram_range=(1, 1), nbClassifier__fit_prior=False, vectorizer__max_df=0.75 [CV] vectorizer__min_df=1000, transformer__use_idf=False, vectorizer__ngram_range=(1, 3), nbClassifier__fit_prior=False, vectorizer__max_df=0.6 [CV] vectorizer__min_df=1000, transformer__use_idf=False, vectorizer__ngram_range=(1, 3), nbClassifier__fit_prior=False, vectorizer__max_df=0.6 [CV] vectorizer__min_df=1000, transformer__use_idf=False, vectorizer__ngram_range=(1, 3), nbClassifier__fit_prior=False, vectorizer__max_df=0.75 [CV] vectorizer__min_df=0.1, transformer__use_idf=False, vectorizer__ngram_range=(1, 1), nbClassifier__fit_prior=False, vectorizer__max_df=0.6 [CV] vectorizer__min_df=0.1, transformer__use_idf=True, vectorizer__ngram_range=(1, 2), nbClassifier__fit_prior=False, vectorizer__max_df=0.75 [CV] vectorizer__min_df=0.01, transformer__use_idf=False, vectorizer__ngram_range=(1, 2), nbClassifier__fit_prior=False, vectorizer__max_df=0.75 [CV] vectorizer__min_df=0.01, transformer__use_idf=True, vectorizer__ngram_range=(1, 3), nbClassifier__fit_prior=False, vectorizer__max_df=0.75 \n",
      "\n",
      "\n",
      "\n",
      "\n",
      "\n",
      "\n",
      "\n",
      "\n",
      "\n",
      "\n",
      "\n",
      "\n",
      "[CV]  vectorizer__min_df=0.1, transformer__use_idf=True, vectorizer__ngram_range=(1, 2), nbClassifier__fit_prior=False, vectorizer__max_df=0.75, score=0.404592 - 1.2min[CV]  vectorizer__min_df=0.01, transformer__use_idf=False, vectorizer__ngram_range=(1, 1), nbClassifier__fit_prior=False, vectorizer__max_df=0.6, score=0.522430 -  29.2s[CV]  vectorizer__min_df=1000, transformer__use_idf=True, vectorizer__ngram_range=(1, 1), nbClassifier__fit_prior=False, vectorizer__max_df=0.75, score=0.494890 -  38.2s[CV]  vectorizer__min_df=1000, transformer__use_idf=True, vectorizer__ngram_range=(1, 2), nbClassifier__fit_prior=False, vectorizer__max_df=0.75, score=0.495150 - 1.3min[CV]  vectorizer__min_df=1000, transformer__use_idf=False, vectorizer__ngram_range=(1, 3), nbClassifier__fit_prior=False, vectorizer__max_df=0.75, score=0.500410 - 1.5min[CV]  vectorizer__min_df=0.01, transformer__use_idf=False, vectorizer__ngram_range=(1, 1), nbClassifier__fit_prior=False, vectorizer__max_df=0.75, score=0.525771 -  26.0s[CV]  vectorizer__min_df=1000, transformer__use_idf=False, vectorizer__ngram_range=(1, 3), nbClassifier__fit_prior=False, vectorizer__max_df=0.6, score=0.500410 - 1.9min[CV]  vectorizer__min_df=1000, transformer__use_idf=False, vectorizer__ngram_range=(1, 3), nbClassifier__fit_prior=False, vectorizer__max_df=0.6, score=0.498850 - 1.9min[CV]  vectorizer__min_df=1000, transformer__use_idf=False, vectorizer__ngram_range=(1, 3), nbClassifier__fit_prior=False, vectorizer__max_df=0.75, score=0.498850 - 1.5min[CV]  vectorizer__min_df=0.1, transformer__use_idf=False, vectorizer__ngram_range=(1, 1), nbClassifier__fit_prior=False, vectorizer__max_df=0.6, score=0.408932 -  28.0s[CV]  vectorizer__min_df=0.1, transformer__use_idf=True, vectorizer__ngram_range=(1, 2), nbClassifier__fit_prior=False, vectorizer__max_df=0.75, score=0.407388 - 1.2min[CV]  vectorizer__min_df=0.01, transformer__use_idf=False, vectorizer__ngram_range=(1, 2), nbClassifier__fit_prior=False, vectorizer__max_df=0.75, score=0.527351 -  55.6s[CV]  vectorizer__min_df=0.01, transformer__use_idf=True, vectorizer__ngram_range=(1, 3), nbClassifier__fit_prior=False, vectorizer__max_df=0.75, score=0.524490 - 2.1min\n",
      "\n",
      "\n",
      "\n",
      "\n",
      "\n",
      "\n",
      "\n",
      "\n",
      "\n",
      "\n",
      "\n",
      "\n",
      "[CV] vectorizer__min_df=0.01, transformer__use_idf=False, vectorizer__ngram_range=(1, 3), nbClassifier__fit_prior=False, vectorizer__max_df=0.6 [CV] vectorizer__min_df=0.01, transformer__use_idf=False, vectorizer__ngram_range=(1, 3), nbClassifier__fit_prior=False, vectorizer__max_df=0.6 [CV] vectorizer__min_df=0.01, transformer__use_idf=True, vectorizer__ngram_range=(1, 1), nbClassifier__fit_prior=False, vectorizer__max_df=0.75 [CV] vectorizer__min_df=0.1, transformer__use_idf=True, vectorizer__ngram_range=(1, 3), nbClassifier__fit_prior=False, vectorizer__max_df=0.75 [CV] vectorizer__min_df=1000, transformer__use_idf=False, vectorizer__ngram_range=(1, 2), nbClassifier__fit_prior=False, vectorizer__max_df=0.75 [CV] vectorizer__min_df=0.1, transformer__use_idf=False, vectorizer__ngram_range=(1, 1), nbClassifier__fit_prior=False, vectorizer__max_df=0.75 [CV] vectorizer__min_df=0.1, transformer__use_idf=False, vectorizer__ngram_range=(1, 2), nbClassifier__fit_prior=False, vectorizer__max_df=0.75 [CV] vectorizer__min_df=0.1, transformer__use_idf=False, vectorizer__ngram_range=(1, 2), nbClassifier__fit_prior=False, vectorizer__max_df=0.75 [CV] vectorizer__min_df=0.1, transformer__use_idf=False, vectorizer__ngram_range=(1, 1), nbClassifier__fit_prior=False, vectorizer__max_df=0.6 [CV] vectorizer__min_df=1000, transformer__use_idf=False, vectorizer__ngram_range=(1, 1), nbClassifier__fit_prior=False, vectorizer__max_df=0.75 \n",
      "\n",
      "\n",
      "\n",
      "\n",
      "\n",
      "\n",
      "\n",
      "\n",
      "\n",
      "[CV]  vectorizer__min_df=0.01, transformer__use_idf=False, vectorizer__ngram_range=(1, 3), nbClassifier__fit_prior=False, vectorizer__max_df=0.6, score=0.522690 - 1.8min[CV]  vectorizer__min_df=0.01, transformer__use_idf=False, vectorizer__ngram_range=(1, 3), nbClassifier__fit_prior=False, vectorizer__max_df=0.6, score=0.527351 - 1.8min[CV]  vectorizer__min_df=0.01, transformer__use_idf=True, vectorizer__ngram_range=(1, 1), nbClassifier__fit_prior=False, vectorizer__max_df=0.75, score=0.521550 -  34.6s[CV]  vectorizer__min_df=0.1, transformer__use_idf=True, vectorizer__ngram_range=(1, 3), nbClassifier__fit_prior=False, vectorizer__max_df=0.75, score=0.404592 - 1.9min[CV]  vectorizer__min_df=1000, transformer__use_idf=False, vectorizer__ngram_range=(1, 2), nbClassifier__fit_prior=False, vectorizer__max_df=0.75, score=0.500410 -  59.1s[CV]  vectorizer__min_df=0.1, transformer__use_idf=False, vectorizer__ngram_range=(1, 1), nbClassifier__fit_prior=False, vectorizer__max_df=0.75, score=0.410548 -  27.2s[CV]  vectorizer__min_df=0.1, transformer__use_idf=False, vectorizer__ngram_range=(1, 2), nbClassifier__fit_prior=False, vectorizer__max_df=0.75, score=0.410548 -  46.6s[CV]  vectorizer__min_df=0.1, transformer__use_idf=False, vectorizer__ngram_range=(1, 2), nbClassifier__fit_prior=False, vectorizer__max_df=0.75, score=0.408932 -  46.6s"
     ]
    }
   ],
   "source": [
    "reviews_sample = reviews.sample(n = 100000)\n",
    "pipeline = Pipeline([\n",
    "    ('vectorizer',  CountVectorizer(stop_words='english')),\n",
    "    ('transformer', TfidfTransformer()),\n",
    "    ('nbClassifier',  MultinomialNB()) ])\n",
    "\n",
    "parameters = {\n",
    "    'vectorizer__ngram_range': ((1,1),(1,2),(1,3)),\n",
    "    'vectorizer__max_df': (0.6, 0.75),\n",
    "    'vectorizer__min_df': (1000, 0.01, 0.1),\n",
    "    'transformer__use_idf': (True, False),\n",
    "    'nbClassifier__fit_prior': (True, False) \n",
    "}\n",
    "        \n",
    "if __name__ == \"__main__\":\n",
    "    grid_search = GridSearchCV(pipeline, parameters, n_jobs=-1, verbose=10, cv=2)\n",
    "\n",
    "    print(\"pipeline:\", [name for name, _ in pipeline.steps])\n",
    "    print(\"parameters:\")\n",
    "    pprint(parameters)\n",
    "    t0 = time.time()\n",
    "    grid_search.fit(reviews_sample.Text.values, reviews_sample.Rating_nom.values)\n",
    "    print(\"done in %0.3fs\" % (time.time() - t0))\n",
    "    print(\"Best score: %0.3f\" % grid_search.best_score_)\n",
    "    print(\"Best parameters set:\")\n",
    "    best_parameters = grid_search.best_estimator_.get_params()\n",
    "    for param_name in sorted(parameters.keys()):\n",
    "        print(\"\\t%s: %r\" % (param_name, best_parameters[param_name]))"
   ]
  },
  {
   "cell_type": "markdown",
   "metadata": {},
   "source": [
    "### Multinomial Logistic Regression"
   ]
  },
  {
   "cell_type": "markdown",
   "metadata": {
    "collapsed": true
   },
   "source": [
    "See Yelp_Logistic_Regression_all.ipynb"
   ]
  },
  {
   "cell_type": "markdown",
   "metadata": {},
   "source": [
    "### Support Vector Machines"
   ]
  },
  {
   "cell_type": "code",
   "execution_count": 10,
   "metadata": {
    "collapsed": false,
    "scrolled": false
   },
   "outputs": [
    {
     "name": "stdout",
     "output_type": "stream",
     "text": [
      "pipeline: ['vectorizer', 'transformer', 'svmClassifier']\n",
      "parameters:\n",
      "{'svmClassifier__kernel': ('linear', 'poly', 'rbf', 'sigmoid'),\n",
      " 'vectorizer__ngram_range': ((1, 2), (1, 3))}\n",
      "Fitting 2 folds for each of 8 candidates, totalling 16 fits\n",
      "done in 5455.201s\n",
      "Best score: 0.559\n",
      "Best parameters set:\n",
      "\tsvmClassifier__kernel: 'linear'[CV] svmClassifier__kernel=linear, vectorizer__ngram_range=(1, 2) ....\n",
      "[CV] svmClassifier__kernel=linear, vectorizer__ngram_range=(1, 2) ....\n",
      "[CV] svmClassifier__kernel=linear, vectorizer__ngram_range=(1, 3) ....\n",
      "[CV] svmClassifier__kernel=linear, vectorizer__ngram_range=(1, 3) ....\n",
      "[CV] svmClassifier__kernel=poly, vectorizer__ngram_range=(1, 2) ......\n",
      "[CV] svmClassifier__kernel=poly, vectorizer__ngram_range=(1, 2) ......\n",
      "[CV] svmClassifier__kernel=poly, vectorizer__ngram_range=(1, 3) ......\n",
      "[CV] svmClassifier__kernel=poly, vectorizer__ngram_range=(1, 3) ......\n",
      "[CV] svmClassifier__kernel=rbf, vectorizer__ngram_range=(1, 2) .......\n",
      "[CV] svmClassifier__kernel=rbf, vectorizer__ngram_range=(1, 2) .......\n",
      "[CV] svmClassifier__kernel=rbf, vectorizer__ngram_range=(1, 3) .......\n",
      "[CV] svmClassifier__kernel=rbf, vectorizer__ngram_range=(1, 3) .......\n",
      "[CV] svmClassifier__kernel=sigmoid, vectorizer__ngram_range=(1, 2) ...\n",
      "[CV] svmClassifier__kernel=sigmoid, vectorizer__ngram_range=(1, 2) ...\n",
      "[CV] svmClassifier__kernel=sigmoid, vectorizer__ngram_range=(1, 3) ...\n",
      "[CV] svmClassifier__kernel=sigmoid, vectorizer__ngram_range=(1, 3) ...\n",
      "[CV]  svmClassifier__kernel=linear, vectorizer__ngram_range=(1, 2), score=0.558709 -30.6min[CV]  svmClassifier__kernel=linear, vectorizer__ngram_range=(1, 2), score=0.560251 -30.4min[CV]  svmClassifier__kernel=linear, vectorizer__ngram_range=(1, 3), score=0.558709 -34.5min[CV]  svmClassifier__kernel=linear, vectorizer__ngram_range=(1, 3), score=0.560251 -34.6min[CV]  svmClassifier__kernel=poly, vectorizer__ngram_range=(1, 2), score=0.336013 -37.7min[CV]  svmClassifier__kernel=poly, vectorizer__ngram_range=(1, 2), score=0.336007 -37.8min[CV]  svmClassifier__kernel=poly, vectorizer__ngram_range=(1, 3), score=0.336013 -41.1min[CV]  svmClassifier__kernel=poly, vectorizer__ngram_range=(1, 3), score=0.336007 -42.1min[CV]  svmClassifier__kernel=rbf, vectorizer__ngram_range=(1, 2), score=0.336133 -41.5min[CV]  svmClassifier__kernel=rbf, vectorizer__ngram_range=(1, 2), score=0.336067 -42.9min[CV]  svmClassifier__kernel=rbf, vectorizer__ngram_range=(1, 3), score=0.336133 -44.6min[CV]  svmClassifier__kernel=rbf, vectorizer__ngram_range=(1, 3), score=0.336067 -44.7min[CV]  svmClassifier__kernel=sigmoid, vectorizer__ngram_range=(1, 2), score=0.336013 -36.9min[CV]  svmClassifier__kernel=sigmoid, vectorizer__ngram_range=(1, 2), score=0.336007 -36.7min[CV]  svmClassifier__kernel=sigmoid, vectorizer__ngram_range=(1, 3), score=0.336013 -40.4min[CV]  svmClassifier__kernel=sigmoid, vectorizer__ngram_range=(1, 3), score=0.336007 -40.6min\n",
      "\n",
      "\n",
      "\n",
      "\n",
      "\n",
      "\n",
      "\n",
      "\n",
      "\n",
      "\n",
      "\n",
      "\n",
      "\n",
      "\n",
      "\n",
      "\n",
      "\tvectorizer__ngram_range: (1, 2)\n"
     ]
    },
    {
     "name": "stderr",
     "output_type": "stream",
     "text": [
      "[Parallel(n_jobs=-1)]: Done  16 out of  16 | elapsed: 44.7min finished\n"
     ]
    }
   ],
   "source": [
    "reviews_sample = reviews.sample(n = 100000)\n",
    "pipeline = Pipeline([\n",
    "    ('vectorizer',  CountVectorizer(stop_words='english',\n",
    "                                   max_df=0.6, min_df=0.01)),\n",
    "    ('transformer', TfidfTransformer(use_idf=True)),\n",
    "    ('svmClassifier',  SVC()) ])\n",
    "parameters = {\n",
    "    'vectorizer__ngram_range': ((1,2),(1,3)),\n",
    "    'svmClassifier__kernel': ('linear', 'poly', 'rbf', 'sigmoid'),\n",
    "}\n",
    "        \n",
    "if __name__ == \"__main__\":\n",
    "    grid_search = GridSearchCV(pipeline, parameters, n_jobs=-1, verbose=10, cv=2)\n",
    "\n",
    "    print(\"pipeline:\", [name for name, _ in pipeline.steps])\n",
    "    print(\"parameters:\")\n",
    "    pprint(parameters)\n",
    "    t0 = time.time()\n",
    "    grid_search.fit(reviews_sample.Text.values, reviews_sample.Rating_nom.values)\n",
    "    print(\"done in %0.3fs\" % (time.time() - t0))\n",
    "    print(\"Best score: %0.3f\" % grid_search.best_score_)\n",
    "    print(\"Best parameters set:\")\n",
    "    best_parameters = grid_search.best_estimator_.get_params()\n",
    "    for param_name in sorted(parameters.keys()):\n",
    "        print(\"\\t%s: %r\" % (param_name, best_parameters[param_name]))"
   ]
  },
  {
   "cell_type": "code",
   "execution_count": null,
   "metadata": {
    "collapsed": true
   },
   "outputs": [],
   "source": []
  }
 ],
 "metadata": {
  "kernelspec": {
   "display_name": "Python 2",
   "language": "python",
   "name": "python2"
  },
  "language_info": {
   "codemirror_mode": {
    "name": "ipython",
    "version": 2
   },
   "file_extension": ".py",
   "mimetype": "text/x-python",
   "name": "python",
   "nbconvert_exporter": "python",
   "pygments_lexer": "ipython2",
   "version": "2.7.11"
  }
 },
 "nbformat": 4,
 "nbformat_minor": 0
}
