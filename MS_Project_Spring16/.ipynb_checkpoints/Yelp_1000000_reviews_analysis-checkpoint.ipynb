{
 "cells": [
  {
   "cell_type": "markdown",
   "metadata": {},
   "source": [
    "# Yelp Review Rating Prediction Using Text\n",
    "### Tatiana Romanchishina"
   ]
  },
  {
   "cell_type": "code",
   "execution_count": 1,
   "metadata": {
    "collapsed": false
   },
   "outputs": [
    {
     "name": "stderr",
     "output_type": "stream",
     "text": [
      "/home/ubuntu/anaconda2/lib/python2.7/site-packages/pandas/computation/__init__.py:19: UserWarning: The installed version of numexpr 2.4.4 is not supported in pandas and will be not be used\n",
      "\n",
      "  UserWarning)\n"
     ]
    }
   ],
   "source": [
    "### libraries\n",
    "import numpy as np\n",
    "import pandas as pd\n",
    "import matplotlib as mpl\n",
    "\n",
    "import matplotlib.pyplot as plt\n",
    "%matplotlib inline\n",
    "\n",
    "from pylab import *\n",
    "import itertools\n",
    "import random\n",
    "import scipy\n",
    "import six\n",
    "import re\n",
    "\n",
    "from __future__ import print_function\n",
    "from pprint import pprint\n",
    "import time as time\n",
    "import seaborn as sns\n",
    "sns.set()"
   ]
  },
  {
   "cell_type": "markdown",
   "metadata": {},
   "source": [
    "#### Connect to Amazon S3 storage and download the file"
   ]
  },
  {
   "cell_type": "code",
   "execution_count": 2,
   "metadata": {
    "collapsed": false
   },
   "outputs": [
    {
     "name": "stdout",
     "output_type": "stream",
     "text": [
      "reviews_all.csv\t663830339\t2016-05-03T17:35:07.000Z\n"
     ]
    }
   ],
   "source": [
    "import boto\n",
    "import boto.s3.connection\n",
    "from boto.s3.connection import S3Connection\n",
    "conn = S3Connection()\n",
    "bucket = conn.get_bucket('yelp-rest-reviews')\n",
    "for key in bucket.list():\n",
    "        print (\"{name}\\t{size}\\t{modified}\".format(\n",
    "                name = key.name,\n",
    "                size = key.size,\n",
    "                modified = key.last_modified,\n",
    "                ))"
   ]
  },
  {
   "cell_type": "code",
   "execution_count": 3,
   "metadata": {
    "collapsed": true
   },
   "outputs": [],
   "source": [
    "key = bucket.get_key('reviews_all.csv')\n",
    "key.get_contents_to_filename('/home/ubuntu/yelp/reviews_all.csv')"
   ]
  },
  {
   "cell_type": "markdown",
   "metadata": {},
   "source": [
    "### Load the data into a dataframe"
   ]
  },
  {
   "cell_type": "code",
   "execution_count": 2,
   "metadata": {
    "collapsed": false
   },
   "outputs": [
    {
     "data": {
      "text/html": [
       "<div>\n",
       "<table border=\"1\" class=\"dataframe\">\n",
       "  <thead>\n",
       "    <tr style=\"text-align: right;\">\n",
       "      <th></th>\n",
       "      <th>Text</th>\n",
       "      <th>Rating_nom</th>\n",
       "    </tr>\n",
       "  </thead>\n",
       "  <tbody>\n",
       "    <tr>\n",
       "      <th>0</th>\n",
       "      <td>I was underwhelmed   I ordered the filet and i...</td>\n",
       "      <td>two</td>\n",
       "    </tr>\n",
       "    <tr>\n",
       "      <th>1</th>\n",
       "      <td>Fun environment  friendly staff and decent foo...</td>\n",
       "      <td>four</td>\n",
       "    </tr>\n",
       "    <tr>\n",
       "      <th>2</th>\n",
       "      <td>Benjamin s is good bar  restaurant on the Nort...</td>\n",
       "      <td>five</td>\n",
       "    </tr>\n",
       "    <tr>\n",
       "      <th>3</th>\n",
       "      <td>This place is awesome  The food is great and t...</td>\n",
       "      <td>five</td>\n",
       "    </tr>\n",
       "    <tr>\n",
       "      <th>4</th>\n",
       "      <td>We loved Eddie  and his very appeasing accent ...</td>\n",
       "      <td>five</td>\n",
       "    </tr>\n",
       "  </tbody>\n",
       "</table>\n",
       "</div>"
      ],
      "text/plain": [
       "                                                Text Rating_nom\n",
       "0  I was underwhelmed   I ordered the filet and i...        two\n",
       "1  Fun environment  friendly staff and decent foo...       four\n",
       "2  Benjamin s is good bar  restaurant on the Nort...       five\n",
       "3  This place is awesome  The food is great and t...       five\n",
       "4  We loved Eddie  and his very appeasing accent ...       five"
      ]
     },
     "execution_count": 2,
     "metadata": {},
     "output_type": "execute_result"
    }
   ],
   "source": [
    "path = r'/home/ubuntu/yelp/reviews_all.csv'\n",
    "reviews = pd.read_csv(path)\n",
    "reviews['Rating_nom'] = [\"one\" if Rating == 1 else \"two\" if Rating == 2 else \"three\" if Rating == 3 \n",
    "                else \"four\" if Rating == 4 else \"five\" for Rating in reviews.Rating]\n",
    "reviews = reviews[['Text','Rating_nom']]\n",
    "reviews.head()"
   ]
  },
  {
   "cell_type": "code",
   "execution_count": 3,
   "metadata": {
    "collapsed": false
   },
   "outputs": [
    {
     "data": {
      "text/plain": [
       "(990627, 2)"
      ]
     },
     "execution_count": 3,
     "metadata": {},
     "output_type": "execute_result"
    }
   ],
   "source": [
    "reviews.shape"
   ]
  },
  {
   "cell_type": "markdown",
   "metadata": {},
   "source": [
    "#### Load the necessary Machine Learning libraries"
   ]
  },
  {
   "cell_type": "code",
   "execution_count": 3,
   "metadata": {
    "collapsed": false
   },
   "outputs": [],
   "source": [
    "from sklearn.feature_extraction.text import CountVectorizer\n",
    "from sklearn.feature_extraction.text import TfidfTransformer\n",
    "\n",
    "from sklearn.svm import SVC \n",
    "from sklearn.naive_bayes import MultinomialNB\n",
    "from sklearn.neighbors import KNeighborsClassifier\n",
    "from sklearn.linear_model import LogisticRegression\n",
    "\n",
    "from sklearn.grid_search import GridSearchCV\n",
    "from sklearn.pipeline import Pipeline\n",
    "from sklearn.cross_validation import KFold\n",
    "from sklearn.metrics import confusion_matrix, f1_score\n",
    "from sklearn import metrics\n",
    "from sklearn.cross_validation import train_test_split"
   ]
  },
  {
   "cell_type": "markdown",
   "metadata": {},
   "source": [
    "#### Helper function for plotting confusion matrix"
   ]
  },
  {
   "cell_type": "code",
   "execution_count": 4,
   "metadata": {
    "collapsed": true
   },
   "outputs": [],
   "source": [
    "labels = [\"one\",\"two\",\"three\",\"four\",\"five\"]\n",
    "\n",
    "def plot_confusion(confmat):\n",
    "    fig = plt.figure()\n",
    "    ax = fig.add_subplot(111)\n",
    "    cax = ax.matshow(confmat)\n",
    "    plt.title('Confusion matrix of the classifier')\n",
    "    fig.colorbar(cax)\n",
    "    ax.set_xticklabels([''] + labels)\n",
    "    ax.set_yticklabels([''] + labels)\n",
    "    plt.xlabel('Predicted')\n",
    "    plt.ylabel('True')\n",
    "    plt.show()"
   ]
  },
  {
   "cell_type": "code",
   "execution_count": 5,
   "metadata": {
    "collapsed": false
   },
   "outputs": [
    {
     "data": {
      "text/plain": [
       "sklearn.cross_validation.KFold(n=990627, n_folds=2, shuffle=False, random_state=None)"
      ]
     },
     "execution_count": 5,
     "metadata": {},
     "output_type": "execute_result"
    }
   ],
   "source": [
    "k_fold = KFold(n=len(reviews), n_folds=2)\n",
    "k_fold"
   ]
  },
  {
   "cell_type": "code",
   "execution_count": null,
   "metadata": {
    "collapsed": false
   },
   "outputs": [
    {
     "name": "stdout",
     "output_type": "stream",
     "text": [
      "             precision    recall  f1-score   support\n",
      "\n",
      "        one       0.55      0.67      0.60     43983\n",
      "        two       0.40      0.38      0.39     48605\n",
      "      three       0.45      0.41      0.43     76837\n",
      "       four       0.55      0.50      0.52    159890\n",
      "       five       0.66      0.73      0.69    165999\n",
      "\n",
      "avg / total       0.56      0.56      0.56    495314\n",
      "\n",
      "             precision    recall  f1-score   support\n",
      "\n",
      "        one       0.54      0.67      0.60     43230\n",
      "        two       0.41      0.37      0.39     48971\n",
      "      three       0.45      0.41      0.43     76785\n",
      "       four       0.55      0.50      0.52    159648\n",
      "       five       0.66      0.73      0.69    166679\n",
      "\n",
      "avg / total       0.56      0.56      0.56    495313\n",
      "\n",
      "Total reviews classified: 990627\n",
      "Confusion matrix:\n",
      "[[  58494.   19832.    4646.    2144.    2097.]\n",
      " [  24650.   36517.   26255.    7029.    3125.]\n",
      " [  11393.   21220.   62528.   46613.   11868.]\n",
      " [   7119.    8764.   37277.  158738.  107640.]\n",
      " [   5522.    3507.    7670.   72915.  243064.]]\n"
     ]
    },
    {
     "data": {
      "image/png": "[encoded data removed]",
      "text/plain": [
       "<matplotlib.figure.Figure at 0x7f99c5c7ec90>"
      ]
     },
     "metadata": {},
     "output_type": "display_data"
    }
   ],
   "source": [
    "pipeline = Pipeline([\n",
    "    ('vectorizer',  CountVectorizer(stop_words='english',\n",
    "                                   max_df=0.7, min_df=100)),\n",
    "    #('transformer', TfidfTransformer()),\n",
    "    ('classifier',  MultinomialNB()) ])\n",
    "\n",
    "k_fold = KFold(n=len(reviews), n_folds=2)\n",
    "scores = []\n",
    "confusion = np.zeros(shape=(5,5))\n",
    "for train_indices, test_indices in k_fold:\n",
    "    train_text = reviews.iloc[train_indices]['Text'].values\n",
    "    train_y = reviews.iloc[train_indices]['Rating_nom'].values\n",
    "\n",
    "    test_text = reviews.iloc[test_indices]['Text'].values\n",
    "    test_y = reviews.iloc[test_indices]['Rating_nom'].values\n",
    "\n",
    "    pipeline.fit(train_text, train_y)\n",
    "    predictions = pipeline.predict(test_text)\n",
    "\n",
    "    confusion += confusion_matrix(test_y, predictions, \n",
    "                                  labels = labels)\n",
    "    print(metrics.classification_report(test_y, predictions, labels = labels))\n",
    "print('Total reviews classified:', len(reviews))\n",
    "#print('Score:', sum(scores)/len(scores))\n",
    "print('Confusion matrix:')\n",
    "print(confusion)\n",
    "plot_confusion(confusion)"
   ]
  },
  {
   "cell_type": "code",
   "execution_count": null,
   "metadata": {
    "collapsed": false
   },
   "outputs": [
    {
     "name": "stdout",
     "output_type": "stream",
     "text": [
      "             precision    recall  f1-score   support\n",
      "\n",
      "        one       0.68      0.69      0.68     21843\n",
      "        two       0.50      0.40      0.45     24555\n",
      "      three       0.51      0.41      0.46     38626\n",
      "       four       0.55      0.60      0.57     80806\n",
      "       five       0.69      0.71      0.70     84170\n",
      "\n",
      "avg / total       0.59      0.60      0.59    250000\n",
      "\n",
      "             precision    recall  f1-score   support\n",
      "\n",
      "        one       0.68      0.69      0.68     22091\n",
      "        two       0.50      0.41      0.45     24493\n",
      "      three       0.52      0.41      0.46     38717\n",
      "       four       0.55      0.60      0.58     80656\n",
      "       five       0.69      0.72      0.70     84043\n",
      "\n",
      "avg / total       0.60      0.60      0.60    250000\n",
      "\n",
      "Total reviews classified: 500000\n",
      "SVM with two fold cross validation on 150000 reviews took (min): 2122.65365038\n",
      "Confusion matrix:\n",
      "[[  30193.    8857.    2151.    1742.     991.]\n",
      " [  10006.   20091.   12621.    4955.    1375.]\n",
      " [   2689.    9244.   32081.   28732.    4597.]\n",
      " [   1027.    1639.   13569.   97312.   47915.]\n",
      " [    666.     479.    1995.   44733.  120340.]]\n"
     ]
    },
    {
     "data": {
      "image/png": "[encoded data removed]",
      "text/plain": [
       "<matplotlib.figure.Figure at 0x7f123ad7bb10>"
      ]
     },
     "metadata": {},
     "output_type": "display_data"
    }
   ],
   "source": [
    "from time import time\n",
    "reviews_500K = reviews.sample(n = 500000)\n",
    "t0 = time()\n",
    "pipeline = Pipeline([\n",
    "    ('vectorizer',  CountVectorizer(ngram_range=(1,3), stop_words='english',\n",
    "                                   max_df=0.7, min_df=100)),\n",
    "    ('transformer', TfidfTransformer()),\n",
    "    ('classifier',  SVC(kernel='linear')) ])\n",
    "\n",
    "k_fold = KFold(n=len(reviews_500K), n_folds=2)\n",
    "scores = []\n",
    "confusion = np.zeros(shape=(5,5))\n",
    "for train_indices, test_indices in k_fold:\n",
    "    train_text = reviews_500K.iloc[train_indices]['Text'].values\n",
    "    train_y = reviews_500K.iloc[train_indices]['Rating_nom'].values\n",
    "\n",
    "    test_text = reviews_500K.iloc[test_indices]['Text'].values\n",
    "    test_y = reviews_500K.iloc[test_indices]['Rating_nom'].values\n",
    "\n",
    "    pipeline.fit(train_text, train_y)\n",
    "    predictions = pipeline.predict(test_text)\n",
    "\n",
    "    confusion += confusion_matrix(test_y, predictions, \n",
    "                                  labels = labels)\n",
    "    print(metrics.classification_report(test_y, predictions, labels = labels))\n",
    "\n",
    "print('Total reviews classified:', len(reviews_500K))\n",
    "print('SVM with two fold cross validation on 150000 reviews took (min):', (time()-t0)/60)\n",
    "print('Confusion matrix:')\n",
    "print(confusion)\n",
    "plot_confusion(confusion)"
   ]
  },
  {
   "cell_type": "markdown",
   "metadata": {},
   "source": [
    "## Parameter Tuning"
   ]
  },
  {
   "cell_type": "markdown",
   "metadata": {},
   "source": [
    "### Multinomial Naive Bayes"
   ]
  },
  {
   "cell_type": "code",
   "execution_count": null,
   "metadata": {
    "collapsed": false
   },
   "outputs": [
    {
     "name": "stdout",
     "output_type": "stream",
     "text": [
      "pipeline: ['vectorizer', 'transformer', 'nbClassifier']\n",
      "parameters:\n",
      "{'transformer__use_idf': (True, False),\n",
      " 'vectorizer__max_df': (0.6, 0.75, 1.0),\n",
      " 'vectorizer__min_df': (100, 0.1, 0.3),\n",
      " 'vectorizer__ngram_range': ((1, 1), (1, 2), (1, 3))}\n",
      "Fitting 3 folds for each of 54 candidates, totalling 162 fits\n"
     ]
    }
   ],
   "source": [
    "pipeline = Pipeline([\n",
    "    ('vectorizer',  CountVectorizer(stop_words='english')),\n",
    "  #  ('transformer', TfidfTransformer()),\n",
    "    ('nbClassifier',  MultinomialNB()) ])\n",
    "\n",
    "parameters = {\n",
    "    'vectorizer__ngram_range': ((1,1),(1,2)),\n",
    "    'vectorizer__max_df': (0.6, 0.75, 1.0),\n",
    "    'vectorizer__min_df': (100, 0.1, 0.3),\n",
    " #   'transformer__use_idf': (True, False),\n",
    "    #'transformer__norm': ('l1', 'l2'),\n",
    "    #'nbClassifier__fir_prior': (True, False) \n",
    "   # 'nbClassifier__alpha': (0.0, 0.5, 1.0)\n",
    "}\n",
    "        \n",
    "if __name__ == \"__main__\":\n",
    "    grid_search_nb = GridSearchCV(pipeline, parameters, n_jobs=-1, verbose=10)\n",
    "\n",
    "    print(\"pipeline:\", [name for name, _ in pipeline.steps])\n",
    "    print(\"parameters:\")\n",
    "    pprint(parameters)\n",
    "    t0 = time.time()\n",
    "    grid_search_nb.fit(reviews.Text.values, reviews.Rating_nom.values)\n",
    "    print(\"done in %0.3fs\" % (time.time() - t0))\n",
    "    print(\"Best score: %0.3f\" % grid_search_nb.best_score_)\n",
    "    print(\"Best parameters set:\")\n",
    "    best_parameters = grid_search_nb.best_estimator_.get_params()\n",
    "    for param_name in sorted(parameters.keys()):\n",
    "        print(\"\\t%s: %r\" % (param_name, best_parameters[param_name]))"
   ]
  },
  {
   "cell_type": "markdown",
   "metadata": {},
   "source": [
    "### Multinomial Logistic Regression"
   ]
  },
  {
   "cell_type": "code",
   "execution_count": null,
   "metadata": {
    "collapsed": false
   },
   "outputs": [],
   "source": [
    "pipeline = Pipeline([\n",
    "    ('vectorizer',  CountVectorizer(stop_words='english')),\n",
    "    ('transformer', TfidfTransformer()),\n",
    "    ('lrClassifier',  LogisticRegression(multi_class='multinomial',solver='lbfgs')) ])\n",
    "\n",
    "parameters = {\n",
    "    'vectorizer__ngram_range': ((1,1),(1,2),(1,3)),\n",
    "    'vectorizer__max_df': (0.5,0.75,1.0),\n",
    "    'vectorizer__min_df': (1, 10, 0.01, 0.1),\n",
    "    'transformer__use_idf': (True, False),\n",
    "    #'transformer__norm': ('l1', 'l2'),\n",
    "    'lrClassifier__max_iter': (50, 100, 200) \n",
    "    'lrClassifier__C': (0.1, 1.0, 10.0)\n",
    "}\n",
    "        \n",
    "if __name__ == \"__main__\":\n",
    "    grid_search1 = GridSearchCV(pipeline, parameters, n_jobs=-1, verbose=10)\n",
    "\n",
    "    print(\"pipeline:\", [name for name, _ in pipeline.steps])\n",
    "    print(\"parameters:\")\n",
    "    pprint(parameters)\n",
    "    t0 = time.time()\n",
    "    grid_search1.fit(reviews.Text.values, reviews.Rating_nom.values)\n",
    "    print(\"done in %0.3fs\" % (time.time() - t0))\n",
    "    print(\"Best score: %0.3f\" % grid_search1.best_score_)\n",
    "    print(\"Best parameters set:\")\n",
    "    best_parameters = grid_search1.best_estimator_.get_params()\n",
    "    for param_name in sorted(parameters.keys()):\n",
    "        print(\"\\t%s: %r\" % (param_name, best_parameters[param_name]))"
   ]
  },
  {
   "cell_type": "markdown",
   "metadata": {},
   "source": [
    "### Support Vector Machines"
   ]
  },
  {
   "cell_type": "code",
   "execution_count": null,
   "metadata": {
    "collapsed": false
   },
   "outputs": [
    {
     "name": "stdout",
     "output_type": "stream",
     "text": [
      "pipeline: ['vectorizer', 'transformer', 'svmClassifier']\n",
      "parameters:\n",
      "{'svmClassifier__kernel': ('linear', 'poly', 'rbf', 'sigmoid'),\n",
      " 'transformer__use_idf': (True, False),\n",
      " 'vectorizer__max_df': (0.5, 0.75, 1.0),\n",
      " 'vectorizer__min_df': (1, 10, 0.01, 0.1),\n",
      " 'vectorizer__ngram_range': ((1, 1), (1, 2), (1, 3))}\n",
      "Fitting 3 folds for each of 288 candidates, totalling 864 fits\n"
     ]
    }
   ],
   "source": [
    "pipeline = Pipeline([\n",
    "    ('vectorizer',  CountVectorizer(stop_words='english')),\n",
    "    ('transformer', TfidfTransformer()),\n",
    "    ('svmClassifier',  SVC()) ])\n",
    "parameters = {\n",
    "    'vectorizer__ngram_range': ((1,1),(1,2),(1,3)),\n",
    "    'vectorizer__max_df': (0.5,0.75,1.0),\n",
    "    'vectorizer__min_df': (1, 10, 0.01, 0.1),\n",
    "    'transformer__use_idf': (True, False),\n",
    "    #'transformer__norm': ('l1', 'l2'),\n",
    "    'svmClassifier__kernel': ('linear', 'poly', 'rbf', 'sigmoid'),\n",
    "    #'svmClassifier__C': (0.1, 1.0, 10.0)\n",
    "}\n",
    "        \n",
    "if __name__ == \"__main__\":\n",
    "    grid_search = GridSearchCV(pipeline, parameters, n_jobs=-1, verbose=10)\n",
    "\n",
    "    print(\"pipeline:\", [name for name, _ in pipeline.steps])\n",
    "    print(\"parameters:\")\n",
    "    pprint(parameters)\n",
    "    t0 = time.time()\n",
    "    grid_search.fit(reviews.Text.values, reviews.Rating_nom.values)\n",
    "    print(\"done in %0.3fs\" % (time.time() - t0))\n",
    "    print(\"Best score: %0.3f\" % grid_search.best_score_)\n",
    "    print(\"Best parameters set:\")\n",
    "    best_parameters = grid_search.best_estimator_.get_params()\n",
    "    for param_name in sorted(parameters.keys()):\n",
    "        print(\"\\t%s: %r\" % (param_name, best_parameters[param_name]))"
   ]
  },
  {
   "cell_type": "code",
   "execution_count": null,
   "metadata": {
    "collapsed": true
   },
   "outputs": [],
   "source": [
    "print(\"Best score: %0.3f\" % grid_search.best_score_)\n",
    "print(\"Best parameters set:\")\n",
    "best_parameters = grid_search.best_estimator_.get_params()\n",
    "for param_name in sorted(parameters.keys()):\n",
    "    print(\"\\t%s: %r\" % (param_name, best_parameters[param_name]))"
   ]
  },
  {
   "cell_type": "code",
   "execution_count": null,
   "metadata": {
    "collapsed": true
   },
   "outputs": [],
   "source": [
    "print(\"Best score: %0.3f\" % grid_search1.best_score_)\n",
    "print(\"Best parameters set:\")\n",
    "best_parameters = grid_search1.best_estimator_.get_params()\n",
    "for param_name in sorted(parameters.keys()):\n",
    "    print(\"\\t%s: %r\" % (param_name, best_parameters[param_name]))"
   ]
  },
  {
   "cell_type": "code",
   "execution_count": null,
   "metadata": {
    "collapsed": true
   },
   "outputs": [],
   "source": [
    "print(\"Best score: %0.3f\" % grid_search2.best_score_)\n",
    "print(\"Best parameters set:\")\n",
    "best_parameters = grid_search2.best_estimator_.get_params()\n",
    "for param_name in sorted(parameters.keys()):\n",
    "    print(\"\\t%s: %r\" % (param_name, best_parameters[param_name]))"
   ]
  },
  {
   "cell_type": "code",
   "execution_count": null,
   "metadata": {
    "collapsed": true
   },
   "outputs": [],
   "source": []
  }
 ],
 "metadata": {
  "kernelspec": {
   "display_name": "Python 2",
   "language": "python",
   "name": "python2"
  },
  "language_info": {
   "codemirror_mode": {
    "name": "ipython",
    "version": 2
   },
   "file_extension": ".py",
   "mimetype": "text/x-python",
   "name": "python",
   "nbconvert_exporter": "python",
   "pygments_lexer": "ipython2",
   "version": "2.7.11"
  }
 },
 "nbformat": 4,
 "nbformat_minor": 0
}
