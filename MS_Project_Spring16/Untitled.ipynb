{
 "cells": [
  {
   "cell_type": "code",
   "execution_count": 1,
   "metadata": {
    "collapsed": false
   },
   "outputs": [
    {
     "name": "stderr",
     "output_type": "stream",
     "text": [
      "/home/ubuntu/anaconda2/lib/python2.7/site-packages/pandas/computation/__init__.py:19: UserWarning: The installed version of numexpr 2.4.4 is not supported in pandas and will be not be used\n",
      "\n",
      "  UserWarning)\n"
     ]
    }
   ],
   "source": [
    "### libraries\n",
    "import numpy as np\n",
    "import pandas as pd\n",
    "import matplotlib as mpl\n",
    "\n",
    "import matplotlib.pyplot as plt\n",
    "%matplotlib inline\n",
    "\n",
    "from pylab import *\n",
    "import itertools\n",
    "import random\n",
    "import scipy\n",
    "import six\n",
    "import re\n",
    "\n",
    "from __future__ import print_function\n",
    "from pprint import pprint\n",
    "import time as time\n",
    "import seaborn as sns\n",
    "sns.set()\n",
    "\n",
    "from sklearn.feature_extraction.text import CountVectorizer\n",
    "from sklearn.feature_extraction.text import TfidfTransformer\n",
    "\n",
    "from sklearn.svm import SVC \n",
    "from sklearn.naive_bayes import MultinomialNB\n",
    "from sklearn.neighbors import KNeighborsClassifier\n",
    "from sklearn.linear_model import LogisticRegression\n",
    "\n",
    "from sklearn.grid_search import GridSearchCV\n",
    "from sklearn.pipeline import Pipeline\n",
    "from sklearn.cross_validation import KFold\n",
    "from sklearn.metrics import confusion_matrix, f1_score\n",
    "from sklearn import metrics\n",
    "from sklearn.cross_validation import train_test_split"
   ]
  },
  {
   "cell_type": "code",
   "execution_count": 2,
   "metadata": {
    "collapsed": true
   },
   "outputs": [],
   "source": [
    "path = r'/home/ubuntu/yelp/reviews_all.csv'\n",
    "reviews = pd.read_csv(path)\n",
    "reviews['Rating_nom'] = [\"one\" if Rating == 1 else \"two\" if Rating == 2 else \"three\" if Rating == 3 \n",
    "                else \"four\" if Rating == 4 else \"five\" for Rating in reviews.Rating]\n",
    "reviews = reviews[['Text','Rating_nom']]"
   ]
  },
  {
   "cell_type": "code",
   "execution_count": 4,
   "metadata": {
    "collapsed": true
   },
   "outputs": [],
   "source": [
    "labels = [\"one\",\"two\",\"three\",\"four\",\"five\"]\n",
    "\n",
    "def plot_confusion(confmat):\n",
    "    fig = plt.figure()\n",
    "    ax = fig.add_subplot(111)\n",
    "    cax = ax.matshow(confmat)\n",
    "    plt.title('Confusion matrix of the classifier')\n",
    "    fig.colorbar(cax)\n",
    "    ax.set_xticklabels([''] + labels)\n",
    "    ax.set_yticklabels([''] + labels)\n",
    "    plt.xlabel('Predicted')\n",
    "    plt.ylabel('True')\n",
    "    plt.show()"
   ]
  },
  {
   "cell_type": "code",
   "execution_count": 5,
   "metadata": {
    "collapsed": false
   },
   "outputs": [
    {
     "name": "stdout",
     "output_type": "stream",
     "text": [
      "             precision    recall  f1-score   support\n",
      "\n",
      "        one       0.68      0.69      0.68     29184\n",
      "        two       0.50      0.43      0.46     32409\n",
      "      three       0.52      0.44      0.48     51230\n",
      "       four       0.56      0.56      0.56    106542\n",
      "       five       0.68      0.75      0.71    110844\n",
      "\n",
      "avg / total       0.60      0.60      0.60    330209\n",
      "\n",
      "             precision    recall  f1-score   support\n",
      "\n",
      "        one       0.68      0.69      0.68     29226\n",
      "        two       0.50      0.43      0.46     32474\n",
      "      three       0.51      0.43      0.47     51161\n",
      "       four       0.56      0.57      0.56    106666\n",
      "       five       0.68      0.74      0.71    110682\n",
      "\n",
      "avg / total       0.60      0.60      0.60    330209\n",
      "\n",
      "             precision    recall  f1-score   support\n",
      "\n",
      "        one       0.67      0.68      0.68     28803\n",
      "        two       0.50      0.42      0.46     32693\n",
      "      three       0.51      0.44      0.47     51231\n",
      "       four       0.55      0.58      0.57    106330\n",
      "       five       0.68      0.73      0.71    111152\n",
      "\n",
      "avg / total       0.60      0.60      0.60    330209\n",
      "\n",
      "Total reviews classified: 990627\n",
      "Confusion matrix:\n",
      "[[  59761.   17214.    4337.    3671.    2230.]\n",
      " [  20332.   41486.   24642.    8342.    2774.]\n",
      " [   5087.   19658.   67209.   51684.    9984.]\n",
      " [   1783.    3585.   30180.  182455.  101535.]\n",
      " [   1193.     908.    4308.   80689.  245580.]]\n"
     ]
    },
    {
     "data": {
      "image/png": "[encoded data removed]",
      "text/plain": [
       "<matplotlib.figure.Figure at 0x7fd0b01c18d0>"
      ]
     },
     "metadata": {},
     "output_type": "display_data"
    }
   ],
   "source": [
    "pipeline = Pipeline([\n",
    "    ('vectorizer',  CountVectorizer(ngram_range=(1,3), stop_words='english',\n",
    "                                   max_df=0.75, min_df=100)),\n",
    "    #('transformer', TfidfTransformer()),\n",
    "    ('classifier',  LogisticRegression(multi_class='multinomial',solver='lbfgs')) ])\n",
    "\n",
    "k_fold = KFold(n=len(reviews), n_folds=3)\n",
    "scores = []\n",
    "confusion = np.zeros(shape=(5,5))\n",
    "for train_indices, test_indices in k_fold:\n",
    "    train_text = reviews.iloc[train_indices]['Text'].values\n",
    "    train_y = reviews.iloc[train_indices]['Rating_nom'].values\n",
    "\n",
    "    test_text = reviews.iloc[test_indices]['Text'].values\n",
    "    test_y = reviews.iloc[test_indices]['Rating_nom'].values\n",
    "\n",
    "    pipeline.fit(train_text, train_y)\n",
    "    predictions = pipeline.predict(test_text)\n",
    "\n",
    "    confusion += confusion_matrix(test_y, predictions, \n",
    "                                  labels = labels)\n",
    "    print(metrics.classification_report(test_y, predictions, labels = labels))\n",
    "\n",
    "print('Total reviews classified:', len(reviews))\n",
    "#print('Score:', sum(scores)/len(scores))\n",
    "print('Confusion matrix:')\n",
    "print(confusion)\n",
    "plot_confusion(confusion)"
   ]
  },
  {
   "cell_type": "code",
   "execution_count": null,
   "metadata": {
    "collapsed": true
   },
   "outputs": [],
   "source": [
    "pipeline = Pipeline([\n",
    "    ('vectorizer',  CountVectorizer(ngram_range=(1,2), stop_words='english',\n",
    "                                   max_df=0.7, min_df=100)),\n",
    "    ('transformer', TfidfTransformer()),\n",
    "    ('classifier',  SVC(kernel='linear')) ])\n",
    "\n",
    "k_fold = KFold(n=len(reviews), n_folds=2)\n",
    "scores = []\n",
    "confusion = np.zeros(shape=(5,5))\n",
    "for train_indices, test_indices in k_fold:\n",
    "    train_text = reviews.iloc[train_indices]['Text'].values\n",
    "    train_y = reviews.iloc[train_indices]['Rating_nom'].values\n",
    "\n",
    "    test_text = reviews.iloc[test_indices]['Text'].values\n",
    "    test_y = reviews.iloc[test_indices]['Rating_nom'].values\n",
    "\n",
    "    pipeline.fit(train_text, train_y)\n",
    "    predictions = pipeline.predict(test_text)\n",
    "\n",
    "    confusion += confusion_matrix(test_y, predictions, \n",
    "                                  labels = labels)\n",
    "    print(metrics.classification_report(test_y, predictions, labels = labels))\n",
    "\n",
    "print('Total reviews classified:', len(reviews))\n",
    "#print('Score:', sum(scores)/len(scores))\n",
    "print('Confusion matrix:')\n",
    "print(confusion)\n",
    "plot_confusion(confusion)"
   ]
  },
  {
   "cell_type": "code",
   "execution_count": null,
   "metadata": {
    "collapsed": true
   },
   "outputs": [],
   "source": [
    "import time\n",
    "start_time = time.clock()\n",
    "main()\n",
    "print time.clock() - start_time, \"seconds\""
   ]
  }
 ],
 "metadata": {
  "kernelspec": {
   "display_name": "Python 2",
   "language": "python",
   "name": "python2"
  },
  "language_info": {
   "codemirror_mode": {
    "name": "ipython",
    "version": 2
   },
   "file_extension": ".py",
   "mimetype": "text/x-python",
   "name": "python",
   "nbconvert_exporter": "python",
   "pygments_lexer": "ipython2",
   "version": "2.7.11"
  }
 },
 "nbformat": 4,
 "nbformat_minor": 0
}
