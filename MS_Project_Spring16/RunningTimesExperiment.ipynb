{
 "cells": [
  {
   "cell_type": "code",
   "execution_count": 1,
   "metadata": {
    "collapsed": false
   },
   "outputs": [
    {
     "name": "stderr",
     "output_type": "stream",
     "text": [
      "//anaconda/lib/python3.4/site-packages/numexpr/cpuinfo.py:76: UserWarning: [Errno 2] No such file or directory: 'sysctl'\n",
      "  stacklevel=stacklevel + 1):\n"
     ]
    }
   ],
   "source": [
    "### libraries\n",
    "import numpy as np\n",
    "import pandas as pd\n",
    "import matplotlib as mpl\n",
    "\n",
    "import matplotlib.pyplot as plt\n",
    "%matplotlib inline\n",
    "\n",
    "from pylab import *\n",
    "import itertools\n",
    "import random\n",
    "import scipy\n",
    "import six\n",
    "import re\n",
    "\n",
    "from __future__ import print_function\n",
    "from pprint import pprint\n",
    "import time as time\n",
    "import sys\n",
    "sys.path.append('/Users/tatiana/anaconda/pkgs/seaborn-0.6.0-np110py34_0/lib/python3.4/site-packages')\n",
    "import seaborn as sns; sns.set()\n",
    "\n",
    "from time import time"
   ]
  },
  {
   "cell_type": "code",
   "execution_count": 2,
   "metadata": {
    "collapsed": true
   },
   "outputs": [],
   "source": [
    "from sklearn.feature_extraction.text import CountVectorizer\n",
    "from sklearn.feature_extraction.text import TfidfTransformer\n",
    "\n",
    "from sklearn.svm import SVC \n",
    "from sklearn.naive_bayes import MultinomialNB\n",
    "from sklearn.neighbors import KNeighborsClassifier\n",
    "from sklearn.linear_model import LogisticRegression\n",
    "\n",
    "from sklearn.grid_search import GridSearchCV\n",
    "from sklearn.pipeline import Pipeline\n",
    "from sklearn.cross_validation import KFold\n",
    "from sklearn.metrics import confusion_matrix, f1_score\n",
    "from sklearn import metrics\n",
    "from sklearn.cross_validation import train_test_split"
   ]
  },
  {
   "cell_type": "code",
   "execution_count": 3,
   "metadata": {
    "collapsed": false
   },
   "outputs": [
    {
     "data": {
      "text/html": [
       "<div>\n",
       "<table border=\"1\" class=\"dataframe\">\n",
       "  <thead>\n",
       "    <tr style=\"text-align: right;\">\n",
       "      <th></th>\n",
       "      <th>stars_nom</th>\n",
       "      <th>text</th>\n",
       "    </tr>\n",
       "  </thead>\n",
       "  <tbody>\n",
       "    <tr>\n",
       "      <th>0</th>\n",
       "      <td>four</td>\n",
       "      <td>This location is located inside the Green Vall...</td>\n",
       "    </tr>\n",
       "    <tr>\n",
       "      <th>1</th>\n",
       "      <td>four</td>\n",
       "      <td>Ok, so the sushi/food itself only really deser...</td>\n",
       "    </tr>\n",
       "    <tr>\n",
       "      <th>2</th>\n",
       "      <td>two</td>\n",
       "      <td>With expectations sufficiently low and my obje...</td>\n",
       "    </tr>\n",
       "    <tr>\n",
       "      <th>3</th>\n",
       "      <td>four</td>\n",
       "      <td>I went around 2pm and there was no line! :) ha...</td>\n",
       "    </tr>\n",
       "    <tr>\n",
       "      <th>4</th>\n",
       "      <td>two</td>\n",
       "      <td>Thank you to the manager for caring enough to ...</td>\n",
       "    </tr>\n",
       "  </tbody>\n",
       "</table>\n",
       "</div>"
      ],
      "text/plain": [
       "  stars_nom                                               text\n",
       "0      four  This location is located inside the Green Vall...\n",
       "1      four  Ok, so the sushi/food itself only really deser...\n",
       "2       two  With expectations sufficiently low and my obje...\n",
       "3      four  I went around 2pm and there was no line! :) ha...\n",
       "4       two  Thank you to the manager for caring enough to ..."
      ]
     },
     "execution_count": 3,
     "metadata": {},
     "output_type": "execute_result"
    }
   ],
   "source": [
    "path = r'/Users/tatiana/rest_reviews_2.csv'\n",
    "reviews = pd.read_csv(path)\n",
    "reviews['stars_nom'] = [\"one\" if star == 1 else \"two\" if star == 2 else \"three\" if star == 3 \n",
    "                else \"four\" if star == 4 else \"five\" for star in reviews.stars]\n",
    "reviews = reviews[['stars_nom','text']]\n",
    "reviews.head()"
   ]
  },
  {
   "cell_type": "code",
   "execution_count": 4,
   "metadata": {
    "collapsed": true
   },
   "outputs": [],
   "source": [
    "labels = [\"one\",\"two\",\"three\",\"four\",\"five\"]\n",
    "\n",
    "def plot_confusion(confmat):\n",
    "    fig = plt.figure()\n",
    "    ax = fig.add_subplot(111)\n",
    "    cax = ax.matshow(confmat)\n",
    "    plt.title('Confusion matrix of the classifier')\n",
    "    fig.colorbar(cax)\n",
    "    ax.set_xticklabels([''] + labels)\n",
    "    ax.set_yticklabels([''] + labels)\n",
    "    plt.xlabel('Predicted')\n",
    "    plt.ylabel('True')\n",
    "    plt.show()"
   ]
  },
  {
   "cell_type": "code",
   "execution_count": 5,
   "metadata": {
    "collapsed": true
   },
   "outputs": [],
   "source": [
    "rev_num = [10000, 15000, 20000, 25000, 30000, 35000, 40000, 45000, 50000]"
   ]
  },
  {
   "cell_type": "code",
   "execution_count": 10,
   "metadata": {
    "collapsed": false
   },
   "outputs": [],
   "source": [
    "pipeline = Pipeline([\n",
    "    ('vectorizer',  CountVectorizer(stop_words='english',\n",
    "                                   max_df=0.7, min_df=100)),\n",
    "    #('transformer', TfidfTransformer()),\n",
    "    ('classifier',  MultinomialNB()) ])\n",
    "nb_times = []\n",
    "nb_scores = []\n",
    "for num in rev_num:\n",
    "    t0 = time()\n",
    "    reviews_sample = reviews.sample(n = num)\n",
    "    X_train, X_test, y_train, y_test = train_test_split(reviews_sample.text.values, \n",
    "                                                        reviews_sample.stars_nom.values, \n",
    "                                                        test_size=0.33)\n",
    "    pipeline.fit(X_train, y_train)\n",
    "    predictions = pipeline.predict(X_test)\n",
    "        \n",
    "    nb_times.append(time()-t0)\n",
    "    nb_scores.append(f1_score(y_test, predictions, labels = labels, average = 'macro'))"
   ]
  },
  {
   "cell_type": "code",
   "execution_count": 11,
   "metadata": {
    "collapsed": false
   },
   "outputs": [
    {
     "data": {
      "image/png": "[encoded data removed]",
      "text/plain": [
       "<matplotlib.figure.Figure at 0x10b1eb6a0>"
      ]
     },
     "metadata": {},
     "output_type": "display_data"
    }
   ],
   "source": [
    "plt.plot(rev_num, nb_times)\n",
    "plt.xlabel('Number of reviews in the sample')\n",
    "plt.ylabel('Time to train and test 1 Naive Bayes model (sec)')\n",
    "plt.title('Time it takes to fit a Naive Bayes model')\n",
    "plt.show()"
   ]
  },
  {
   "cell_type": "code",
   "execution_count": 12,
   "metadata": {
    "collapsed": true
   },
   "outputs": [],
   "source": [
    "rev_num_svm = [1000, 1500, 2000, 2500, 3000, 3500, 4000, 4500, 5000]"
   ]
  },
  {
   "cell_type": "code",
   "execution_count": 14,
   "metadata": {
    "collapsed": false
   },
   "outputs": [
    {
     "name": "stderr",
     "output_type": "stream",
     "text": [
      "//anaconda/lib/python3.4/site-packages/sklearn/metrics/classification.py:958: UndefinedMetricWarning: F-score is ill-defined and being set to 0.0 in labels with no predicted samples.\n",
      "  'precision', 'predicted', average, warn_for)\n"
     ]
    }
   ],
   "source": [
    "pipeline = Pipeline([\n",
    "    ('vectorizer',  CountVectorizer(ngram_range=(1,3), stop_words='english',\n",
    "                                   max_df=0.7, min_df=100)),\n",
    "    ('transformer', TfidfTransformer()),\n",
    "    ('classifier',  SVC(kernel='linear')) ])\n",
    "svm_times = []\n",
    "svm_scores = []\n",
    "for num in rev_num_svm:\n",
    "    t0 = time()\n",
    "    reviews_sample = reviews.sample(n = num)\n",
    "    X_train, X_test, y_train, y_test = train_test_split(reviews_sample.text.values, \n",
    "                                                        reviews_sample.stars_nom.values, \n",
    "                                                        test_size=0.33)\n",
    "    pipeline.fit(X_train, y_train)\n",
    "    predictions = pipeline.predict(X_test)\n",
    "        \n",
    "    svm_times.append(time()-t0)\n",
    "    svm_scores.append(f1_score(y_test, predictions, labels = labels, average = 'macro'))"
   ]
  },
  {
   "cell_type": "code",
   "execution_count": 15,
   "metadata": {
    "collapsed": false
   },
   "outputs": [
    {
     "data": {
      "image/png": "[encoded data removed]",
      "text/plain": [
       "<matplotlib.figure.Figure at 0x116931c88>"
      ]
     },
     "metadata": {},
     "output_type": "display_data"
    }
   ],
   "source": [
    "plt.plot(rev_num_svm, svm_times)\n",
    "plt.xlabel('Number of reviews in the sample')\n",
    "plt.ylabel('Time to train and test 1 SVM model (sec)')\n",
    "plt.title('Area of a Circle')\n",
    "plt.show()"
   ]
  },
  {
   "cell_type": "code",
   "execution_count": 16,
   "metadata": {
    "collapsed": true
   },
   "outputs": [],
   "source": [
    "pipeline = Pipeline([\n",
    "    ('vectorizer',  CountVectorizer(ngram_range=(1,3), stop_words='english',\n",
    "                                   max_df=0.7, min_df=100)),\n",
    "    ('transformer', TfidfTransformer()),\n",
    "    ('classifier',  LogisticRegression(multi_class='multinomial',solver='lbfgs')) ])\n",
    "lr_times = []\n",
    "lr_scores = []\n",
    "for num in rev_num:\n",
    "    t0 = time()\n",
    "    reviews_sample = reviews.sample(n = num)\n",
    "    X_train, X_test, y_train, y_test = train_test_split(reviews_sample.text.values, \n",
    "                                                        reviews_sample.stars_nom.values, \n",
    "                                                        test_size=0.33)\n",
    "    pipeline.fit(X_train, y_train)\n",
    "    predictions = pipeline.predict(X_test)\n",
    "        \n",
    "    lr_times.append(time()-t0)\n",
    "    lr_scores.append(f1_score(y_test, predictions, labels = labels, average = 'macro'))"
   ]
  },
  {
   "cell_type": "code",
   "execution_count": 17,
   "metadata": {
    "collapsed": false
   },
   "outputs": [
    {
     "data": {
      "image/png": "[encoded data removed]",
      "text/plain": [
       "<matplotlib.figure.Figure at 0x10a3aaa58>"
      ]
     },
     "metadata": {},
     "output_type": "display_data"
    }
   ],
   "source": [
    "plt.plot(rev_num, lr_times)\n",
    "plt.xlabel('Number of reviews in the sample')\n",
    "plt.ylabel('Time to train and test 1 Logistic Regression model (sec)')\n",
    "plt.title('Area of a Circle')\n",
    "plt.show()"
   ]
  },
  {
   "cell_type": "code",
   "execution_count": null,
   "metadata": {
    "collapsed": true
   },
   "outputs": [],
   "source": []
  },
  {
   "cell_type": "code",
   "execution_count": null,
   "metadata": {
    "collapsed": true
   },
   "outputs": [],
   "source": []
  },
  {
   "cell_type": "code",
   "execution_count": null,
   "metadata": {
    "collapsed": true
   },
   "outputs": [],
   "source": []
  },
  {
   "cell_type": "code",
   "execution_count": null,
   "metadata": {
    "collapsed": true
   },
   "outputs": [],
   "source": []
  },
  {
   "cell_type": "code",
   "execution_count": null,
   "metadata": {
    "collapsed": true
   },
   "outputs": [],
   "source": []
  },
  {
   "cell_type": "code",
   "execution_count": 55,
   "metadata": {
    "collapsed": false
   },
   "outputs": [
    {
     "data": {
      "text/html": [
       "<div>\n",
       "<table border=\"1\" class=\"dataframe\">\n",
       "  <thead>\n",
       "    <tr style=\"text-align: right;\">\n",
       "      <th></th>\n",
       "      <th>NB_scores</th>\n",
       "      <th>NB_time</th>\n",
       "    </tr>\n",
       "  </thead>\n",
       "  <tbody>\n",
       "    <tr>\n",
       "      <th>0</th>\n",
       "      <td>0.251145</td>\n",
       "      <td>0.166213</td>\n",
       "    </tr>\n",
       "    <tr>\n",
       "      <th>1</th>\n",
       "      <td>0.319506</td>\n",
       "      <td>0.211138</td>\n",
       "    </tr>\n",
       "    <tr>\n",
       "      <th>2</th>\n",
       "      <td>0.367946</td>\n",
       "      <td>0.268518</td>\n",
       "    </tr>\n",
       "    <tr>\n",
       "      <th>3</th>\n",
       "      <td>0.366117</td>\n",
       "      <td>0.339087</td>\n",
       "    </tr>\n",
       "    <tr>\n",
       "      <th>4</th>\n",
       "      <td>0.375231</td>\n",
       "      <td>0.391359</td>\n",
       "    </tr>\n",
       "    <tr>\n",
       "      <th>5</th>\n",
       "      <td>0.422510</td>\n",
       "      <td>0.493831</td>\n",
       "    </tr>\n",
       "    <tr>\n",
       "      <th>6</th>\n",
       "      <td>0.397572</td>\n",
       "      <td>0.524311</td>\n",
       "    </tr>\n",
       "    <tr>\n",
       "      <th>7</th>\n",
       "      <td>0.404705</td>\n",
       "      <td>0.572078</td>\n",
       "    </tr>\n",
       "    <tr>\n",
       "      <th>8</th>\n",
       "      <td>0.432841</td>\n",
       "      <td>0.643585</td>\n",
       "    </tr>\n",
       "    <tr>\n",
       "      <th>9</th>\n",
       "      <td>0.436162</td>\n",
       "      <td>0.698782</td>\n",
       "    </tr>\n",
       "    <tr>\n",
       "      <th>10</th>\n",
       "      <td>0.428881</td>\n",
       "      <td>0.788907</td>\n",
       "    </tr>\n",
       "  </tbody>\n",
       "</table>\n",
       "</div>"
      ],
      "text/plain": [
       "    NB_scores   NB_time\n",
       "0    0.251145  0.166213\n",
       "1    0.319506  0.211138\n",
       "2    0.367946  0.268518\n",
       "3    0.366117  0.339087\n",
       "4    0.375231  0.391359\n",
       "5    0.422510  0.493831\n",
       "6    0.397572  0.524311\n",
       "7    0.404705  0.572078\n",
       "8    0.432841  0.643585\n",
       "9    0.436162  0.698782\n",
       "10   0.428881  0.788907"
      ]
     },
     "execution_count": 55,
     "metadata": {},
     "output_type": "execute_result"
    }
   ],
   "source": [
    "nb_report = pd.DataFrame(data = ({'NB_time': nb_times,\n",
    "                                  'NB_scores': nb_scores}))\n",
    "nb_report"
   ]
  },
  {
   "cell_type": "code",
   "execution_count": null,
   "metadata": {
    "collapsed": true
   },
   "outputs": [],
   "source": []
  }
 ],
 "metadata": {
  "kernelspec": {
   "display_name": "Python 3",
   "language": "python",
   "name": "python3"
  },
  "language_info": {
   "codemirror_mode": {
    "name": "ipython",
    "version": 3
   },
   "file_extension": ".py",
   "mimetype": "text/x-python",
   "name": "python",
   "nbconvert_exporter": "python",
   "pygments_lexer": "ipython3",
   "version": "3.4.4"
  }
 },
 "nbformat": 4,
 "nbformat_minor": 0
}
