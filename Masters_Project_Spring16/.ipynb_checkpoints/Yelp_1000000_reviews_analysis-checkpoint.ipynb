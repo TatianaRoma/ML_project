{
 "cells": [
  {
   "cell_type": "markdown",
   "metadata": {},
   "source": [
    "# Yelp Review Rating Prediction Using Text\n",
    "### Tatiana Romanchishina"
   ]
  },
  {
   "cell_type": "code",
   "execution_count": 3,
   "metadata": {
    "collapsed": false
   },
   "outputs": [
    {
     "name": "stderr",
     "output_type": "stream",
     "text": [
      "/home/ubuntu/anaconda2/lib/python2.7/site-packages/pandas/computation/__init__.py:19: UserWarning: The installed version of numexpr 2.4.4 is not supported in pandas and will be not be used\n",
      "\n",
      "  UserWarning)\n"
     ]
    }
   ],
   "source": [
    "### libraries\n",
    "import numpy as np\n",
    "import pandas as pd\n",
    "import matplotlib as mpl\n",
    "\n",
    "import matplotlib.pyplot as plt\n",
    "%matplotlib inline\n",
    "\n",
    "from pylab import *\n",
    "import itertools\n",
    "import random\n",
    "import scipy\n",
    "import six\n",
    "import re\n",
    "\n",
    "from __future__ import print_function\n",
    "from pprint import pprint\n",
    "import time as time\n",
    "import seaborn as sns\n",
    "sns.set()"
   ]
  },
  {
   "cell_type": "markdown",
   "metadata": {},
   "source": [
    "#### Connect to Amazon S3 storage and download the file"
   ]
  },
  {
   "cell_type": "code",
   "execution_count": 2,
   "metadata": {
    "collapsed": false
   },
   "outputs": [
    {
     "name": "stdout",
     "output_type": "stream",
     "text": [
      "reviews_all.csv\t663830339\t2016-05-03T17:35:07.000Z\n"
     ]
    }
   ],
   "source": [
    "import boto\n",
    "import boto.s3.connection\n",
    "from boto.s3.connection import S3Connection\n",
    "conn = S3Connection()\n",
    "bucket = conn.get_bucket('yelp-rest-reviews')\n",
    "for key in bucket.list():\n",
    "        print (\"{name}\\t{size}\\t{modified}\".format(\n",
    "                name = key.name,\n",
    "                size = key.size,\n",
    "                modified = key.last_modified,\n",
    "                ))"
   ]
  },
  {
   "cell_type": "code",
   "execution_count": 3,
   "metadata": {
    "collapsed": true
   },
   "outputs": [],
   "source": [
    "key = bucket.get_key('reviews_all.csv')\n",
    "key.get_contents_to_filename('/home/ubuntu/yelp/reviews_all.csv')"
   ]
  },
  {
   "cell_type": "markdown",
   "metadata": {},
   "source": [
    "### Load the data into a dataframe"
   ]
  },
  {
   "cell_type": "code",
   "execution_count": 4,
   "metadata": {
    "collapsed": false
   },
   "outputs": [
    {
     "data": {
      "text/html": [
       "<div>\n",
       "<table border=\"1\" class=\"dataframe\">\n",
       "  <thead>\n",
       "    <tr style=\"text-align: right;\">\n",
       "      <th></th>\n",
       "      <th>Text</th>\n",
       "      <th>Rating_nom</th>\n",
       "    </tr>\n",
       "  </thead>\n",
       "  <tbody>\n",
       "    <tr>\n",
       "      <th>0</th>\n",
       "      <td>I was underwhelmed   I ordered the filet and i...</td>\n",
       "      <td>two</td>\n",
       "    </tr>\n",
       "    <tr>\n",
       "      <th>1</th>\n",
       "      <td>Fun environment  friendly staff and decent foo...</td>\n",
       "      <td>four</td>\n",
       "    </tr>\n",
       "    <tr>\n",
       "      <th>2</th>\n",
       "      <td>Benjamin s is good bar  restaurant on the Nort...</td>\n",
       "      <td>five</td>\n",
       "    </tr>\n",
       "    <tr>\n",
       "      <th>3</th>\n",
       "      <td>This place is awesome  The food is great and t...</td>\n",
       "      <td>five</td>\n",
       "    </tr>\n",
       "    <tr>\n",
       "      <th>4</th>\n",
       "      <td>We loved Eddie  and his very appeasing accent ...</td>\n",
       "      <td>five</td>\n",
       "    </tr>\n",
       "  </tbody>\n",
       "</table>\n",
       "</div>"
      ],
      "text/plain": [
       "                                                Text Rating_nom\n",
       "0  I was underwhelmed   I ordered the filet and i...        two\n",
       "1  Fun environment  friendly staff and decent foo...       four\n",
       "2  Benjamin s is good bar  restaurant on the Nort...       five\n",
       "3  This place is awesome  The food is great and t...       five\n",
       "4  We loved Eddie  and his very appeasing accent ...       five"
      ]
     },
     "execution_count": 4,
     "metadata": {},
     "output_type": "execute_result"
    }
   ],
   "source": [
    "path = r'/home/ubuntu/yelp/reviews_all.csv'\n",
    "reviews = pd.read_csv(path)\n",
    "reviews['Rating_nom'] = [\"one\" if Rating == 1 else \"two\" if Rating == 2 else \"three\" if Rating == 3 \n",
    "                else \"four\" if Rating == 4 else \"five\" for Rating in reviews.Rating]\n",
    "reviews = reviews[['Text','Rating_nom']]\n",
    "reviews.head()"
   ]
  },
  {
   "cell_type": "code",
   "execution_count": 3,
   "metadata": {
    "collapsed": false
   },
   "outputs": [
    {
     "data": {
      "text/plain": [
       "(990627, 2)"
      ]
     },
     "execution_count": 3,
     "metadata": {},
     "output_type": "execute_result"
    }
   ],
   "source": [
    "reviews.shape"
   ]
  },
  {
   "cell_type": "markdown",
   "metadata": {},
   "source": [
    "#### Load the necessary Machine Learning libraries"
   ]
  },
  {
   "cell_type": "code",
   "execution_count": 5,
   "metadata": {
    "collapsed": false
   },
   "outputs": [],
   "source": [
    "from sklearn.feature_extraction.text import CountVectorizer\n",
    "from sklearn.feature_extraction.text import TfidfTransformer\n",
    "\n",
    "from sklearn.svm import SVC, LinearSVC\n",
    "from sklearn.naive_bayes import MultinomialNB\n",
    "from sklearn.neighbors import KNeighborsClassifier\n",
    "from sklearn.linear_model import LogisticRegression\n",
    "\n",
    "from sklearn.grid_search import GridSearchCV\n",
    "from sklearn.pipeline import Pipeline\n",
    "from sklearn.cross_validation import KFold\n",
    "from sklearn.metrics import confusion_matrix, f1_score\n",
    "from sklearn import metrics\n",
    "from sklearn.cross_validation import train_test_split"
   ]
  },
  {
   "cell_type": "markdown",
   "metadata": {},
   "source": [
    "#### Helper function for plotting confusion matrix"
   ]
  },
  {
   "cell_type": "code",
   "execution_count": 65,
   "metadata": {
    "collapsed": true
   },
   "outputs": [],
   "source": [
    "labels = [\"one\",\"two\",\"three\",\"four\",\"five\"]\n",
    "\n",
    "def plot_confusion(confmat):\n",
    "    fig = plt.figure()\n",
    "    ax = fig.add_subplot(111)\n",
    "    cax = ax.matshow(confmat)\n",
    "    plt.title('Confusion matrix of the classifier')\n",
    "    fig.colorbar(cax)\n",
    "    ax.set_xticklabels([''] + labels)\n",
    "    ax.set_yticklabels([''] + labels)\n",
    "    plt.xlabel('Predicted')\n",
    "    plt.ylabel('True')\n",
    "    plt.show()"
   ]
  },
  {
   "cell_type": "code",
   "execution_count": 66,
   "metadata": {
    "collapsed": false
   },
   "outputs": [
    {
     "name": "stdout",
     "output_type": "stream",
     "text": [
      "             precision    recall  f1-score   support\n",
      "\n",
      "        one       0.56      0.70      0.62     43983\n",
      "        two       0.41      0.44      0.43     48605\n",
      "      three       0.45      0.48      0.47     76837\n",
      "       four       0.58      0.47      0.52    159890\n",
      "       five       0.68      0.73      0.70    165999\n",
      "\n",
      "avg / total       0.58      0.58      0.57    495314\n",
      "\n",
      "             precision    recall  f1-score   support\n",
      "\n",
      "        one       0.55      0.70      0.62     43230\n",
      "        two       0.41      0.44      0.43     48971\n",
      "      three       0.45      0.48      0.46     76785\n",
      "       four       0.58      0.47      0.52    159648\n",
      "       five       0.69      0.72      0.70    166679\n",
      "\n",
      "avg / total       0.58      0.57      0.57    495313\n",
      "\n",
      "Total reviews classified: 990627\n",
      "Confusion matrix:\n",
      "[[  61232.   20288.    3744.     826.    1123.]\n",
      " [  24829.   43093.   24358.    3389.    1907.]\n",
      " [  10848.   26115.   74271.   33566.    8822.]\n",
      " [   7093.   10840.   51607.  150261.   99737.]\n",
      " [   6106.    4557.   10952.   69976.  241087.]]\n"
     ]
    },
    {
     "data": {
      "image/png": "[encoded data removed]",
      "text/plain": [
       "<matplotlib.figure.Figure at 0x7f52697317d0>"
      ]
     },
     "metadata": {},
     "output_type": "display_data"
    }
   ],
   "source": [
    "pipeline = Pipeline([\n",
    "    ('vectorizer',  CountVectorizer(stop_words='english', ngram_range=(1,2),\n",
    "                                   max_df=0.5, min_df=100)),\n",
    "   # ('transformer', TfidfTransformer(use_idf=False)),\n",
    "    ('classifier',  MultinomialNB(fit_prior=False)) ])\n",
    "\n",
    "k_fold = KFold(n=len(reviews), n_folds=2)\n",
    "scores = []\n",
    "confusion = np.zeros(shape=(5,5))\n",
    "for train_indices, test_indices in k_fold:\n",
    "    train_text = reviews.iloc[train_indices]['Text'].values\n",
    "    train_y = reviews.iloc[train_indices]['Rating_nom'].values\n",
    "\n",
    "    test_text = reviews.iloc[test_indices]['Text'].values\n",
    "    test_y = reviews.iloc[test_indices]['Rating_nom'].values\n",
    "\n",
    "    pipeline.fit(train_text, train_y)\n",
    "    predictions = pipeline.predict(test_text)\n",
    "\n",
    "    confusion += confusion_matrix(test_y, predictions, \n",
    "                                  labels = labels)\n",
    "    print(metrics.classification_report(test_y, predictions, labels = labels))\n",
    "print('Total reviews classified:', len(reviews))\n",
    "#print('Score:', sum(scores)/len(scores))\n",
    "print('Confusion matrix:')\n",
    "print(confusion)\n",
    "plot_confusion(confusion)"
   ]
  },
  {
   "cell_type": "code",
   "execution_count": null,
   "metadata": {
    "collapsed": true
   },
   "outputs": [],
   "source": []
  },
  {
   "cell_type": "code",
   "execution_count": 67,
   "metadata": {
    "collapsed": false,
    "scrolled": false
   },
   "outputs": [
    {
     "name": "stdout",
     "output_type": "stream",
     "text": [
      "             precision    recall  f1-score   support\n",
      "\n",
      "        one       0.65      0.69      0.67     43983\n",
      "        two       0.47      0.37      0.42     48605\n",
      "      three       0.49      0.38      0.43     76837\n",
      "       four       0.54      0.56      0.55    159890\n",
      "       five       0.66      0.74      0.70    165999\n",
      "\n",
      "avg / total       0.58      0.59      0.58    495314\n",
      "\n",
      "             precision    recall  f1-score   support\n",
      "\n",
      "        one       0.64      0.70      0.67     43230\n",
      "        two       0.48      0.36      0.41     48971\n",
      "      three       0.49      0.38      0.43     76785\n",
      "       four       0.54      0.57      0.55    159648\n",
      "       five       0.66      0.73      0.70    166679\n",
      "\n",
      "avg / total       0.58      0.59      0.58    495313\n",
      "\n",
      "Total reviews classified: 990627\n",
      "Confusion matrix:\n",
      "[[  60634.   15689.    4803.    3557.    2530.]\n",
      " [  22267.   35866.   25100.   10637.    3706.]\n",
      " [   6613.   18404.   58084.   57829.   12692.]\n",
      " [   2579.    4300.   25505.  181118.  106036.]\n",
      " [   1589.    1125.    4659.   80679.  244626.]]\n"
     ]
    },
    {
     "data": {
      "image/png": "[encoded data removed]",
      "text/plain": [
       "<matplotlib.figure.Figure at 0x7f524e360110>"
      ]
     },
     "metadata": {},
     "output_type": "display_data"
    }
   ],
   "source": [
    "#from time import time\n",
    "#reviews_500K = reviews.sample(n = 500000)\n",
    "#t0 = time()\n",
    "pipeline = Pipeline([\n",
    "    ('vectorizer',  CountVectorizer(ngram_range=(1,2), stop_words='english',\n",
    "                                   max_df=0.5, min_df=100)),\n",
    "    ('transformer', TfidfTransformer(use_idf=True)),\n",
    "    ('classifier',  LinearSVC()) ])\n",
    "\n",
    "k_fold = KFold(n=len(reviews), n_folds=2)\n",
    "scores = []\n",
    "confusion = np.zeros(shape=(5,5))\n",
    "for train_indices, test_indices in k_fold:\n",
    "    train_text = reviews.iloc[train_indices]['Text'].values\n",
    "    train_y = reviews.iloc[train_indices]['Rating_nom'].values\n",
    "\n",
    "    test_text = reviews.iloc[test_indices]['Text'].values\n",
    "    test_y = reviews.iloc[test_indices]['Rating_nom'].values\n",
    "\n",
    "    pipeline.fit(train_text, train_y)\n",
    "    predictions = pipeline.predict(test_text)\n",
    "\n",
    "    confusion += confusion_matrix(test_y, predictions, \n",
    "                                  labels = labels)\n",
    "    print(metrics.classification_report(test_y, predictions, labels = labels))\n",
    "\n",
    "print('Total reviews classified:', len(reviews))\n",
    "#print('SVM with two fold cross validation on 150000 reviews took (min):', (time()-t0)/60)\n",
    "print('Confusion matrix:')\n",
    "print(confusion)\n",
    "plot_confusion(confusion)"
   ]
  },
  {
   "cell_type": "code",
   "execution_count": null,
   "metadata": {
    "collapsed": true
   },
   "outputs": [],
   "source": []
  }
 ],
 "metadata": {
  "kernelspec": {
   "display_name": "Python 2",
   "language": "python",
   "name": "python2"
  },
  "language_info": {
   "codemirror_mode": {
    "name": "ipython",
    "version": 2
   },
   "file_extension": ".py",
   "mimetype": "text/x-python",
   "name": "python",
   "nbconvert_exporter": "python",
   "pygments_lexer": "ipython2",
   "version": "2.7.11"
  }
 },
 "nbformat": 4,
 "nbformat_minor": 0
}
