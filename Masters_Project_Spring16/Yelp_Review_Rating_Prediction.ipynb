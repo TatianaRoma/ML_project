{
 "cells": [
  {
   "cell_type": "markdown",
   "metadata": {},
   "source": [
    "# Yelp Review Rating Prediction Using Text\n",
    "### Tatiana Romanchishina"
   ]
  },
  {
   "cell_type": "code",
   "execution_count": 1,
   "metadata": {
    "collapsed": false
   },
   "outputs": [
    {
     "name": "stderr",
     "output_type": "stream",
     "text": [
      "/home/ubuntu/anaconda2/lib/python2.7/site-packages/pandas/computation/__init__.py:19: UserWarning: The installed version of numexpr 2.4.4 is not supported in pandas and will be not be used\n",
      "\n",
      "  UserWarning)\n"
     ]
    }
   ],
   "source": [
    "### libraries\n",
    "import numpy as np\n",
    "import pandas as pd\n",
    "import matplotlib as mpl\n",
    "\n",
    "import matplotlib.pyplot as plt\n",
    "%matplotlib inline\n",
    "\n",
    "from pylab import *\n",
    "import itertools\n",
    "import random\n",
    "import scipy\n",
    "import six\n",
    "import re\n",
    "\n",
    "from __future__ import print_function\n",
    "from pprint import pprint\n",
    "import time as time\n",
    "import seaborn as sns\n",
    "sns.set()"
   ]
  },
  {
   "cell_type": "markdown",
   "metadata": {},
   "source": [
    "#### Connect to Amazon S3 storage and download the file"
   ]
  },
  {
   "cell_type": "code",
   "execution_count": 2,
   "metadata": {
    "collapsed": false
   },
   "outputs": [
    {
     "name": "stdout",
     "output_type": "stream",
     "text": [
      "reviews_all.csv\t663830339\t2016-05-03T17:35:07.000Z\n"
     ]
    }
   ],
   "source": [
    "import boto\n",
    "import boto.s3.connection\n",
    "from boto.s3.connection import S3Connection\n",
    "conn = S3Connection()\n",
    "bucket = conn.get_bucket('yelp-rest-reviews')\n",
    "for key in bucket.list():\n",
    "        print (\"{name}\\t{size}\\t{modified}\".format(\n",
    "                name = key.name,\n",
    "                size = key.size,\n",
    "                modified = key.last_modified,\n",
    "                ))"
   ]
  },
  {
   "cell_type": "code",
   "execution_count": 3,
   "metadata": {
    "collapsed": true
   },
   "outputs": [],
   "source": [
    "key = bucket.get_key('reviews_all.csv')\n",
    "key.get_contents_to_filename('/home/ubuntu/yelp/reviews_all.csv')"
   ]
  },
  {
   "cell_type": "markdown",
   "metadata": {},
   "source": [
    "### Load the data into a dataframe"
   ]
  },
  {
   "cell_type": "code",
   "execution_count": 2,
   "metadata": {
    "collapsed": false
   },
   "outputs": [
    {
     "data": {
      "text/html": [
       "<div>\n",
       "<table border=\"1\" class=\"dataframe\">\n",
       "  <thead>\n",
       "    <tr style=\"text-align: right;\">\n",
       "      <th></th>\n",
       "      <th>Text</th>\n",
       "      <th>Rating_nom</th>\n",
       "    </tr>\n",
       "  </thead>\n",
       "  <tbody>\n",
       "    <tr>\n",
       "      <th>0</th>\n",
       "      <td>I was underwhelmed   I ordered the filet and i...</td>\n",
       "      <td>two</td>\n",
       "    </tr>\n",
       "    <tr>\n",
       "      <th>1</th>\n",
       "      <td>Fun environment  friendly staff and decent foo...</td>\n",
       "      <td>four</td>\n",
       "    </tr>\n",
       "    <tr>\n",
       "      <th>2</th>\n",
       "      <td>Benjamin s is good bar  restaurant on the Nort...</td>\n",
       "      <td>five</td>\n",
       "    </tr>\n",
       "    <tr>\n",
       "      <th>3</th>\n",
       "      <td>This place is awesome  The food is great and t...</td>\n",
       "      <td>five</td>\n",
       "    </tr>\n",
       "    <tr>\n",
       "      <th>4</th>\n",
       "      <td>We loved Eddie  and his very appeasing accent ...</td>\n",
       "      <td>five</td>\n",
       "    </tr>\n",
       "  </tbody>\n",
       "</table>\n",
       "</div>"
      ],
      "text/plain": [
       "                                                Text Rating_nom\n",
       "0  I was underwhelmed   I ordered the filet and i...        two\n",
       "1  Fun environment  friendly staff and decent foo...       four\n",
       "2  Benjamin s is good bar  restaurant on the Nort...       five\n",
       "3  This place is awesome  The food is great and t...       five\n",
       "4  We loved Eddie  and his very appeasing accent ...       five"
      ]
     },
     "execution_count": 2,
     "metadata": {},
     "output_type": "execute_result"
    }
   ],
   "source": [
    "path = r'/home/ubuntu/yelp/reviews_all.csv'\n",
    "reviews = pd.read_csv(path)\n",
    "reviews['Rating_nom'] = [\"one\" if Rating == 1 else \"two\" if Rating == 2 else \"three\" if Rating == 3 \n",
    "                else \"four\" if Rating == 4 else \"five\" for Rating in reviews.Rating]\n",
    "reviews = reviews[['Text','Rating_nom']]\n",
    "reviews.head()"
   ]
  },
  {
   "cell_type": "code",
   "execution_count": 13,
   "metadata": {
    "collapsed": false
   },
   "outputs": [
    {
     "data": {
      "text/plain": [
       "(990627, 2)"
      ]
     },
     "execution_count": 13,
     "metadata": {},
     "output_type": "execute_result"
    }
   ],
   "source": [
    "reviews.shape"
   ]
  },
  {
   "cell_type": "markdown",
   "metadata": {},
   "source": [
    "#### Load the necessary Machine Learning libraries"
   ]
  },
  {
   "cell_type": "code",
   "execution_count": 20,
   "metadata": {
    "collapsed": true
   },
   "outputs": [],
   "source": [
    "from sklearn.feature_extraction.text import CountVectorizer\n",
    "from sklearn.feature_extraction.text import TfidfTransformer\n",
    "\n",
    "from sklearn.svm import SVC, LinearSVC\n",
    "from sklearn.naive_bayes import MultinomialNB\n",
    "from sklearn.neighbors import KNeighborsClassifier\n",
    "from sklearn.linear_model import LogisticRegression\n",
    "\n",
    "from sklearn.grid_search import GridSearchCV\n",
    "from sklearn.pipeline import Pipeline\n",
    "from sklearn.cross_validation import KFold\n",
    "from sklearn.metrics import confusion_matrix, f1_score\n",
    "from sklearn import metrics\n",
    "from sklearn.cross_validation import train_test_split"
   ]
  },
  {
   "cell_type": "markdown",
   "metadata": {},
   "source": [
    "#### Helper function for plotting confusion matrix"
   ]
  },
  {
   "cell_type": "code",
   "execution_count": 4,
   "metadata": {
    "collapsed": true
   },
   "outputs": [],
   "source": [
    "labels = [\"one\",\"two\",\"three\",\"four\",\"five\"]\n",
    "\n",
    "def plot_confusion(confmat):\n",
    "    fig = plt.figure()\n",
    "    ax = fig.add_subplot(111)\n",
    "    cax = ax.matshow(confmat)\n",
    "    plt.title('Confusion matrix of the classifier')\n",
    "    fig.colorbar(cax)\n",
    "    ax.set_xticklabels([''] + labels)\n",
    "    ax.set_yticklabels([''] + labels)\n",
    "    plt.xlabel('Predicted')\n",
    "    plt.ylabel('True')\n",
    "    plt.show()"
   ]
  },
  {
   "cell_type": "markdown",
   "metadata": {},
   "source": [
    "## Parameter Tuning"
   ]
  },
  {
   "cell_type": "markdown",
   "metadata": {},
   "source": [
    "### Multinomial Naive Bayes"
   ]
  },
  {
   "cell_type": "code",
   "execution_count": 5,
   "metadata": {
    "collapsed": false,
    "scrolled": true
   },
   "outputs": [
    {
     "name": "stdout",
     "output_type": "stream",
     "text": [
      "pipeline: ['vectorizer', 'transformer', 'nbClassifier']\n",
      "parameters:\n",
      "{'nbClassifier__fit_prior': (True, False),\n",
      " 'transformer__use_idf': (True, False),\n",
      " 'vectorizer__max_df': (0.6, 0.75),\n",
      " 'vectorizer__min_df': (1000, 0.01, 0.1),\n",
      " 'vectorizer__ngram_range': ((1, 1), (1, 2), (1, 3))}\n",
      "Fitting 2 folds for each of 72 candidates, totalling 144 fits\n"
     ]
    },
    {
     "name": "stderr",
     "output_type": "stream",
     "text": [
      "[Parallel(n_jobs=-1)]: Done   9 tasks      | elapsed:  1.3min\n",
      "[Parallel(n_jobs=-1)]: Done  18 tasks      | elapsed:  2.2min\n",
      "[Parallel(n_jobs=-1)]: Done  29 tasks      | elapsed:  3.2min\n",
      "[Parallel(n_jobs=-1)]: Done  40 tasks      | elapsed:  4.1min\n",
      "[Parallel(n_jobs=-1)]: Done  53 tasks      | elapsed:  5.4min\n",
      "[Parallel(n_jobs=-1)]: Done  66 tasks      | elapsed:  7.0min\n",
      "[Parallel(n_jobs=-1)]: Done  81 tasks      | elapsed:  8.7min\n",
      "[Parallel(n_jobs=-1)]: Done  96 tasks      | elapsed:  9.8min\n",
      "[Parallel(n_jobs=-1)]: Done 113 tasks      | elapsed: 11.1min\n",
      "[Parallel(n_jobs=-1)]: Done 144 out of 144 | elapsed: 13.4min finished\n"
     ]
    },
    {
     "name": "stdout",
     "output_type": "stream",
     "text": [
      "done in 843.881s\n",
      "Best score: 0.525\n",
      "Best parameters set:\n",
      "\tnbClassifier__fit_prior: False\n",
      "\ttransformer__use_idf: False\n",
      "\tvectorizer__max_df: 0.6\n",
      "\tvectorizer__min_df: 0.01\n",
      "\tvectorizer__ngram_range: (1, 2)\n",
      "[CV] vectorizer__min_df=1000, transformer__use_idf=True, vectorizer__ngram_range=(1, 1), nbClassifier__fit_prior=True, vectorizer__max_df=0.6 \n",
      "[CV] vectorizer__min_df=1000, transformer__use_idf=True, vectorizer__ngram_range=(1, 1), nbClassifier__fit_prior=True, vectorizer__max_df=0.6 \n",
      "[CV] vectorizer__min_df=1000, transformer__use_idf=True, vectorizer__ngram_range=(1, 2), nbClassifier__fit_prior=True, vectorizer__max_df=0.6 \n",
      "[CV] vectorizer__min_df=1000, transformer__use_idf=True, vectorizer__ngram_range=(1, 2), nbClassifier__fit_prior=True, vectorizer__max_df=0.6 \n",
      "[CV] vectorizer__min_df=1000, transformer__use_idf=True, vectorizer__ngram_range=(1, 3), nbClassifier__fit_prior=True, vectorizer__max_df=0.6 \n",
      "[CV] vectorizer__min_df=1000, transformer__use_idf=True, vectorizer__ngram_range=(1, 3), nbClassifier__fit_prior=True, vectorizer__max_df=0.6 \n",
      "[CV] vectorizer__min_df=0.01, transformer__use_idf=True, vectorizer__ngram_range=(1, 1), nbClassifier__fit_prior=True, vectorizer__max_df=0.6 \n",
      "[CV] vectorizer__min_df=0.01, transformer__use_idf=True, vectorizer__ngram_range=(1, 1), nbClassifier__fit_prior=True, vectorizer__max_df=0.6 \n",
      "[CV] vectorizer__min_df=0.01, transformer__use_idf=True, vectorizer__ngram_range=(1, 2), nbClassifier__fit_prior=True, vectorizer__max_df=0.6 \n",
      "[CV] vectorizer__min_df=0.01, transformer__use_idf=True, vectorizer__ngram_range=(1, 2), nbClassifier__fit_prior=True, vectorizer__max_df=0.6 \n",
      "[CV] vectorizer__min_df=0.01, transformer__use_idf=True, vectorizer__ngram_range=(1, 3), nbClassifier__fit_prior=True, vectorizer__max_df=0.6 \n",
      "[CV] vectorizer__min_df=0.01, transformer__use_idf=True, vectorizer__ngram_range=(1, 3), nbClassifier__fit_prior=True, vectorizer__max_df=0.6 \n",
      "[CV] vectorizer__min_df=0.1, transformer__use_idf=True, vectorizer__ngram_range=(1, 1), nbClassifier__fit_prior=True, vectorizer__max_df=0.6 \n",
      "[CV] vectorizer__min_df=0.1, transformer__use_idf=True, vectorizer__ngram_range=(1, 1), nbClassifier__fit_prior=True, vectorizer__max_df=0.6 \n",
      "[CV] vectorizer__min_df=0.1, transformer__use_idf=True, vectorizer__ngram_range=(1, 2), nbClassifier__fit_prior=True, vectorizer__max_df=0.6 \n",
      "[CV] vectorizer__min_df=0.1, transformer__use_idf=True, vectorizer__ngram_range=(1, 2), nbClassifier__fit_prior=True, vectorizer__max_df=0.6 \n",
      "[CV]  vectorizer__min_df=1000, transformer__use_idf=True, vectorizer__ngram_range=(1, 1), nbClassifier__fit_prior=True, vectorizer__max_df=0.6, score=0.486550 -  33.0s[CV]  vectorizer__min_df=1000, transformer__use_idf=True, vectorizer__ngram_range=(1, 1), nbClassifier__fit_prior=True, vectorizer__max_df=0.6, score=0.487110 -  33.5s[CV]  vectorizer__min_df=1000, transformer__use_idf=True, vectorizer__ngram_range=(1, 2), nbClassifier__fit_prior=True, vectorizer__max_df=0.6, score=0.489950 - 1.3min[CV]  vectorizer__min_df=1000, transformer__use_idf=True, vectorizer__ngram_range=(1, 2), nbClassifier__fit_prior=True, vectorizer__max_df=0.6, score=0.490250 - 1.4min[CV]  vectorizer__min_df=1000, transformer__use_idf=True, vectorizer__ngram_range=(1, 3), nbClassifier__fit_prior=True, vectorizer__max_df=0.6, score=0.489950 - 2.4min[CV]  vectorizer__min_df=1000, transformer__use_idf=True, vectorizer__ngram_range=(1, 3), nbClassifier__fit_prior=True, vectorizer__max_df=0.6, score=0.490250 - 2.5min[CV]  vectorizer__min_df=0.01, transformer__use_idf=True, vectorizer__ngram_range=(1, 1), nbClassifier__fit_prior=True, vectorizer__max_df=0.6, score=0.508990 -  35.2s[CV]  vectorizer__min_df=0.01, transformer__use_idf=True, vectorizer__ngram_range=(1, 1), nbClassifier__fit_prior=True, vectorizer__max_df=0.6, score=0.508410 -  34.5s[CV]  vectorizer__min_df=0.01, transformer__use_idf=True, vectorizer__ngram_range=(1, 2), nbClassifier__fit_prior=True, vectorizer__max_df=0.6, score=0.512450 - 1.3min[CV]  vectorizer__min_df=0.01, transformer__use_idf=True, vectorizer__ngram_range=(1, 2), nbClassifier__fit_prior=True, vectorizer__max_df=0.6, score=0.516010 - 1.3min[CV]  vectorizer__min_df=0.01, transformer__use_idf=True, vectorizer__ngram_range=(1, 3), nbClassifier__fit_prior=True, vectorizer__max_df=0.6, score=0.512450 - 2.5min[CV]  vectorizer__min_df=0.01, transformer__use_idf=True, vectorizer__ngram_range=(1, 3), nbClassifier__fit_prior=True, vectorizer__max_df=0.6, score=0.516010 - 2.5min[CV]  vectorizer__min_df=0.1, transformer__use_idf=True, vectorizer__ngram_range=(1, 1), nbClassifier__fit_prior=True, vectorizer__max_df=0.6, score=0.420012 -  35.9s[CV]  vectorizer__min_df=0.1, transformer__use_idf=True, vectorizer__ngram_range=(1, 1), nbClassifier__fit_prior=True, vectorizer__max_df=0.6, score=0.420028 -  36.2s[CV]  vectorizer__min_df=0.1, transformer__use_idf=True, vectorizer__ngram_range=(1, 2), nbClassifier__fit_prior=True, vectorizer__max_df=0.6, score=0.420012 - 1.4min[CV]  vectorizer__min_df=0.1, transformer__use_idf=True, vectorizer__ngram_range=(1, 2), nbClassifier__fit_prior=True, vectorizer__max_df=0.6, score=0.420028 - 1.4min\n",
      "\n",
      "\n",
      "\n",
      "\n",
      "\n",
      "\n",
      "\n",
      "\n",
      "\n",
      "\n",
      "\n",
      "\n",
      "\n",
      "\n",
      "\n",
      "[CV] vectorizer__min_df=0.1, transformer__use_idf=True, vectorizer__ngram_range=(1, 3), nbClassifier__fit_prior=True, vectorizer__max_df=0.6 [CV] vectorizer__min_df=0.1, transformer__use_idf=True, vectorizer__ngram_range=(1, 3), nbClassifier__fit_prior=True, vectorizer__max_df=0.6 [CV] vectorizer__min_df=0.01, transformer__use_idf=True, vectorizer__ngram_range=(1, 1), nbClassifier__fit_prior=True, vectorizer__max_df=0.75 [CV] vectorizer__min_df=0.01, transformer__use_idf=True, vectorizer__ngram_range=(1, 1), nbClassifier__fit_prior=True, vectorizer__max_df=0.75 [CV] vectorizer__min_df=0.1, transformer__use_idf=True, vectorizer__ngram_range=(1, 3), nbClassifier__fit_prior=True, vectorizer__max_df=0.75 [CV] vectorizer__min_df=0.1, transformer__use_idf=True, vectorizer__ngram_range=(1, 3), nbClassifier__fit_prior=True, vectorizer__max_df=0.75 [CV] vectorizer__min_df=1000, transformer__use_idf=True, vectorizer__ngram_range=(1, 1), nbClassifier__fit_prior=True, vectorizer__max_df=0.75 [CV] vectorizer__min_df=1000, transformer__use_idf=True, vectorizer__ngram_range=(1, 1), nbClassifier__fit_prior=True, vectorizer__max_df=0.75 [CV] vectorizer__min_df=0.01, transformer__use_idf=True, vectorizer__ngram_range=(1, 2), nbClassifier__fit_prior=True, vectorizer__max_df=0.75 [CV] vectorizer__min_df=0.01, transformer__use_idf=True, vectorizer__ngram_range=(1, 2), nbClassifier__fit_prior=True, vectorizer__max_df=0.75 [CV] vectorizer__min_df=1000, transformer__use_idf=False, vectorizer__ngram_range=(1, 2), nbClassifier__fit_prior=True, vectorizer__max_df=0.6 [CV] vectorizer__min_df=1000, transformer__use_idf=False, vectorizer__ngram_range=(1, 2), nbClassifier__fit_prior=True, vectorizer__max_df=0.6 [CV] vectorizer__min_df=1000, transformer__use_idf=True, vectorizer__ngram_range=(1, 2), nbClassifier__fit_prior=True, vectorizer__max_df=0.75 [CV] vectorizer__min_df=1000, transformer__use_idf=True, vectorizer__ngram_range=(1, 2), nbClassifier__fit_prior=True, vectorizer__max_df=0.75 [CV] vectorizer__min_df=0.01, transformer__use_idf=True, vectorizer__ngram_range=(1, 3), nbClassifier__fit_prior=True, vectorizer__max_df=0.75 [CV] vectorizer__min_df=0.01, transformer__use_idf=True, vectorizer__ngram_range=(1, 3), nbClassifier__fit_prior=True, vectorizer__max_df=0.75 \n",
      "\n",
      "\n",
      "\n",
      "\n",
      "\n",
      "\n",
      "\n",
      "\n",
      "\n",
      "\n",
      "\n",
      "\n",
      "\n",
      "\n",
      "\n",
      "[CV]  vectorizer__min_df=0.1, transformer__use_idf=True, vectorizer__ngram_range=(1, 3), nbClassifier__fit_prior=True, vectorizer__max_df=0.6, score=0.420012 - 2.6min[CV]  vectorizer__min_df=0.1, transformer__use_idf=True, vectorizer__ngram_range=(1, 3), nbClassifier__fit_prior=True, vectorizer__max_df=0.6, score=0.420028 - 2.6min[CV]  vectorizer__min_df=0.01, transformer__use_idf=True, vectorizer__ngram_range=(1, 1), nbClassifier__fit_prior=True, vectorizer__max_df=0.75, score=0.508990 -  33.5s[CV]  vectorizer__min_df=0.01, transformer__use_idf=True, vectorizer__ngram_range=(1, 1), nbClassifier__fit_prior=True, vectorizer__max_df=0.75, score=0.508410 -  32.5s[CV]  vectorizer__min_df=0.1, transformer__use_idf=True, vectorizer__ngram_range=(1, 3), nbClassifier__fit_prior=True, vectorizer__max_df=0.75, score=0.420012 - 2.6min[CV]  vectorizer__min_df=0.1, transformer__use_idf=True, vectorizer__ngram_range=(1, 3), nbClassifier__fit_prior=True, vectorizer__max_df=0.75, score=0.420028 - 2.6min[CV]  vectorizer__min_df=1000, transformer__use_idf=True, vectorizer__ngram_range=(1, 1), nbClassifier__fit_prior=True, vectorizer__max_df=0.75, score=0.487110 -  33.6s[CV]  vectorizer__min_df=1000, transformer__use_idf=True, vectorizer__ngram_range=(1, 1), nbClassifier__fit_prior=True, vectorizer__max_df=0.75, score=0.486550 -  32.7s[CV]  vectorizer__min_df=0.01, transformer__use_idf=True, vectorizer__ngram_range=(1, 2), nbClassifier__fit_prior=True, vectorizer__max_df=0.75, score=0.512450 - 1.4min[CV]  vectorizer__min_df=0.01, transformer__use_idf=True, vectorizer__ngram_range=(1, 2), nbClassifier__fit_prior=True, vectorizer__max_df=0.75, score=0.516010 - 1.3min[CV]  vectorizer__min_df=1000, transformer__use_idf=False, vectorizer__ngram_range=(1, 2), nbClassifier__fit_prior=True, vectorizer__max_df=0.6, score=0.485450 - 1.4min[CV]  vectorizer__min_df=1000, transformer__use_idf=False, vectorizer__ngram_range=(1, 2), nbClassifier__fit_prior=True, vectorizer__max_df=0.6, score=0.486790 - 1.4min[CV]  vectorizer__min_df=1000, transformer__use_idf=True, vectorizer__ngram_range=(1, 2), nbClassifier__fit_prior=True, vectorizer__max_df=0.75, score=0.489950 - 1.3min[CV]  vectorizer__min_df=1000, transformer__use_idf=True, vectorizer__ngram_range=(1, 2), nbClassifier__fit_prior=True, vectorizer__max_df=0.75, score=0.490250 - 1.4min[CV]  vectorizer__min_df=0.01, transformer__use_idf=True, vectorizer__ngram_range=(1, 3), nbClassifier__fit_prior=True, vectorizer__max_df=0.75, score=0.512450 - 2.5min[CV]  vectorizer__min_df=0.01, transformer__use_idf=True, vectorizer__ngram_range=(1, 3), nbClassifier__fit_prior=True, vectorizer__max_df=0.75, score=0.516010 - 2.4min\n",
      "\n",
      "\n",
      "\n",
      "\n",
      "\n",
      "\n",
      "\n",
      "\n",
      "\n",
      "\n",
      "\n",
      "\n",
      "\n",
      "\n",
      "\n",
      "[CV] vectorizer__min_df=0.01, transformer__use_idf=False, vectorizer__ngram_range=(1, 1), nbClassifier__fit_prior=True, vectorizer__max_df=0.6 [CV] vectorizer__min_df=0.01, transformer__use_idf=False, vectorizer__ngram_range=(1, 2), nbClassifier__fit_prior=True, vectorizer__max_df=0.6 [CV] vectorizer__min_df=0.1, transformer__use_idf=True, vectorizer__ngram_range=(1, 1), nbClassifier__fit_prior=True, vectorizer__max_df=0.75 [CV] vectorizer__min_df=0.1, transformer__use_idf=True, vectorizer__ngram_range=(1, 1), nbClassifier__fit_prior=True, vectorizer__max_df=0.75 [CV] vectorizer__min_df=0.01, transformer__use_idf=False, vectorizer__ngram_range=(1, 2), nbClassifier__fit_prior=True, vectorizer__max_df=0.75 [CV] vectorizer__min_df=0.01, transformer__use_idf=False, vectorizer__ngram_range=(1, 2), nbClassifier__fit_prior=True, vectorizer__max_df=0.75 [CV] vectorizer__min_df=1000, transformer__use_idf=True, vectorizer__ngram_range=(1, 3), nbClassifier__fit_prior=True, vectorizer__max_df=0.75 [CV] vectorizer__min_df=1000, transformer__use_idf=True, vectorizer__ngram_range=(1, 3), nbClassifier__fit_prior=True, vectorizer__max_df=0.75 [CV] vectorizer__min_df=1000, transformer__use_idf=False, vectorizer__ngram_range=(1, 3), nbClassifier__fit_prior=True, vectorizer__max_df=0.6 [CV] vectorizer__min_df=1000, transformer__use_idf=False, vectorizer__ngram_range=(1, 3), nbClassifier__fit_prior=True, vectorizer__max_df=0.6 [CV] vectorizer__min_df=1000, transformer__use_idf=False, vectorizer__ngram_range=(1, 1), nbClassifier__fit_prior=True, vectorizer__max_df=0.75 [CV] vectorizer__min_df=1000, transformer__use_idf=False, vectorizer__ngram_range=(1, 1), nbClassifier__fit_prior=True, vectorizer__max_df=0.75 [CV] vectorizer__min_df=0.1, transformer__use_idf=True, vectorizer__ngram_range=(1, 2), nbClassifier__fit_prior=True, vectorizer__max_df=0.75 [CV] vectorizer__min_df=0.1, transformer__use_idf=True, vectorizer__ngram_range=(1, 2), nbClassifier__fit_prior=True, vectorizer__max_df=0.75 [CV] vectorizer__min_df=0.1, transformer__use_idf=False, vectorizer__ngram_range=(1, 3), nbClassifier__fit_prior=True, vectorizer__max_df=0.6 [CV] vectorizer__min_df=0.1, transformer__use_idf=False, vectorizer__ngram_range=(1, 3), nbClassifier__fit_prior=True, vectorizer__max_df=0.6 \n",
      "\n",
      "\n",
      "\n",
      "\n",
      "\n",
      "\n",
      "\n",
      "\n",
      "\n",
      "\n",
      "\n",
      "\n",
      "\n",
      "\n",
      "\n",
      "[CV]  vectorizer__min_df=0.01, transformer__use_idf=False, vectorizer__ngram_range=(1, 1), nbClassifier__fit_prior=True, vectorizer__max_df=0.6, score=0.505310 -  36.7s[CV]  vectorizer__min_df=0.01, transformer__use_idf=False, vectorizer__ngram_range=(1, 2), nbClassifier__fit_prior=True, vectorizer__max_df=0.6, score=0.508270 - 1.4min[CV]  vectorizer__min_df=0.1, transformer__use_idf=True, vectorizer__ngram_range=(1, 1), nbClassifier__fit_prior=True, vectorizer__max_df=0.75, score=0.420012 -  38.7s[CV]  vectorizer__min_df=0.1, transformer__use_idf=True, vectorizer__ngram_range=(1, 1), nbClassifier__fit_prior=True, vectorizer__max_df=0.75, score=0.420028 -  37.9s[CV]  vectorizer__min_df=0.01, transformer__use_idf=False, vectorizer__ngram_range=(1, 2), nbClassifier__fit_prior=True, vectorizer__max_df=0.75, score=0.508270 - 1.6min[CV]  vectorizer__min_df=0.01, transformer__use_idf=False, vectorizer__ngram_range=(1, 2), nbClassifier__fit_prior=True, vectorizer__max_df=0.75, score=0.510050 - 1.6min[CV]  vectorizer__min_df=1000, transformer__use_idf=True, vectorizer__ngram_range=(1, 3), nbClassifier__fit_prior=True, vectorizer__max_df=0.75, score=0.490250 - 2.5min[CV]  vectorizer__min_df=1000, transformer__use_idf=True, vectorizer__ngram_range=(1, 3), nbClassifier__fit_prior=True, vectorizer__max_df=0.75, score=0.489950 - 2.5min[CV]  vectorizer__min_df=1000, transformer__use_idf=False, vectorizer__ngram_range=(1, 3), nbClassifier__fit_prior=True, vectorizer__max_df=0.6, score=0.486790 - 2.5min[CV]  vectorizer__min_df=1000, transformer__use_idf=False, vectorizer__ngram_range=(1, 3), nbClassifier__fit_prior=True, vectorizer__max_df=0.6, score=0.485450 - 2.5min[CV]  vectorizer__min_df=1000, transformer__use_idf=False, vectorizer__ngram_range=(1, 1), nbClassifier__fit_prior=True, vectorizer__max_df=0.75, score=0.483590 -  34.5s[CV]  vectorizer__min_df=1000, transformer__use_idf=False, vectorizer__ngram_range=(1, 1), nbClassifier__fit_prior=True, vectorizer__max_df=0.75, score=0.484130 -  36.5s[CV]  vectorizer__min_df=0.1, transformer__use_idf=True, vectorizer__ngram_range=(1, 2), nbClassifier__fit_prior=True, vectorizer__max_df=0.75, score=0.420012 - 1.4min[CV]  vectorizer__min_df=0.1, transformer__use_idf=True, vectorizer__ngram_range=(1, 2), nbClassifier__fit_prior=True, vectorizer__max_df=0.75, score=0.420028 - 1.4min[CV]  vectorizer__min_df=0.1, transformer__use_idf=False, vectorizer__ngram_range=(1, 3), nbClassifier__fit_prior=True, vectorizer__max_df=0.6, score=0.420312 - 2.9min[CV]  vectorizer__min_df=0.1, transformer__use_idf=False, vectorizer__ngram_range=(1, 3), nbClassifier__fit_prior=True, vectorizer__max_df=0.6, score=0.420508 - 2.8min\n",
      "\n",
      "\n",
      "\n",
      "\n",
      "\n",
      "\n",
      "\n",
      "\n",
      "\n",
      "\n",
      "\n",
      "\n",
      "\n",
      "\n",
      "\n",
      "[CV] vectorizer__min_df=0.1, transformer__use_idf=False, vectorizer__ngram_range=(1, 2), nbClassifier__fit_prior=True, vectorizer__max_df=0.6 [CV] vectorizer__min_df=1000, transformer__use_idf=False, vectorizer__ngram_range=(1, 3), nbClassifier__fit_prior=True, vectorizer__max_df=0.75 [CV] vectorizer__min_df=1000, transformer__use_idf=False, vectorizer__ngram_range=(1, 1), nbClassifier__fit_prior=True, vectorizer__max_df=0.6 [CV] vectorizer__min_df=1000, transformer__use_idf=False, vectorizer__ngram_range=(1, 1), nbClassifier__fit_prior=True, vectorizer__max_df=0.6 [CV] vectorizer__min_df=1000, transformer__use_idf=True, vectorizer__ngram_range=(1, 3), nbClassifier__fit_prior=False, vectorizer__max_df=0.6 [CV] vectorizer__min_df=0.01, transformer__use_idf=True, vectorizer__ngram_range=(1, 1), nbClassifier__fit_prior=False, vectorizer__max_df=0.6 [CV] vectorizer__min_df=0.1, transformer__use_idf=False, vectorizer__ngram_range=(1, 1), nbClassifier__fit_prior=True, vectorizer__max_df=0.6 [CV] vectorizer__min_df=0.1, transformer__use_idf=False, vectorizer__ngram_range=(1, 1), nbClassifier__fit_prior=True, vectorizer__max_df=0.6 [CV] vectorizer__min_df=0.1, transformer__use_idf=False, vectorizer__ngram_range=(1, 2), nbClassifier__fit_prior=True, vectorizer__max_df=0.75 [CV] vectorizer__min_df=0.1, transformer__use_idf=False, vectorizer__ngram_range=(1, 1), nbClassifier__fit_prior=True, vectorizer__max_df=0.75 [CV] vectorizer__min_df=0.01, transformer__use_idf=False, vectorizer__ngram_range=(1, 1), nbClassifier__fit_prior=True, vectorizer__max_df=0.75 [CV] vectorizer__min_df=0.01, transformer__use_idf=False, vectorizer__ngram_range=(1, 1), nbClassifier__fit_prior=True, vectorizer__max_df=0.75 [CV] vectorizer__min_df=0.01, transformer__use_idf=False, vectorizer__ngram_range=(1, 3), nbClassifier__fit_prior=True, vectorizer__max_df=0.6 [CV] vectorizer__min_df=0.01, transformer__use_idf=False, vectorizer__ngram_range=(1, 3), nbClassifier__fit_prior=True, vectorizer__max_df=0.6 [CV] vectorizer__min_df=0.01, transformer__use_idf=True, vectorizer__ngram_range=(1, 2), nbClassifier__fit_prior=False, vectorizer__max_df=0.6 [CV] vectorizer__min_df=0.01, transformer__use_idf=True, vectorizer__ngram_range=(1, 2), nbClassifier__fit_prior=False, vectorizer__max_df=0.6 \n",
      "\n",
      "\n",
      "\n",
      "\n",
      "\n",
      "\n",
      "\n",
      "\n",
      "\n",
      "\n",
      "\n",
      "\n",
      "\n",
      "\n",
      "\n",
      "[CV]  vectorizer__min_df=0.1, transformer__use_idf=False, vectorizer__ngram_range=(1, 2), nbClassifier__fit_prior=True, vectorizer__max_df=0.6, score=0.420312 - 1.4min[CV]  vectorizer__min_df=1000, transformer__use_idf=False, vectorizer__ngram_range=(1, 3), nbClassifier__fit_prior=True, vectorizer__max_df=0.75, score=0.486790 - 2.8min[CV]  vectorizer__min_df=1000, transformer__use_idf=False, vectorizer__ngram_range=(1, 1), nbClassifier__fit_prior=True, vectorizer__max_df=0.6, score=0.483590 -  36.3s[CV]  vectorizer__min_df=1000, transformer__use_idf=False, vectorizer__ngram_range=(1, 1), nbClassifier__fit_prior=True, vectorizer__max_df=0.6, score=0.484130 -  37.4s[CV]  vectorizer__min_df=1000, transformer__use_idf=True, vectorizer__ngram_range=(1, 3), nbClassifier__fit_prior=False, vectorizer__max_df=0.6, score=0.495150 - 2.6min[CV]  vectorizer__min_df=0.01, transformer__use_idf=True, vectorizer__ngram_range=(1, 1), nbClassifier__fit_prior=False, vectorizer__max_df=0.6, score=0.521550 -  40.5s[CV]  vectorizer__min_df=0.1, transformer__use_idf=False, vectorizer__ngram_range=(1, 1), nbClassifier__fit_prior=True, vectorizer__max_df=0.6, score=0.420312 -  39.0s[CV]  vectorizer__min_df=0.1, transformer__use_idf=False, vectorizer__ngram_range=(1, 1), nbClassifier__fit_prior=True, vectorizer__max_df=0.6, score=0.420508 -  39.1s[CV]  vectorizer__min_df=0.1, transformer__use_idf=False, vectorizer__ngram_range=(1, 2), nbClassifier__fit_prior=True, vectorizer__max_df=0.75, score=0.420508 - 1.6min[CV]  vectorizer__min_df=0.1, transformer__use_idf=False, vectorizer__ngram_range=(1, 1), nbClassifier__fit_prior=True, vectorizer__max_df=0.75, score=0.420508 -  42.6s[CV]  vectorizer__min_df=0.01, transformer__use_idf=False, vectorizer__ngram_range=(1, 1), nbClassifier__fit_prior=True, vectorizer__max_df=0.75, score=0.505310 -  38.6s[CV]  vectorizer__min_df=0.01, transformer__use_idf=False, vectorizer__ngram_range=(1, 1), nbClassifier__fit_prior=True, vectorizer__max_df=0.75, score=0.505110 -  37.8s[CV]  vectorizer__min_df=0.01, transformer__use_idf=False, vectorizer__ngram_range=(1, 3), nbClassifier__fit_prior=True, vectorizer__max_df=0.6, score=0.508270 - 2.6min[CV]  vectorizer__min_df=0.01, transformer__use_idf=False, vectorizer__ngram_range=(1, 3), nbClassifier__fit_prior=True, vectorizer__max_df=0.6, score=0.510050 - 2.6min[CV]  vectorizer__min_df=0.01, transformer__use_idf=True, vectorizer__ngram_range=(1, 2), nbClassifier__fit_prior=False, vectorizer__max_df=0.6, score=0.524490 - 1.5min[CV]  vectorizer__min_df=0.01, transformer__use_idf=True, vectorizer__ngram_range=(1, 2), nbClassifier__fit_prior=False, vectorizer__max_df=0.6, score=0.519150 - 1.5min\n",
      "\n",
      "\n",
      "\n",
      "\n",
      "\n",
      "\n",
      "\n",
      "\n",
      "\n",
      "\n",
      "\n",
      "\n",
      "\n",
      "\n",
      "\n",
      "[CV] vectorizer__min_df=0.01, transformer__use_idf=False, vectorizer__ngram_range=(1, 3), nbClassifier__fit_prior=True, vectorizer__max_df=0.75 [CV] vectorizer__min_df=0.1, transformer__use_idf=True, vectorizer__ngram_range=(1, 1), nbClassifier__fit_prior=False, vectorizer__max_df=0.6 [CV] vectorizer__min_df=0.01, transformer__use_idf=False, vectorizer__ngram_range=(1, 1), nbClassifier__fit_prior=True, vectorizer__max_df=0.6 [CV] vectorizer__min_df=0.01, transformer__use_idf=False, vectorizer__ngram_range=(1, 2), nbClassifier__fit_prior=True, vectorizer__max_df=0.6 [CV] vectorizer__min_df=0.1, transformer__use_idf=True, vectorizer__ngram_range=(1, 1), nbClassifier__fit_prior=False, vectorizer__max_df=0.75 [CV] vectorizer__min_df=0.1, transformer__use_idf=True, vectorizer__ngram_range=(1, 2), nbClassifier__fit_prior=False, vectorizer__max_df=0.6 [CV] vectorizer__min_df=1000, transformer__use_idf=False, vectorizer__ngram_range=(1, 2), nbClassifier__fit_prior=True, vectorizer__max_df=0.75 [CV] vectorizer__min_df=1000, transformer__use_idf=False, vectorizer__ngram_range=(1, 2), nbClassifier__fit_prior=True, vectorizer__max_df=0.75 [CV] vectorizer__min_df=0.01, transformer__use_idf=True, vectorizer__ngram_range=(1, 3), nbClassifier__fit_prior=False, vectorizer__max_df=0.6 [CV] vectorizer__min_df=1000, transformer__use_idf=True, vectorizer__ngram_range=(1, 2), nbClassifier__fit_prior=False, vectorizer__max_df=0.6 [CV] vectorizer__min_df=0.1, transformer__use_idf=False, vectorizer__ngram_range=(1, 1), nbClassifier__fit_prior=True, vectorizer__max_df=0.75 [CV] vectorizer__min_df=0.1, transformer__use_idf=False, vectorizer__ngram_range=(1, 2), nbClassifier__fit_prior=True, vectorizer__max_df=0.75 [CV] vectorizer__min_df=1000, transformer__use_idf=True, vectorizer__ngram_range=(1, 1), nbClassifier__fit_prior=False, vectorizer__max_df=0.6 [CV] vectorizer__min_df=1000, transformer__use_idf=True, vectorizer__ngram_range=(1, 2), nbClassifier__fit_prior=False, vectorizer__max_df=0.6 [CV] vectorizer__min_df=1000, transformer__use_idf=True, vectorizer__ngram_range=(1, 3), nbClassifier__fit_prior=False, vectorizer__max_df=0.75 [CV] vectorizer__min_df=1000, transformer__use_idf=True, vectorizer__ngram_range=(1, 3), nbClassifier__fit_prior=False, vectorizer__max_df=0.75 \n",
      "\n",
      "\n",
      "\n",
      "\n",
      "\n",
      "\n",
      "\n",
      "\n",
      "\n",
      "\n",
      "\n",
      "\n",
      "\n",
      "\n",
      "\n",
      "[CV]  vectorizer__min_df=0.01, transformer__use_idf=False, vectorizer__ngram_range=(1, 3), nbClassifier__fit_prior=True, vectorizer__max_df=0.75, score=0.510050 - 2.8min[CV]  vectorizer__min_df=0.1, transformer__use_idf=True, vectorizer__ngram_range=(1, 1), nbClassifier__fit_prior=False, vectorizer__max_df=0.6, score=0.407388 -  39.4s[CV]  vectorizer__min_df=0.01, transformer__use_idf=False, vectorizer__ngram_range=(1, 1), nbClassifier__fit_prior=True, vectorizer__max_df=0.6, score=0.505110 -  36.5s[CV]  vectorizer__min_df=0.01, transformer__use_idf=False, vectorizer__ngram_range=(1, 2), nbClassifier__fit_prior=True, vectorizer__max_df=0.6, score=0.510050 - 1.3min[CV]  vectorizer__min_df=0.1, transformer__use_idf=True, vectorizer__ngram_range=(1, 1), nbClassifier__fit_prior=False, vectorizer__max_df=0.75, score=0.407388 -  30.9s[CV]  vectorizer__min_df=0.1, transformer__use_idf=True, vectorizer__ngram_range=(1, 2), nbClassifier__fit_prior=False, vectorizer__max_df=0.6, score=0.404592 - 1.5min[CV]  vectorizer__min_df=1000, transformer__use_idf=False, vectorizer__ngram_range=(1, 2), nbClassifier__fit_prior=True, vectorizer__max_df=0.75, score=0.485450 - 1.5min[CV]  vectorizer__min_df=1000, transformer__use_idf=False, vectorizer__ngram_range=(1, 2), nbClassifier__fit_prior=True, vectorizer__max_df=0.75, score=0.486790 - 1.5min[CV]  vectorizer__min_df=0.01, transformer__use_idf=True, vectorizer__ngram_range=(1, 3), nbClassifier__fit_prior=False, vectorizer__max_df=0.6, score=0.524490 - 2.6min[CV]  vectorizer__min_df=1000, transformer__use_idf=True, vectorizer__ngram_range=(1, 2), nbClassifier__fit_prior=False, vectorizer__max_df=0.6, score=0.495150 - 1.5min[CV]  vectorizer__min_df=0.1, transformer__use_idf=False, vectorizer__ngram_range=(1, 1), nbClassifier__fit_prior=True, vectorizer__max_df=0.75, score=0.420312 -  41.8s[CV]  vectorizer__min_df=0.1, transformer__use_idf=False, vectorizer__ngram_range=(1, 2), nbClassifier__fit_prior=True, vectorizer__max_df=0.75, score=0.420312 - 1.6min[CV]  vectorizer__min_df=1000, transformer__use_idf=True, vectorizer__ngram_range=(1, 1), nbClassifier__fit_prior=False, vectorizer__max_df=0.6, score=0.496990 -  43.3s[CV]  vectorizer__min_df=1000, transformer__use_idf=True, vectorizer__ngram_range=(1, 2), nbClassifier__fit_prior=False, vectorizer__max_df=0.6, score=0.496330 - 1.5min[CV]  vectorizer__min_df=1000, transformer__use_idf=True, vectorizer__ngram_range=(1, 3), nbClassifier__fit_prior=False, vectorizer__max_df=0.75, score=0.496330 - 2.2min[CV]  vectorizer__min_df=1000, transformer__use_idf=True, vectorizer__ngram_range=(1, 3), nbClassifier__fit_prior=False, vectorizer__max_df=0.75, score=0.495150 - 2.2min\n",
      "\n",
      "\n",
      "\n",
      "\n",
      "\n",
      "\n",
      "\n",
      "\n",
      "\n",
      "\n",
      "\n",
      "\n",
      "\n",
      "\n",
      "\n",
      "[CV] vectorizer__min_df=1000, transformer__use_idf=True, vectorizer__ngram_range=(1, 1), nbClassifier__fit_prior=False, vectorizer__max_df=0.75 [CV] vectorizer__min_df=1000, transformer__use_idf=True, vectorizer__ngram_range=(1, 2), nbClassifier__fit_prior=False, vectorizer__max_df=0.75 [CV] vectorizer__min_df=0.1, transformer__use_idf=False, vectorizer__ngram_range=(1, 2), nbClassifier__fit_prior=True, vectorizer__max_df=0.6 [CV] vectorizer__min_df=1000, transformer__use_idf=False, vectorizer__ngram_range=(1, 3), nbClassifier__fit_prior=True, vectorizer__max_df=0.75 [CV] vectorizer__min_df=1000, transformer__use_idf=False, vectorizer__ngram_range=(1, 2), nbClassifier__fit_prior=False, vectorizer__max_df=0.6 [CV] vectorizer__min_df=0.01, transformer__use_idf=True, vectorizer__ngram_range=(1, 3), nbClassifier__fit_prior=False, vectorizer__max_df=0.75 [CV] vectorizer__min_df=0.1, transformer__use_idf=False, vectorizer__ngram_range=(1, 3), nbClassifier__fit_prior=True, vectorizer__max_df=0.75 [CV] vectorizer__min_df=0.1, transformer__use_idf=False, vectorizer__ngram_range=(1, 3), nbClassifier__fit_prior=True, vectorizer__max_df=0.75 [CV] vectorizer__min_df=1000, transformer__use_idf=False, vectorizer__ngram_range=(1, 1), nbClassifier__fit_prior=False, vectorizer__max_df=0.6 [CV] vectorizer__min_df=0.1, transformer__use_idf=True, vectorizer__ngram_range=(1, 3), nbClassifier__fit_prior=False, vectorizer__max_df=0.6 [CV] vectorizer__min_df=1000, transformer__use_idf=True, vectorizer__ngram_range=(1, 1), nbClassifier__fit_prior=False, vectorizer__max_df=0.6 [CV] vectorizer__min_df=0.01, transformer__use_idf=True, vectorizer__ngram_range=(1, 3), nbClassifier__fit_prior=False, vectorizer__max_df=0.6 [CV] vectorizer__min_df=0.01, transformer__use_idf=True, vectorizer__ngram_range=(1, 1), nbClassifier__fit_prior=False, vectorizer__max_df=0.6 [CV] vectorizer__min_df=0.1, transformer__use_idf=True, vectorizer__ngram_range=(1, 3), nbClassifier__fit_prior=False, vectorizer__max_df=0.6 [CV] vectorizer__min_df=0.1, transformer__use_idf=False, vectorizer__ngram_range=(1, 2), nbClassifier__fit_prior=False, vectorizer__max_df=0.6 [CV] vectorizer__min_df=0.1, transformer__use_idf=False, vectorizer__ngram_range=(1, 2), nbClassifier__fit_prior=False, vectorizer__max_df=0.6 \n",
      "\n",
      "\n",
      "\n",
      "\n",
      "\n",
      "\n",
      "\n",
      "\n",
      "\n",
      "\n",
      "\n",
      "\n",
      "\n",
      "\n",
      "\n",
      "[CV]  vectorizer__min_df=1000, transformer__use_idf=True, vectorizer__ngram_range=(1, 1), nbClassifier__fit_prior=False, vectorizer__max_df=0.75, score=0.496990 -  38.2s[CV]  vectorizer__min_df=1000, transformer__use_idf=True, vectorizer__ngram_range=(1, 2), nbClassifier__fit_prior=False, vectorizer__max_df=0.75, score=0.496330 - 1.4min[CV]  vectorizer__min_df=0.1, transformer__use_idf=False, vectorizer__ngram_range=(1, 2), nbClassifier__fit_prior=True, vectorizer__max_df=0.6, score=0.420508 - 1.4min[CV]  vectorizer__min_df=1000, transformer__use_idf=False, vectorizer__ngram_range=(1, 3), nbClassifier__fit_prior=True, vectorizer__max_df=0.75, score=0.485450 - 2.8min[CV]  vectorizer__min_df=1000, transformer__use_idf=False, vectorizer__ngram_range=(1, 2), nbClassifier__fit_prior=False, vectorizer__max_df=0.6, score=0.500410 - 1.1min[CV]  vectorizer__min_df=0.01, transformer__use_idf=True, vectorizer__ngram_range=(1, 3), nbClassifier__fit_prior=False, vectorizer__max_df=0.75, score=0.519150 - 2.1min[CV]  vectorizer__min_df=0.1, transformer__use_idf=False, vectorizer__ngram_range=(1, 3), nbClassifier__fit_prior=True, vectorizer__max_df=0.75, score=0.420312 - 2.8min[CV]  vectorizer__min_df=0.1, transformer__use_idf=False, vectorizer__ngram_range=(1, 3), nbClassifier__fit_prior=True, vectorizer__max_df=0.75, score=0.420508 - 2.8min[CV]  vectorizer__min_df=1000, transformer__use_idf=False, vectorizer__ngram_range=(1, 1), nbClassifier__fit_prior=False, vectorizer__max_df=0.6, score=0.502130 -  30.7s[CV]  vectorizer__min_df=0.1, transformer__use_idf=True, vectorizer__ngram_range=(1, 3), nbClassifier__fit_prior=False, vectorizer__max_df=0.6, score=0.404592 - 2.4min[CV]  vectorizer__min_df=1000, transformer__use_idf=True, vectorizer__ngram_range=(1, 1), nbClassifier__fit_prior=False, vectorizer__max_df=0.6, score=0.494890 -  43.0s[CV]  vectorizer__min_df=0.01, transformer__use_idf=True, vectorizer__ngram_range=(1, 3), nbClassifier__fit_prior=False, vectorizer__max_df=0.6, score=0.519150 - 2.5min[CV]  vectorizer__min_df=0.01, transformer__use_idf=True, vectorizer__ngram_range=(1, 1), nbClassifier__fit_prior=False, vectorizer__max_df=0.6, score=0.524410 -  38.9s[CV]  vectorizer__min_df=0.1, transformer__use_idf=True, vectorizer__ngram_range=(1, 3), nbClassifier__fit_prior=False, vectorizer__max_df=0.6, score=0.407388 - 2.4min[CV]  vectorizer__min_df=0.1, transformer__use_idf=False, vectorizer__ngram_range=(1, 2), nbClassifier__fit_prior=False, vectorizer__max_df=0.6, score=0.410548 - 1.0min[CV]  vectorizer__min_df=0.1, transformer__use_idf=False, vectorizer__ngram_range=(1, 2), nbClassifier__fit_prior=False, vectorizer__max_df=0.6, score=0.408932 -  60.0s\n",
      "\n",
      "\n",
      "\n",
      "\n",
      "\n",
      "\n",
      "\n",
      "\n",
      "\n",
      "\n",
      "\n",
      "\n",
      "\n",
      "\n",
      "\n",
      "[CV] vectorizer__min_df=0.01, transformer__use_idf=True, vectorizer__ngram_range=(1, 1), nbClassifier__fit_prior=False, vectorizer__max_df=0.75 [CV] vectorizer__min_df=1000, transformer__use_idf=False, vectorizer__ngram_range=(1, 1), nbClassifier__fit_prior=False, vectorizer__max_df=0.6 [CV] vectorizer__min_df=0.01, transformer__use_idf=False, vectorizer__ngram_range=(1, 3), nbClassifier__fit_prior=True, vectorizer__max_df=0.75 [CV] vectorizer__min_df=0.1, transformer__use_idf=True, vectorizer__ngram_range=(1, 1), nbClassifier__fit_prior=False, vectorizer__max_df=0.6 [CV] vectorizer__min_df=0.1, transformer__use_idf=False, vectorizer__ngram_range=(1, 3), nbClassifier__fit_prior=False, vectorizer__max_df=0.6 [CV] vectorizer__min_df=1000, transformer__use_idf=False, vectorizer__ngram_range=(1, 1), nbClassifier__fit_prior=False, vectorizer__max_df=0.75 [CV] vectorizer__min_df=0.01, transformer__use_idf=True, vectorizer__ngram_range=(1, 2), nbClassifier__fit_prior=False, vectorizer__max_df=0.75 [CV] vectorizer__min_df=0.01, transformer__use_idf=True, vectorizer__ngram_range=(1, 2), nbClassifier__fit_prior=False, vectorizer__max_df=0.75 [CV] vectorizer__min_df=0.01, transformer__use_idf=False, vectorizer__ngram_range=(1, 2), nbClassifier__fit_prior=False, vectorizer__max_df=0.6 [CV] vectorizer__min_df=0.01, transformer__use_idf=False, vectorizer__ngram_range=(1, 1), nbClassifier__fit_prior=False, vectorizer__max_df=0.6 [CV] vectorizer__min_df=1000, transformer__use_idf=True, vectorizer__ngram_range=(1, 3), nbClassifier__fit_prior=False, vectorizer__max_df=0.6 [CV] vectorizer__min_df=0.1, transformer__use_idf=True, vectorizer__ngram_range=(1, 3), nbClassifier__fit_prior=False, vectorizer__max_df=0.75 [CV] vectorizer__min_df=0.1, transformer__use_idf=True, vectorizer__ngram_range=(1, 2), nbClassifier__fit_prior=False, vectorizer__max_df=0.6 [CV] vectorizer__min_df=0.01, transformer__use_idf=False, vectorizer__ngram_range=(1, 2), nbClassifier__fit_prior=False, vectorizer__max_df=0.6 [CV] vectorizer__min_df=0.01, transformer__use_idf=False, vectorizer__ngram_range=(1, 3), nbClassifier__fit_prior=False, vectorizer__max_df=0.75 [CV] vectorizer__min_df=0.01, transformer__use_idf=False, vectorizer__ngram_range=(1, 3), nbClassifier__fit_prior=False, vectorizer__max_df=0.75 \n",
      "\n",
      "\n",
      "\n",
      "\n",
      "\n",
      "\n",
      "\n",
      "\n",
      "\n",
      "\n",
      "\n",
      "\n",
      "\n",
      "\n",
      "\n",
      "[CV]  vectorizer__min_df=0.01, transformer__use_idf=True, vectorizer__ngram_range=(1, 1), nbClassifier__fit_prior=False, vectorizer__max_df=0.75, score=0.524410 -  33.9s[CV]  vectorizer__min_df=1000, transformer__use_idf=False, vectorizer__ngram_range=(1, 1), nbClassifier__fit_prior=False, vectorizer__max_df=0.6, score=0.498670 -  32.3s[CV]  vectorizer__min_df=0.01, transformer__use_idf=False, vectorizer__ngram_range=(1, 3), nbClassifier__fit_prior=True, vectorizer__max_df=0.75, score=0.508270 - 2.8min[CV]  vectorizer__min_df=0.1, transformer__use_idf=True, vectorizer__ngram_range=(1, 1), nbClassifier__fit_prior=False, vectorizer__max_df=0.6, score=0.404592 -  42.2s[CV]  vectorizer__min_df=0.1, transformer__use_idf=False, vectorizer__ngram_range=(1, 3), nbClassifier__fit_prior=False, vectorizer__max_df=0.6, score=0.410548 - 1.7min[CV]  vectorizer__min_df=1000, transformer__use_idf=False, vectorizer__ngram_range=(1, 1), nbClassifier__fit_prior=False, vectorizer__max_df=0.75, score=0.498670 -  25.1s[CV]  vectorizer__min_df=0.01, transformer__use_idf=True, vectorizer__ngram_range=(1, 2), nbClassifier__fit_prior=False, vectorizer__max_df=0.75, score=0.519150 - 1.2min[CV]  vectorizer__min_df=0.01, transformer__use_idf=True, vectorizer__ngram_range=(1, 2), nbClassifier__fit_prior=False, vectorizer__max_df=0.75, score=0.524490 - 1.2min[CV]  vectorizer__min_df=0.01, transformer__use_idf=False, vectorizer__ngram_range=(1, 2), nbClassifier__fit_prior=False, vectorizer__max_df=0.6, score=0.522690 - 1.0min[CV]  vectorizer__min_df=0.01, transformer__use_idf=False, vectorizer__ngram_range=(1, 1), nbClassifier__fit_prior=False, vectorizer__max_df=0.6, score=0.525771 -  28.8s[CV]  vectorizer__min_df=1000, transformer__use_idf=True, vectorizer__ngram_range=(1, 3), nbClassifier__fit_prior=False, vectorizer__max_df=0.6, score=0.496330 - 2.7min[CV]  vectorizer__min_df=0.1, transformer__use_idf=True, vectorizer__ngram_range=(1, 3), nbClassifier__fit_prior=False, vectorizer__max_df=0.75, score=0.407388 - 2.0min[CV]  vectorizer__min_df=0.1, transformer__use_idf=True, vectorizer__ngram_range=(1, 2), nbClassifier__fit_prior=False, vectorizer__max_df=0.6, score=0.407388 - 1.5min[CV]  vectorizer__min_df=0.01, transformer__use_idf=False, vectorizer__ngram_range=(1, 2), nbClassifier__fit_prior=False, vectorizer__max_df=0.6, score=0.527351 - 1.0min[CV]  vectorizer__min_df=0.01, transformer__use_idf=False, vectorizer__ngram_range=(1, 3), nbClassifier__fit_prior=False, vectorizer__max_df=0.75, score=0.527351 - 1.4min[CV]  vectorizer__min_df=0.01, transformer__use_idf=False, vectorizer__ngram_range=(1, 3), nbClassifier__fit_prior=False, vectorizer__max_df=0.75, score=0.522690 - 1.4min\n",
      "\n",
      "\n",
      "\n",
      "\n",
      "\n",
      "\n",
      "\n",
      "\n",
      "\n",
      "\n",
      "\n",
      "\n",
      "\n",
      "\n",
      "\n",
      "[CV] vectorizer__min_df=0.1, transformer__use_idf=True, vectorizer__ngram_range=(1, 2), nbClassifier__fit_prior=False, vectorizer__max_df=0.75 [CV] vectorizer__min_df=0.01, transformer__use_idf=False, vectorizer__ngram_range=(1, 1), nbClassifier__fit_prior=False, vectorizer__max_df=0.6 [CV] vectorizer__min_df=1000, transformer__use_idf=True, vectorizer__ngram_range=(1, 1), nbClassifier__fit_prior=False, vectorizer__max_df=0.75 [CV] vectorizer__min_df=1000, transformer__use_idf=True, vectorizer__ngram_range=(1, 2), nbClassifier__fit_prior=False, vectorizer__max_df=0.75 [CV] vectorizer__min_df=1000, transformer__use_idf=False, vectorizer__ngram_range=(1, 3), nbClassifier__fit_prior=False, vectorizer__max_df=0.75 [CV] vectorizer__min_df=0.01, transformer__use_idf=False, vectorizer__ngram_range=(1, 1), nbClassifier__fit_prior=False, vectorizer__max_df=0.75 [CV] vectorizer__min_df=1000, transformer__use_idf=False, vectorizer__ngram_range=(1, 3), nbClassifier__fit_prior=False, vectorizer__max_df=0.6 [CV] vectorizer__min_df=1000, transformer__use_idf=False, vectorizer__ngram_range=(1, 3), nbClassifier__fit_prior=False, vectorizer__max_df=0.6 [CV] vectorizer__min_df=1000, transformer__use_idf=False, vectorizer__ngram_range=(1, 3), nbClassifier__fit_prior=False, vectorizer__max_df=0.75 [CV] vectorizer__min_df=0.1, transformer__use_idf=False, vectorizer__ngram_range=(1, 1), nbClassifier__fit_prior=False, vectorizer__max_df=0.6 [CV] vectorizer__min_df=0.1, transformer__use_idf=True, vectorizer__ngram_range=(1, 2), nbClassifier__fit_prior=False, vectorizer__max_df=0.75 [CV] vectorizer__min_df=0.01, transformer__use_idf=False, vectorizer__ngram_range=(1, 2), nbClassifier__fit_prior=False, vectorizer__max_df=0.75 [CV] vectorizer__min_df=0.01, transformer__use_idf=True, vectorizer__ngram_range=(1, 3), nbClassifier__fit_prior=False, vectorizer__max_df=0.75 \n",
      "\n",
      "\n",
      "\n",
      "\n",
      "\n",
      "\n",
      "\n",
      "\n",
      "\n",
      "\n",
      "\n",
      "\n",
      "[CV]  vectorizer__min_df=0.1, transformer__use_idf=True, vectorizer__ngram_range=(1, 2), nbClassifier__fit_prior=False, vectorizer__max_df=0.75, score=0.404592 - 1.2min[CV]  vectorizer__min_df=0.01, transformer__use_idf=False, vectorizer__ngram_range=(1, 1), nbClassifier__fit_prior=False, vectorizer__max_df=0.6, score=0.522430 -  29.2s[CV]  vectorizer__min_df=1000, transformer__use_idf=True, vectorizer__ngram_range=(1, 1), nbClassifier__fit_prior=False, vectorizer__max_df=0.75, score=0.494890 -  38.2s[CV]  vectorizer__min_df=1000, transformer__use_idf=True, vectorizer__ngram_range=(1, 2), nbClassifier__fit_prior=False, vectorizer__max_df=0.75, score=0.495150 - 1.3min[CV]  vectorizer__min_df=1000, transformer__use_idf=False, vectorizer__ngram_range=(1, 3), nbClassifier__fit_prior=False, vectorizer__max_df=0.75, score=0.500410 - 1.5min[CV]  vectorizer__min_df=0.01, transformer__use_idf=False, vectorizer__ngram_range=(1, 1), nbClassifier__fit_prior=False, vectorizer__max_df=0.75, score=0.525771 -  26.0s[CV]  vectorizer__min_df=1000, transformer__use_idf=False, vectorizer__ngram_range=(1, 3), nbClassifier__fit_prior=False, vectorizer__max_df=0.6, score=0.500410 - 1.9min[CV]  vectorizer__min_df=1000, transformer__use_idf=False, vectorizer__ngram_range=(1, 3), nbClassifier__fit_prior=False, vectorizer__max_df=0.6, score=0.498850 - 1.9min[CV]  vectorizer__min_df=1000, transformer__use_idf=False, vectorizer__ngram_range=(1, 3), nbClassifier__fit_prior=False, vectorizer__max_df=0.75, score=0.498850 - 1.5min[CV]  vectorizer__min_df=0.1, transformer__use_idf=False, vectorizer__ngram_range=(1, 1), nbClassifier__fit_prior=False, vectorizer__max_df=0.6, score=0.408932 -  28.0s[CV]  vectorizer__min_df=0.1, transformer__use_idf=True, vectorizer__ngram_range=(1, 2), nbClassifier__fit_prior=False, vectorizer__max_df=0.75, score=0.407388 - 1.2min[CV]  vectorizer__min_df=0.01, transformer__use_idf=False, vectorizer__ngram_range=(1, 2), nbClassifier__fit_prior=False, vectorizer__max_df=0.75, score=0.527351 -  55.6s[CV]  vectorizer__min_df=0.01, transformer__use_idf=True, vectorizer__ngram_range=(1, 3), nbClassifier__fit_prior=False, vectorizer__max_df=0.75, score=0.524490 - 2.1min\n",
      "\n",
      "\n",
      "\n",
      "\n",
      "\n",
      "\n",
      "\n",
      "\n",
      "\n",
      "\n",
      "\n",
      "\n",
      "[CV] vectorizer__min_df=0.01, transformer__use_idf=False, vectorizer__ngram_range=(1, 3), nbClassifier__fit_prior=False, vectorizer__max_df=0.6 [CV] vectorizer__min_df=0.01, transformer__use_idf=False, vectorizer__ngram_range=(1, 3), nbClassifier__fit_prior=False, vectorizer__max_df=0.6 [CV] vectorizer__min_df=0.01, transformer__use_idf=True, vectorizer__ngram_range=(1, 1), nbClassifier__fit_prior=False, vectorizer__max_df=0.75 [CV] vectorizer__min_df=0.1, transformer__use_idf=True, vectorizer__ngram_range=(1, 3), nbClassifier__fit_prior=False, vectorizer__max_df=0.75 [CV] vectorizer__min_df=1000, transformer__use_idf=False, vectorizer__ngram_range=(1, 2), nbClassifier__fit_prior=False, vectorizer__max_df=0.75 [CV] vectorizer__min_df=0.1, transformer__use_idf=False, vectorizer__ngram_range=(1, 1), nbClassifier__fit_prior=False, vectorizer__max_df=0.75 [CV] vectorizer__min_df=0.1, transformer__use_idf=False, vectorizer__ngram_range=(1, 2), nbClassifier__fit_prior=False, vectorizer__max_df=0.75 [CV] vectorizer__min_df=0.1, transformer__use_idf=False, vectorizer__ngram_range=(1, 2), nbClassifier__fit_prior=False, vectorizer__max_df=0.75 [CV] vectorizer__min_df=0.1, transformer__use_idf=False, vectorizer__ngram_range=(1, 1), nbClassifier__fit_prior=False, vectorizer__max_df=0.6 [CV] vectorizer__min_df=1000, transformer__use_idf=False, vectorizer__ngram_range=(1, 1), nbClassifier__fit_prior=False, vectorizer__max_df=0.75 \n",
      "\n",
      "\n",
      "\n",
      "\n",
      "\n",
      "\n",
      "\n",
      "\n",
      "\n",
      "[CV]  vectorizer__min_df=0.01, transformer__use_idf=False, vectorizer__ngram_range=(1, 3), nbClassifier__fit_prior=False, vectorizer__max_df=0.6, score=0.522690 - 1.8min[CV]  vectorizer__min_df=0.01, transformer__use_idf=False, vectorizer__ngram_range=(1, 3), nbClassifier__fit_prior=False, vectorizer__max_df=0.6, score=0.527351 - 1.8min[CV]  vectorizer__min_df=0.01, transformer__use_idf=True, vectorizer__ngram_range=(1, 1), nbClassifier__fit_prior=False, vectorizer__max_df=0.75, score=0.521550 -  34.6s[CV]  vectorizer__min_df=0.1, transformer__use_idf=True, vectorizer__ngram_range=(1, 3), nbClassifier__fit_prior=False, vectorizer__max_df=0.75, score=0.404592 - 1.9min[CV]  vectorizer__min_df=1000, transformer__use_idf=False, vectorizer__ngram_range=(1, 2), nbClassifier__fit_prior=False, vectorizer__max_df=0.75, score=0.500410 -  59.1s[CV]  vectorizer__min_df=0.1, transformer__use_idf=False, vectorizer__ngram_range=(1, 1), nbClassifier__fit_prior=False, vectorizer__max_df=0.75, score=0.410548 -  27.2s[CV]  vectorizer__min_df=0.1, transformer__use_idf=False, vectorizer__ngram_range=(1, 2), nbClassifier__fit_prior=False, vectorizer__max_df=0.75, score=0.410548 -  46.6s[CV]  vectorizer__min_df=0.1, transformer__use_idf=False, vectorizer__ngram_range=(1, 2), nbClassifier__fit_prior=False, vectorizer__max_df=0.75, score=0.408932 -  46.6s"
     ]
    }
   ],
   "source": [
    "reviews_sample = reviews.sample(n = 100000)\n",
    "pipeline = Pipeline([\n",
    "    ('vectorizer',  CountVectorizer(stop_words='english')),\n",
    "    ('transformer', TfidfTransformer()),\n",
    "    ('nbClassifier',  MultinomialNB()) ])\n",
    "\n",
    "parameters = {\n",
    "    'vectorizer__ngram_range': ((1,1),(1,2),(1,3)),\n",
    "    'vectorizer__max_df': (0.6, 0.75),\n",
    "    'vectorizer__min_df': (1000, 0.01, 0.1),\n",
    "    'transformer__use_idf': (True, False),\n",
    "    'nbClassifier__fit_prior': (True, False) \n",
    "}\n",
    "        \n",
    "if __name__ == \"__main__\":\n",
    "    grid_search = GridSearchCV(pipeline, parameters, n_jobs=-1, verbose=10, cv=2)\n",
    "\n",
    "    print(\"pipeline:\", [name for name, _ in pipeline.steps])\n",
    "    print(\"parameters:\")\n",
    "    pprint(parameters)\n",
    "    t0 = time.time()\n",
    "    grid_search.fit(reviews_sample.Text.values, reviews_sample.Rating_nom.values)\n",
    "    print(\"done in %0.3fs\" % (time.time() - t0))\n",
    "    print(\"Best score: %0.3f\" % grid_search.best_score_)\n",
    "    print(\"Best parameters set:\")\n",
    "    best_parameters = grid_search.best_estimator_.get_params()\n",
    "    for param_name in sorted(parameters.keys()):\n",
    "        print(\"\\t%s: %r\" % (param_name, best_parameters[param_name]))"
   ]
  },
  {
   "cell_type": "code",
   "execution_count": 49,
   "metadata": {
    "collapsed": false
   },
   "outputs": [
    {
     "name": "stdout",
     "output_type": "stream",
     "text": [
      "pipeline: ['vectorizer', 'nbClassifier']\n",
      "parameters:\n",
      "{'vectorizer__max_df': (0.5, 0.6, 0.75),\n",
      " 'vectorizer__min_df': (100, 1000, 0.01, 0.1),\n",
      " 'vectorizer__ngram_range': ((1, 1), (1, 2), (1, 3))}\n",
      "Fitting 2 folds for each of 36 candidates, totalling 72 fits\n"
     ]
    },
    {
     "name": "stderr",
     "output_type": "stream",
     "text": [
      "[Parallel(n_jobs=-1)]: Done   9 tasks      | elapsed:  6.8min\n",
      "[Parallel(n_jobs=-1)]: Done  18 tasks      | elapsed: 13.2min\n",
      "[Parallel(n_jobs=-1)]: Done  29 tasks      | elapsed: 17.9min\n",
      "[Parallel(n_jobs=-1)]: Done  40 tasks      | elapsed: 20.9min\n",
      "[Parallel(n_jobs=-1)]: Done  72 out of  72 | elapsed: 33.9min finished\n"
     ]
    },
    {
     "name": "stdout",
     "output_type": "stream",
     "text": [
      "done in 2217.837s\n",
      "Best score: 0.576\n",
      "Best parameters set:\n",
      "\tvectorizer__max_df: 0.5\n",
      "\tvectorizer__min_df: 100\n",
      "\tvectorizer__ngram_range: (1, 2)\n",
      "[CV] vectorizer__min_df=100, vectorizer__ngram_range=(1, 1), vectorizer__max_df=0.5 \n",
      "[CV] vectorizer__min_df=100, vectorizer__ngram_range=(1, 1), vectorizer__max_df=0.5 \n",
      "[CV] vectorizer__min_df=100, vectorizer__ngram_range=(1, 2), vectorizer__max_df=0.5 \n",
      "[CV] vectorizer__min_df=100, vectorizer__ngram_range=(1, 2), vectorizer__max_df=0.5 \n",
      "[CV] vectorizer__min_df=100, vectorizer__ngram_range=(1, 3), vectorizer__max_df=0.5 \n",
      "[CV] vectorizer__min_df=100, vectorizer__ngram_range=(1, 3), vectorizer__max_df=0.5 \n",
      "[CV] vectorizer__min_df=1000, vectorizer__ngram_range=(1, 1), vectorizer__max_df=0.5 \n",
      "[CV] vectorizer__min_df=1000, vectorizer__ngram_range=(1, 1), vectorizer__max_df=0.5 \n",
      "[CV] vectorizer__min_df=1000, vectorizer__ngram_range=(1, 2), vectorizer__max_df=0.5 \n",
      "[CV] vectorizer__min_df=1000, vectorizer__ngram_range=(1, 2), vectorizer__max_df=0.5 \n",
      "[CV] vectorizer__min_df=1000, vectorizer__ngram_range=(1, 3), vectorizer__max_df=0.5 \n",
      "[CV] vectorizer__min_df=1000, vectorizer__ngram_range=(1, 3), vectorizer__max_df=0.5 \n",
      "[CV] vectorizer__min_df=0.01, vectorizer__ngram_range=(1, 1), vectorizer__max_df=0.5 \n",
      "[CV] vectorizer__min_df=0.01, vectorizer__ngram_range=(1, 1), vectorizer__max_df=0.5 \n",
      "[CV] vectorizer__min_df=0.01, vectorizer__ngram_range=(1, 2), vectorizer__max_df=0.5 \n",
      "[CV] vectorizer__min_df=0.01, vectorizer__ngram_range=(1, 2), vectorizer__max_df=0.5 \n",
      "[CV]  vectorizer__min_df=100, vectorizer__ngram_range=(1, 1), vectorizer__max_df=0.5, score=0.561806 - 1.7min[CV]  vectorizer__min_df=100, vectorizer__ngram_range=(1, 1), vectorizer__max_df=0.5, score=0.562342 - 1.7min[CV]  vectorizer__min_df=100, vectorizer__ngram_range=(1, 2), vectorizer__max_df=0.5, score=0.575298 - 6.7min[CV]  vectorizer__min_df=100, vectorizer__ngram_range=(1, 2), vectorizer__max_df=0.5, score=0.575962 - 6.6min[CV]  vectorizer__min_df=100, vectorizer__ngram_range=(1, 3), vectorizer__max_df=0.5, score=0.574726 -15.0min[CV]  vectorizer__min_df=100, vectorizer__ngram_range=(1, 3), vectorizer__max_df=0.5, score=0.575690 -14.9min[CV]  vectorizer__min_df=1000, vectorizer__ngram_range=(1, 1), vectorizer__max_df=0.5, score=0.555414 - 1.9min[CV]  vectorizer__min_df=1000, vectorizer__ngram_range=(1, 1), vectorizer__max_df=0.5, score=0.554562 - 2.0min[CV]  vectorizer__min_df=1000, vectorizer__ngram_range=(1, 2), vectorizer__max_df=0.5, score=0.557290 - 7.6min[CV]  vectorizer__min_df=1000, vectorizer__ngram_range=(1, 2), vectorizer__max_df=0.5, score=0.556942 - 8.1min[CV]  vectorizer__min_df=1000, vectorizer__ngram_range=(1, 3), vectorizer__max_df=0.5, score=0.557186 -15.1min[CV]  vectorizer__min_df=1000, vectorizer__ngram_range=(1, 3), vectorizer__max_df=0.5, score=0.556742 -15.2min[CV]  vectorizer__min_df=0.01, vectorizer__ngram_range=(1, 1), vectorizer__max_df=0.5, score=0.542938 - 2.1min[CV]  vectorizer__min_df=0.01, vectorizer__ngram_range=(1, 1), vectorizer__max_df=0.5, score=0.542514 - 2.1min[CV]  vectorizer__min_df=0.01, vectorizer__ngram_range=(1, 2), vectorizer__max_df=0.5, score=0.542794 - 8.5min[CV]  vectorizer__min_df=0.01, vectorizer__ngram_range=(1, 2), vectorizer__max_df=0.5, score=0.543478 - 8.6min\n",
      "\n",
      "\n",
      "\n",
      "\n",
      "\n",
      "\n",
      "\n",
      "\n",
      "\n",
      "\n",
      "\n",
      "\n",
      "\n",
      "\n",
      "\n",
      "[CV] vectorizer__min_df=0.01, vectorizer__ngram_range=(1, 3), vectorizer__max_df=0.5 [CV] vectorizer__min_df=0.01, vectorizer__ngram_range=(1, 3), vectorizer__max_df=0.5 [CV] vectorizer__min_df=100, vectorizer__ngram_range=(1, 1), vectorizer__max_df=0.6 [CV] vectorizer__min_df=0.1, vectorizer__ngram_range=(1, 3), vectorizer__max_df=0.5 [CV] vectorizer__min_df=0.01, vectorizer__ngram_range=(1, 1), vectorizer__max_df=0.6 [CV] vectorizer__min_df=0.01, vectorizer__ngram_range=(1, 1), vectorizer__max_df=0.6 [CV] vectorizer__min_df=0.1, vectorizer__ngram_range=(1, 1), vectorizer__max_df=0.5 [CV] vectorizer__min_df=0.1, vectorizer__ngram_range=(1, 1), vectorizer__max_df=0.5 [CV] vectorizer__min_df=100, vectorizer__ngram_range=(1, 2), vectorizer__max_df=0.6 [CV] vectorizer__min_df=100, vectorizer__ngram_range=(1, 2), vectorizer__max_df=0.6 [CV] vectorizer__min_df=0.01, vectorizer__ngram_range=(1, 2), vectorizer__max_df=0.6 [CV] vectorizer__min_df=0.01, vectorizer__ngram_range=(1, 2), vectorizer__max_df=0.6 [CV] vectorizer__min_df=0.1, vectorizer__ngram_range=(1, 2), vectorizer__max_df=0.5 [CV] vectorizer__min_df=0.1, vectorizer__ngram_range=(1, 2), vectorizer__max_df=0.5 [CV] vectorizer__min_df=100, vectorizer__ngram_range=(1, 3), vectorizer__max_df=0.6 [CV] vectorizer__min_df=100, vectorizer__ngram_range=(1, 3), vectorizer__max_df=0.6 \n",
      "\n",
      "\n",
      "\n",
      "\n",
      "\n",
      "\n",
      "\n",
      "\n",
      "\n",
      "\n",
      "\n",
      "\n",
      "\n",
      "\n",
      "\n",
      "[CV]  vectorizer__min_df=0.01, vectorizer__ngram_range=(1, 3), vectorizer__max_df=0.5, score=0.542794 -15.3min[CV]  vectorizer__min_df=0.01, vectorizer__ngram_range=(1, 3), vectorizer__max_df=0.5, score=0.543478 -15.2min[CV]  vectorizer__min_df=100, vectorizer__ngram_range=(1, 1), vectorizer__max_df=0.6, score=0.561546 - 4.5min[CV]  vectorizer__min_df=0.1, vectorizer__ngram_range=(1, 3), vectorizer__max_df=0.5, score=0.442710 -13.4min[CV]  vectorizer__min_df=0.01, vectorizer__ngram_range=(1, 1), vectorizer__max_df=0.6, score=0.542518 - 2.6min[CV]  vectorizer__min_df=0.01, vectorizer__ngram_range=(1, 1), vectorizer__max_df=0.6, score=0.542918 - 2.5min[CV]  vectorizer__min_df=0.1, vectorizer__ngram_range=(1, 1), vectorizer__max_df=0.5, score=0.443354 - 4.3min[CV]  vectorizer__min_df=0.1, vectorizer__ngram_range=(1, 1), vectorizer__max_df=0.5, score=0.442710 - 4.5min[CV]  vectorizer__min_df=100, vectorizer__ngram_range=(1, 2), vectorizer__max_df=0.6, score=0.575174 - 7.5min[CV]  vectorizer__min_df=100, vectorizer__ngram_range=(1, 2), vectorizer__max_df=0.6, score=0.575650 - 7.2min[CV]  vectorizer__min_df=0.01, vectorizer__ngram_range=(1, 2), vectorizer__max_df=0.6, score=0.543014 - 5.0min[CV]  vectorizer__min_df=0.01, vectorizer__ngram_range=(1, 2), vectorizer__max_df=0.6, score=0.543534 - 5.1min[CV]  vectorizer__min_df=0.1, vectorizer__ngram_range=(1, 2), vectorizer__max_df=0.5, score=0.443354 -10.5min[CV]  vectorizer__min_df=0.1, vectorizer__ngram_range=(1, 2), vectorizer__max_df=0.5, score=0.442710 -10.6min[CV]  vectorizer__min_df=100, vectorizer__ngram_range=(1, 3), vectorizer__max_df=0.6, score=0.574670 -11.7min[CV]  vectorizer__min_df=100, vectorizer__ngram_range=(1, 3), vectorizer__max_df=0.6, score=0.575570 -11.5min\n",
      "\n",
      "\n",
      "\n",
      "\n",
      "\n",
      "\n",
      "\n",
      "\n",
      "\n",
      "\n",
      "\n",
      "\n",
      "\n",
      "\n",
      "\n",
      "[CV] vectorizer__min_df=0.1, vectorizer__ngram_range=(1, 1), vectorizer__max_df=0.6 [CV] vectorizer__min_df=0.1, vectorizer__ngram_range=(1, 1), vectorizer__max_df=0.6 [CV] vectorizer__min_df=1000, vectorizer__ngram_range=(1, 1), vectorizer__max_df=0.6 [CV] vectorizer__min_df=100, vectorizer__ngram_range=(1, 2), vectorizer__max_df=0.75 [CV] vectorizer__min_df=0.1, vectorizer__ngram_range=(1, 2), vectorizer__max_df=0.6 [CV] vectorizer__min_df=0.1, vectorizer__ngram_range=(1, 2), vectorizer__max_df=0.6 [CV] vectorizer__min_df=0.1, vectorizer__ngram_range=(1, 3), vectorizer__max_df=0.5 [CV] vectorizer__min_df=100, vectorizer__ngram_range=(1, 1), vectorizer__max_df=0.6 [CV] vectorizer__min_df=0.01, vectorizer__ngram_range=(1, 3), vectorizer__max_df=0.6 [CV] vectorizer__min_df=0.01, vectorizer__ngram_range=(1, 3), vectorizer__max_df=0.6 [CV] vectorizer__min_df=100, vectorizer__ngram_range=(1, 3), vectorizer__max_df=0.75 [CV] vectorizer__min_df=1000, vectorizer__ngram_range=(1, 1), vectorizer__max_df=0.75 [CV] vectorizer__min_df=1000, vectorizer__ngram_range=(1, 2), vectorizer__max_df=0.6 [CV] vectorizer__min_df=1000, vectorizer__ngram_range=(1, 2), vectorizer__max_df=0.6 [CV] vectorizer__min_df=1000, vectorizer__ngram_range=(1, 1), vectorizer__max_df=0.75 [CV] vectorizer__min_df=100, vectorizer__ngram_range=(1, 3), vectorizer__max_df=0.75 \n",
      "\n",
      "\n",
      "\n",
      "\n",
      "\n",
      "\n",
      "\n",
      "\n",
      "\n",
      "\n",
      "\n",
      "\n",
      "\n",
      "\n",
      "\n",
      "[CV]  vectorizer__min_df=0.1, vectorizer__ngram_range=(1, 1), vectorizer__max_df=0.6, score=0.444738 - 2.3min[CV]  vectorizer__min_df=0.1, vectorizer__ngram_range=(1, 1), vectorizer__max_df=0.6, score=0.445154 - 2.3min[CV]  vectorizer__min_df=1000, vectorizer__ngram_range=(1, 1), vectorizer__max_df=0.6, score=0.554318 - 3.2min[CV]  vectorizer__min_df=100, vectorizer__ngram_range=(1, 2), vectorizer__max_df=0.75, score=0.575650 - 4.7min[CV]  vectorizer__min_df=0.1, vectorizer__ngram_range=(1, 2), vectorizer__max_df=0.6, score=0.444738 - 4.9min[CV]  vectorizer__min_df=0.1, vectorizer__ngram_range=(1, 2), vectorizer__max_df=0.6, score=0.445154 - 4.9min[CV]  vectorizer__min_df=0.1, vectorizer__ngram_range=(1, 3), vectorizer__max_df=0.5, score=0.443354 -13.5min[CV]  vectorizer__min_df=100, vectorizer__ngram_range=(1, 1), vectorizer__max_df=0.6, score=0.561898 - 4.5min[CV]  vectorizer__min_df=0.01, vectorizer__ngram_range=(1, 3), vectorizer__max_df=0.6, score=0.543014 - 9.6min[CV]  vectorizer__min_df=0.01, vectorizer__ngram_range=(1, 3), vectorizer__max_df=0.6, score=0.543534 - 9.6min[CV]  vectorizer__min_df=100, vectorizer__ngram_range=(1, 3), vectorizer__max_df=0.75, score=0.574670 - 9.0min[CV]  vectorizer__min_df=1000, vectorizer__ngram_range=(1, 1), vectorizer__max_df=0.75, score=0.554318 - 2.0min[CV]  vectorizer__min_df=1000, vectorizer__ngram_range=(1, 2), vectorizer__max_df=0.6, score=0.557098 - 5.4min[CV]  vectorizer__min_df=1000, vectorizer__ngram_range=(1, 2), vectorizer__max_df=0.6, score=0.556930 - 5.4min[CV]  vectorizer__min_df=1000, vectorizer__ngram_range=(1, 1), vectorizer__max_df=0.75, score=0.555630 - 2.1min[CV]  vectorizer__min_df=100, vectorizer__ngram_range=(1, 3), vectorizer__max_df=0.75, score=0.575570 - 8.7min\n",
      "\n",
      "\n",
      "\n",
      "\n",
      "\n",
      "\n",
      "\n",
      "\n",
      "\n",
      "\n",
      "\n",
      "\n",
      "\n",
      "\n",
      "\n",
      "[CV] vectorizer__min_df=100, vectorizer__ngram_range=(1, 1), vectorizer__max_df=0.75 [CV] vectorizer__min_df=100, vectorizer__ngram_range=(1, 1), vectorizer__max_df=0.75 [CV] vectorizer__min_df=1000, vectorizer__ngram_range=(1, 3), vectorizer__max_df=0.6 [CV] vectorizer__min_df=0.01, vectorizer__ngram_range=(1, 3), vectorizer__max_df=0.75 [CV] vectorizer__min_df=1000, vectorizer__ngram_range=(1, 3), vectorizer__max_df=0.75 [CV] vectorizer__min_df=1000, vectorizer__ngram_range=(1, 3), vectorizer__max_df=0.75 [CV] vectorizer__min_df=100, vectorizer__ngram_range=(1, 2), vectorizer__max_df=0.75 [CV] vectorizer__min_df=1000, vectorizer__ngram_range=(1, 1), vectorizer__max_df=0.6 [CV] vectorizer__min_df=0.1, vectorizer__ngram_range=(1, 1), vectorizer__max_df=0.75 [CV] vectorizer__min_df=0.1, vectorizer__ngram_range=(1, 2), vectorizer__max_df=0.75 [CV] vectorizer__min_df=0.01, vectorizer__ngram_range=(1, 1), vectorizer__max_df=0.75 [CV] vectorizer__min_df=0.01, vectorizer__ngram_range=(1, 1), vectorizer__max_df=0.75 [CV] vectorizer__min_df=0.1, vectorizer__ngram_range=(1, 3), vectorizer__max_df=0.6 [CV] vectorizer__min_df=0.1, vectorizer__ngram_range=(1, 3), vectorizer__max_df=0.6 \n",
      "\n",
      "\n",
      "\n",
      "\n",
      "\n",
      "\n",
      "\n",
      "\n",
      "\n",
      "\n",
      "\n",
      "\n",
      "\n",
      "[CV]  vectorizer__min_df=100, vectorizer__ngram_range=(1, 1), vectorizer__max_df=0.75, score=0.561898 - 2.1min[CV]  vectorizer__min_df=100, vectorizer__ngram_range=(1, 1), vectorizer__max_df=0.75, score=0.561546 - 2.1min[CV]  vectorizer__min_df=1000, vectorizer__ngram_range=(1, 3), vectorizer__max_df=0.6, score=0.556658 - 9.5min[CV]  vectorizer__min_df=0.01, vectorizer__ngram_range=(1, 3), vectorizer__max_df=0.75, score=0.543534 - 7.6min[CV]  vectorizer__min_df=1000, vectorizer__ngram_range=(1, 3), vectorizer__max_df=0.75, score=0.556658 - 8.3min[CV]  vectorizer__min_df=1000, vectorizer__ngram_range=(1, 3), vectorizer__max_df=0.75, score=0.556914 - 8.3min[CV]  vectorizer__min_df=100, vectorizer__ngram_range=(1, 2), vectorizer__max_df=0.75, score=0.575174 - 4.6min[CV]  vectorizer__min_df=1000, vectorizer__ngram_range=(1, 1), vectorizer__max_df=0.6, score=0.555630 - 3.2min[CV]  vectorizer__min_df=0.1, vectorizer__ngram_range=(1, 1), vectorizer__max_df=0.75, score=0.444738 - 2.3min[CV]  vectorizer__min_df=0.1, vectorizer__ngram_range=(1, 2), vectorizer__max_df=0.75, score=0.445154 - 4.4min[CV]  vectorizer__min_df=0.01, vectorizer__ngram_range=(1, 1), vectorizer__max_df=0.75, score=0.542518 - 2.2min[CV]  vectorizer__min_df=0.01, vectorizer__ngram_range=(1, 1), vectorizer__max_df=0.75, score=0.542918 - 2.3min[CV]  vectorizer__min_df=0.1, vectorizer__ngram_range=(1, 3), vectorizer__max_df=0.6, score=0.445154 - 9.4min[CV]  vectorizer__min_df=0.1, vectorizer__ngram_range=(1, 3), vectorizer__max_df=0.6, score=0.444738 - 9.3min\n",
      "\n",
      "\n",
      "\n",
      "\n",
      "\n",
      "\n",
      "\n",
      "\n",
      "\n",
      "\n",
      "\n",
      "\n",
      "\n",
      "[CV] vectorizer__min_df=1000, vectorizer__ngram_range=(1, 2), vectorizer__max_df=0.75 [CV] vectorizer__min_df=1000, vectorizer__ngram_range=(1, 2), vectorizer__max_df=0.75 [CV] vectorizer__min_df=0.01, vectorizer__ngram_range=(1, 2), vectorizer__max_df=0.75 [CV] vectorizer__min_df=0.1, vectorizer__ngram_range=(1, 1), vectorizer__max_df=0.75 [CV] vectorizer__min_df=0.1, vectorizer__ngram_range=(1, 2), vectorizer__max_df=0.75 [CV] vectorizer__min_df=1000, vectorizer__ngram_range=(1, 3), vectorizer__max_df=0.6 [CV] vectorizer__min_df=0.01, vectorizer__ngram_range=(1, 3), vectorizer__max_df=0.75 \n",
      "\n",
      "\n",
      "\n",
      "\n",
      "\n",
      "\n",
      "[CV]  vectorizer__min_df=1000, vectorizer__ngram_range=(1, 2), vectorizer__max_df=0.75, score=0.556930 - 4.9min[CV]  vectorizer__min_df=1000, vectorizer__ngram_range=(1, 2), vectorizer__max_df=0.75, score=0.557098 - 4.9min[CV]  vectorizer__min_df=0.01, vectorizer__ngram_range=(1, 2), vectorizer__max_df=0.75, score=0.543534 - 4.7min[CV]  vectorizer__min_df=0.1, vectorizer__ngram_range=(1, 1), vectorizer__max_df=0.75, score=0.445154 - 2.4min[CV]  vectorizer__min_df=0.1, vectorizer__ngram_range=(1, 2), vectorizer__max_df=0.75, score=0.444738 - 4.4min[CV]  vectorizer__min_df=1000, vectorizer__ngram_range=(1, 3), vectorizer__max_df=0.6, score=0.556914 - 9.5min[CV]  vectorizer__min_df=0.01, vectorizer__ngram_range=(1, 3), vectorizer__max_df=0.75, score=0.543014 - 7.8min\n",
      "\n",
      "\n",
      "\n",
      "\n",
      "\n",
      "\n",
      "[CV] vectorizer__min_df=0.1, vectorizer__ngram_range=(1, 3), vectorizer__max_df=0.75 [CV] vectorizer__min_df=0.1, vectorizer__ngram_range=(1, 3), vectorizer__max_df=0.75 [CV] vectorizer__min_df=0.01, vectorizer__ngram_range=(1, 2), vectorizer__max_df=0.75 \n",
      "\n",
      "\n",
      "[CV]  vectorizer__min_df=0.1, vectorizer__ngram_range=(1, 3), vectorizer__max_df=0.75, score=0.445154 - 6.9min[CV]  vectorizer__min_df=0.1, vectorizer__ngram_range=(1, 3), vectorizer__max_df=0.75, score=0.444738 - 7.1min[CV]  vectorizer__min_df=0.01, vectorizer__ngram_range=(1, 2), vectorizer__max_df=0.75, score=0.543014 - 4.7min\n",
      "\n",
      "\n"
     ]
    }
   ],
   "source": [
    "reviews_sample = reviews.sample(n = 500000)\n",
    "pipeline = Pipeline([\n",
    "    ('vectorizer',  CountVectorizer(stop_words='english')),\n",
    "  #  ('transformer', TfidfTransformer()),\n",
    "    ('nbClassifier',  MultinomialNB()) ])\n",
    "\n",
    "parameters = {\n",
    "    'vectorizer__ngram_range': ((1,1),(1,2),(1,3)),\n",
    "    'vectorizer__max_df': (0.5, 0.6, 0.75),\n",
    "    'vectorizer__min_df': (100, 1000, 0.01, 0.1),\n",
    "  #  'transformer__use_idf': (True, False),\n",
    "   # 'nbClassifier__fit_prior': (True, False) \n",
    "}\n",
    "        \n",
    "if __name__ == \"__main__\":\n",
    "    grid_search = GridSearchCV(pipeline, parameters, n_jobs=-1, verbose=10, cv=2)\n",
    "\n",
    "    print(\"pipeline:\", [name for name, _ in pipeline.steps])\n",
    "    print(\"parameters:\")\n",
    "    pprint(parameters)\n",
    "    t0 = time.time()\n",
    "    grid_search.fit(reviews_sample.Text.values, reviews_sample.Rating_nom.values)\n",
    "    print(\"done in %0.3fs\" % (time.time() - t0))\n",
    "    print(\"Best score: %0.3f\" % grid_search.best_score_)\n",
    "    print(\"Best parameters set:\")\n",
    "    best_parameters = grid_search.best_estimator_.get_params()\n",
    "    for param_name in sorted(parameters.keys()):\n",
    "        print(\"\\t%s: %r\" % (param_name, best_parameters[param_name]))"
   ]
  },
  {
   "cell_type": "markdown",
   "metadata": {},
   "source": [
    "### Multinomial Logistic Regression"
   ]
  },
  {
   "cell_type": "markdown",
   "metadata": {
    "collapsed": true
   },
   "source": [
    "See Yelp_Logistic_Regression_all.ipynb"
   ]
  },
  {
   "cell_type": "markdown",
   "metadata": {},
   "source": [
    "### Support Vector Machines"
   ]
  },
  {
   "cell_type": "code",
   "execution_count": 10,
   "metadata": {
    "collapsed": false,
    "scrolled": true
   },
   "outputs": [
    {
     "name": "stdout",
     "output_type": "stream",
     "text": [
      "pipeline: ['vectorizer', 'transformer', 'svmClassifier']\n",
      "parameters:\n",
      "{'svmClassifier__kernel': ('linear', 'poly', 'rbf', 'sigmoid'),\n",
      " 'vectorizer__ngram_range': ((1, 2), (1, 3))}\n",
      "Fitting 2 folds for each of 8 candidates, totalling 16 fits\n",
      "done in 5455.201s\n",
      "Best score: 0.559\n",
      "Best parameters set:\n",
      "\tsvmClassifier__kernel: 'linear'[CV] svmClassifier__kernel=linear, vectorizer__ngram_range=(1, 2) ....\n",
      "[CV] svmClassifier__kernel=linear, vectorizer__ngram_range=(1, 2) ....\n",
      "[CV] svmClassifier__kernel=linear, vectorizer__ngram_range=(1, 3) ....\n",
      "[CV] svmClassifier__kernel=linear, vectorizer__ngram_range=(1, 3) ....\n",
      "[CV] svmClassifier__kernel=poly, vectorizer__ngram_range=(1, 2) ......\n",
      "[CV] svmClassifier__kernel=poly, vectorizer__ngram_range=(1, 2) ......\n",
      "[CV] svmClassifier__kernel=poly, vectorizer__ngram_range=(1, 3) ......\n",
      "[CV] svmClassifier__kernel=poly, vectorizer__ngram_range=(1, 3) ......\n",
      "[CV] svmClassifier__kernel=rbf, vectorizer__ngram_range=(1, 2) .......\n",
      "[CV] svmClassifier__kernel=rbf, vectorizer__ngram_range=(1, 2) .......\n",
      "[CV] svmClassifier__kernel=rbf, vectorizer__ngram_range=(1, 3) .......\n",
      "[CV] svmClassifier__kernel=rbf, vectorizer__ngram_range=(1, 3) .......\n",
      "[CV] svmClassifier__kernel=sigmoid, vectorizer__ngram_range=(1, 2) ...\n",
      "[CV] svmClassifier__kernel=sigmoid, vectorizer__ngram_range=(1, 2) ...\n",
      "[CV] svmClassifier__kernel=sigmoid, vectorizer__ngram_range=(1, 3) ...\n",
      "[CV] svmClassifier__kernel=sigmoid, vectorizer__ngram_range=(1, 3) ...\n",
      "[CV]  svmClassifier__kernel=linear, vectorizer__ngram_range=(1, 2), score=0.558709 -30.6min[CV]  svmClassifier__kernel=linear, vectorizer__ngram_range=(1, 2), score=0.560251 -30.4min[CV]  svmClassifier__kernel=linear, vectorizer__ngram_range=(1, 3), score=0.558709 -34.5min[CV]  svmClassifier__kernel=linear, vectorizer__ngram_range=(1, 3), score=0.560251 -34.6min[CV]  svmClassifier__kernel=poly, vectorizer__ngram_range=(1, 2), score=0.336013 -37.7min[CV]  svmClassifier__kernel=poly, vectorizer__ngram_range=(1, 2), score=0.336007 -37.8min[CV]  svmClassifier__kernel=poly, vectorizer__ngram_range=(1, 3), score=0.336013 -41.1min[CV]  svmClassifier__kernel=poly, vectorizer__ngram_range=(1, 3), score=0.336007 -42.1min[CV]  svmClassifier__kernel=rbf, vectorizer__ngram_range=(1, 2), score=0.336133 -41.5min[CV]  svmClassifier__kernel=rbf, vectorizer__ngram_range=(1, 2), score=0.336067 -42.9min[CV]  svmClassifier__kernel=rbf, vectorizer__ngram_range=(1, 3), score=0.336133 -44.6min[CV]  svmClassifier__kernel=rbf, vectorizer__ngram_range=(1, 3), score=0.336067 -44.7min[CV]  svmClassifier__kernel=sigmoid, vectorizer__ngram_range=(1, 2), score=0.336013 -36.9min[CV]  svmClassifier__kernel=sigmoid, vectorizer__ngram_range=(1, 2), score=0.336007 -36.7min[CV]  svmClassifier__kernel=sigmoid, vectorizer__ngram_range=(1, 3), score=0.336013 -40.4min[CV]  svmClassifier__kernel=sigmoid, vectorizer__ngram_range=(1, 3), score=0.336007 -40.6min\n",
      "\n",
      "\n",
      "\n",
      "\n",
      "\n",
      "\n",
      "\n",
      "\n",
      "\n",
      "\n",
      "\n",
      "\n",
      "\n",
      "\n",
      "\n",
      "\n",
      "\tvectorizer__ngram_range: (1, 2)\n"
     ]
    },
    {
     "name": "stderr",
     "output_type": "stream",
     "text": [
      "[Parallel(n_jobs=-1)]: Done  16 out of  16 | elapsed: 44.7min finished\n"
     ]
    }
   ],
   "source": [
    "reviews_sample = reviews.sample(n = 100000)\n",
    "pipeline = Pipeline([\n",
    "    ('vectorizer',  CountVectorizer(stop_words='english',\n",
    "                                   max_df=0.6, min_df=0.01)),\n",
    "    ('transformer', TfidfTransformer(use_idf=True)),\n",
    "    ('svmClassifier',  SVC()) ])\n",
    "parameters = {\n",
    "    'vectorizer__ngram_range': ((1,2),(1,3)),\n",
    "    'svmClassifier__kernel': ('linear', 'poly', 'rbf', 'sigmoid'),\n",
    "}\n",
    "        \n",
    "if __name__ == \"__main__\":\n",
    "    grid_search = GridSearchCV(pipeline, parameters, n_jobs=-1, verbose=10, cv=2)\n",
    "\n",
    "    print(\"pipeline:\", [name for name, _ in pipeline.steps])\n",
    "    print(\"parameters:\")\n",
    "    pprint(parameters)\n",
    "    t0 = time.time()\n",
    "    grid_search.fit(reviews_sample.Text.values, reviews_sample.Rating_nom.values)\n",
    "    print(\"done in %0.3fs\" % (time.time() - t0))\n",
    "    print(\"Best score: %0.3f\" % grid_search.best_score_)\n",
    "    print(\"Best parameters set:\")\n",
    "    best_parameters = grid_search.best_estimator_.get_params()\n",
    "    for param_name in sorted(parameters.keys()):\n",
    "        print(\"\\t%s: %r\" % (param_name, best_parameters[param_name]))"
   ]
  },
  {
   "cell_type": "code",
   "execution_count": 50,
   "metadata": {
    "collapsed": false,
    "scrolled": true
   },
   "outputs": [
    {
     "name": "stdout",
     "output_type": "stream",
     "text": [
      "pipeline: ['vectorizer', 'transformer', 'svmClassifier']\n",
      "parameters:\n",
      "{'vectorizer__max_df': (0.5, 0.6),\n",
      " 'vectorizer__min_df': (100, 1000, 0.01),\n",
      " 'vectorizer__ngram_range': ((1, 2), (1, 3))}\n",
      "Fitting 2 folds for each of 12 candidates, totalling 24 fits\n"
     ]
    },
    {
     "name": "stderr",
     "output_type": "stream",
     "text": [
      "[Parallel(n_jobs=-1)]: Done   1 tasks      | elapsed:  3.5min\n",
      "[Parallel(n_jobs=-1)]: Done  24 out of  24 | elapsed:  8.8min finished\n"
     ]
    },
    {
     "name": "stdout",
     "output_type": "stream",
     "text": [
      "done in 677.794s\n",
      "Best score: 0.572\n",
      "Best parameters set:\n",
      "\tvectorizer__max_df: 0.5[CV] vectorizer__min_df=100, vectorizer__ngram_range=(1, 2), vectorizer__max_df=0.5 \n",
      "[CV] vectorizer__min_df=100, vectorizer__ngram_range=(1, 2), vectorizer__max_df=0.5 \n",
      "[CV] vectorizer__min_df=100, vectorizer__ngram_range=(1, 3), vectorizer__max_df=0.5 \n",
      "[CV] vectorizer__min_df=100, vectorizer__ngram_range=(1, 3), vectorizer__max_df=0.5 \n",
      "[CV] vectorizer__min_df=1000, vectorizer__ngram_range=(1, 2), vectorizer__max_df=0.5 \n",
      "[CV] vectorizer__min_df=1000, vectorizer__ngram_range=(1, 2), vectorizer__max_df=0.5 \n",
      "[CV] vectorizer__min_df=1000, vectorizer__ngram_range=(1, 3), vectorizer__max_df=0.5 \n",
      "[CV] vectorizer__min_df=1000, vectorizer__ngram_range=(1, 3), vectorizer__max_df=0.5 \n",
      "[CV] vectorizer__min_df=0.01, vectorizer__ngram_range=(1, 2), vectorizer__max_df=0.5 \n",
      "[CV] vectorizer__min_df=0.01, vectorizer__ngram_range=(1, 2), vectorizer__max_df=0.5 \n",
      "[CV] vectorizer__min_df=0.01, vectorizer__ngram_range=(1, 3), vectorizer__max_df=0.5 \n",
      "[CV] vectorizer__min_df=0.01, vectorizer__ngram_range=(1, 3), vectorizer__max_df=0.5 \n",
      "[CV] vectorizer__min_df=100, vectorizer__ngram_range=(1, 2), vectorizer__max_df=0.6 \n",
      "[CV] vectorizer__min_df=100, vectorizer__ngram_range=(1, 2), vectorizer__max_df=0.6 \n",
      "[CV] vectorizer__min_df=100, vectorizer__ngram_range=(1, 3), vectorizer__max_df=0.6 \n",
      "[CV] vectorizer__min_df=100, vectorizer__ngram_range=(1, 3), vectorizer__max_df=0.6 \n",
      "[CV]  vectorizer__min_df=100, vectorizer__ngram_range=(1, 2), vectorizer__max_df=0.5, score=0.570939 - 3.4min[CV]  vectorizer__min_df=100, vectorizer__ngram_range=(1, 2), vectorizer__max_df=0.5, score=0.573521 - 3.5min[CV]  vectorizer__min_df=100, vectorizer__ngram_range=(1, 3), vectorizer__max_df=0.5, score=0.571092 - 6.4min[CV]  vectorizer__min_df=100, vectorizer__ngram_range=(1, 3), vectorizer__max_df=0.5, score=0.573234 - 6.5min[CV]  vectorizer__min_df=1000, vectorizer__ngram_range=(1, 2), vectorizer__max_df=0.5, score=0.569666 - 3.5min[CV]  vectorizer__min_df=1000, vectorizer__ngram_range=(1, 2), vectorizer__max_df=0.5, score=0.570641 - 3.6min[CV]  vectorizer__min_df=1000, vectorizer__ngram_range=(1, 3), vectorizer__max_df=0.5, score=0.569652 - 6.5min[CV]  vectorizer__min_df=1000, vectorizer__ngram_range=(1, 3), vectorizer__max_df=0.5, score=0.570621 - 6.5min[CV]  vectorizer__min_df=0.01, vectorizer__ngram_range=(1, 2), vectorizer__max_df=0.5, score=0.561159 - 3.6min[CV]  vectorizer__min_df=0.01, vectorizer__ngram_range=(1, 2), vectorizer__max_df=0.5, score=0.562294 - 3.7min[CV]  vectorizer__min_df=0.01, vectorizer__ngram_range=(1, 3), vectorizer__max_df=0.5, score=0.561159 - 6.5min[CV]  vectorizer__min_df=0.01, vectorizer__ngram_range=(1, 3), vectorizer__max_df=0.5, score=0.562294 - 6.5min[CV]  vectorizer__min_df=100, vectorizer__ngram_range=(1, 2), vectorizer__max_df=0.6, score=0.570979 - 3.6min[CV]  vectorizer__min_df=100, vectorizer__ngram_range=(1, 2), vectorizer__max_df=0.6, score=0.573328 - 3.6min[CV]  vectorizer__min_df=100, vectorizer__ngram_range=(1, 3), vectorizer__max_df=0.6, score=0.570886 - 6.5min[CV]  vectorizer__min_df=100, vectorizer__ngram_range=(1, 3), vectorizer__max_df=0.6, score=0.573261 - 6.5min\n",
      "\n",
      "\n",
      "\n",
      "\n",
      "\n",
      "\n",
      "\n",
      "\n",
      "\n",
      "\n",
      "\n",
      "\n",
      "\n",
      "\n",
      "\n",
      "[CV] vectorizer__min_df=1000, vectorizer__ngram_range=(1, 2), vectorizer__max_df=0.6 [CV] vectorizer__min_df=1000, vectorizer__ngram_range=(1, 2), vectorizer__max_df=0.6 [CV] vectorizer__min_df=0.01, vectorizer__ngram_range=(1, 3), vectorizer__max_df=0.6 [CV] vectorizer__min_df=0.01, vectorizer__ngram_range=(1, 3), vectorizer__max_df=0.6 [CV] vectorizer__min_df=1000, vectorizer__ngram_range=(1, 3), vectorizer__max_df=0.6 [CV] vectorizer__min_df=1000, vectorizer__ngram_range=(1, 3), vectorizer__max_df=0.6 [CV] vectorizer__min_df=0.01, vectorizer__ngram_range=(1, 2), vectorizer__max_df=0.6 [CV] vectorizer__min_df=0.01, vectorizer__ngram_range=(1, 2), vectorizer__max_df=0.6 \n",
      "\n",
      "\n",
      "\n",
      "\n",
      "\n",
      "\n",
      "\n",
      "[CV]  vectorizer__min_df=1000, vectorizer__ngram_range=(1, 2), vectorizer__max_df=0.6, score=0.570139 - 3.4min[CV]  vectorizer__min_df=1000, vectorizer__ngram_range=(1, 2), vectorizer__max_df=0.6, score=0.570941 - 3.4min[CV]  vectorizer__min_df=0.01, vectorizer__ngram_range=(1, 3), vectorizer__max_df=0.6, score=0.562681 - 4.9min[CV]  vectorizer__min_df=0.01, vectorizer__ngram_range=(1, 3), vectorizer__max_df=0.6, score=0.560939 - 4.9min[CV]  vectorizer__min_df=1000, vectorizer__ngram_range=(1, 3), vectorizer__max_df=0.6, score=0.570172 - 5.0min[CV]  vectorizer__min_df=1000, vectorizer__ngram_range=(1, 3), vectorizer__max_df=0.6, score=0.570968 - 4.9min[CV]  vectorizer__min_df=0.01, vectorizer__ngram_range=(1, 2), vectorizer__max_df=0.6, score=0.562681 - 3.2min[CV]  vectorizer__min_df=0.01, vectorizer__ngram_range=(1, 2), vectorizer__max_df=0.6, score=0.560939 - 3.3min\n",
      "\n",
      "\n",
      "\n",
      "\n",
      "\n",
      "\n",
      "\n",
      "\n",
      "\tvectorizer__min_df: 100\n",
      "\tvectorizer__ngram_range: (1, 2)\n"
     ]
    }
   ],
   "source": [
    "reviews_sample = reviews.sample(n = 300000)\n",
    "pipeline = Pipeline([\n",
    "    ('vectorizer',  CountVectorizer(stop_words='english')),\n",
    "    ('transformer', TfidfTransformer(use_idf=True)),\n",
    "    ('svmClassifier',  LinearSVC()) ])\n",
    "parameters = {\n",
    "    'vectorizer__ngram_range': ((1,2),(1,3)),\n",
    "    'vectorizer__min_df': (100, 1000, .01),\n",
    "    'vectorizer__max_df': (0.5, 0.6),\n",
    "}\n",
    "        \n",
    "if __name__ == \"__main__\":\n",
    "    grid_search = GridSearchCV(pipeline, parameters, n_jobs=-1, verbose=10, cv=2)\n",
    "\n",
    "    print(\"pipeline:\", [name for name, _ in pipeline.steps])\n",
    "    print(\"parameters:\")\n",
    "    pprint(parameters)\n",
    "    t0 = time.time()\n",
    "    grid_search.fit(reviews_sample.Text.values, reviews_sample.Rating_nom.values)\n",
    "    print(\"done in %0.3fs\" % (time.time() - t0))\n",
    "    print(\"Best score: %0.3f\" % grid_search.best_score_)\n",
    "    print(\"Best parameters set:\")\n",
    "    best_parameters = grid_search.best_estimator_.get_params()\n",
    "    for param_name in sorted(parameters.keys()):\n",
    "        print(\"\\t%s: %r\" % (param_name, best_parameters[param_name]))"
   ]
  },
  {
   "cell_type": "code",
   "execution_count": 51,
   "metadata": {
    "collapsed": true
   },
   "outputs": [],
   "source": [
    "labels = ['one', 'two', 'three', 'four', 'five']\n",
    "#reviews_sample = reviews.sample(n=1000000)\n",
    "y = reviews.Rating_nom.values\n",
    "X = reviews.Text.values\n",
    "\n",
    "X_train, X_test, y_train, y_test = train_test_split(X, y, \n",
    "                                        test_size=.4, random_state=123)"
   ]
  },
  {
   "cell_type": "code",
   "execution_count": 52,
   "metadata": {
    "collapsed": false
   },
   "outputs": [
    {
     "data": {
      "text/plain": [
       "594376"
      ]
     },
     "execution_count": 52,
     "metadata": {},
     "output_type": "execute_result"
    }
   ],
   "source": [
    "len(X_train)"
   ]
  },
  {
   "cell_type": "code",
   "execution_count": 53,
   "metadata": {
    "collapsed": true
   },
   "outputs": [],
   "source": [
    "columns = ['pred_svm', 'pred_lr', 'pred_nb','pred_final']\n",
    "index = np.arange(len(y_test)) # array of numbers for the number of samples\n",
    "df = pd.DataFrame(columns=columns, index = index)"
   ]
  },
  {
   "cell_type": "code",
   "execution_count": 54,
   "metadata": {
    "collapsed": true
   },
   "outputs": [],
   "source": [
    "pipe1 = Pipeline([\n",
    "    ('vectorizer',  CountVectorizer(ngram_range=(1,2), stop_words='english',\n",
    "                                   max_df=0.5, min_df=100)),\n",
    "  #  ('transformer', TfidfTransformer(use_idf=False)),\n",
    "    ('classifier',  MultinomialNB(fit_prior=False)) ])\n",
    "pipe1 = pipe1.fit(X_train, y_train)\n",
    "pred_nb = pipe1.predict(X_test)\n",
    "df.pred_nb = pred_nb"
   ]
  },
  {
   "cell_type": "code",
   "execution_count": 55,
   "metadata": {
    "collapsed": true
   },
   "outputs": [],
   "source": [
    "pipe2 = Pipeline([\n",
    "    ('vectorizer',  CountVectorizer(ngram_range=(1,2), stop_words='english',\n",
    "                                   max_df=0.5, min_df=100)),\n",
    "    ('transformer', TfidfTransformer(use_idf=True)),\n",
    "    ('classifier',  LogisticRegression(multi_class='multinomial',solver='lbfgs')) ])\n",
    "pipe2 = pipe2.fit(X_train, y_train)\n",
    "pred_lr = pipe2.predict(X_test)\n",
    "df.pred_lr = pred_lr"
   ]
  },
  {
   "cell_type": "code",
   "execution_count": 56,
   "metadata": {
    "collapsed": false
   },
   "outputs": [],
   "source": [
    "pipe3 = Pipeline([\n",
    "    ('vectorizer',  CountVectorizer(ngram_range=(1,2), stop_words='english',\n",
    "                                   max_df=0.5, min_df=100)),\n",
    "    ('transformer', TfidfTransformer(use_idf=True)),\n",
    "    ('classifier',  LinearSVC()) ])\n",
    "pipe3 = pipe3.fit(X_train, y_train)\n",
    "pred_svm = pipe3.predict(X_test)\n",
    "df.pred_svm = pred_svm"
   ]
  },
  {
   "cell_type": "code",
   "execution_count": 57,
   "metadata": {
    "collapsed": false
   },
   "outputs": [
    {
     "data": {
      "text/html": [
       "<div>\n",
       "<table border=\"1\" class=\"dataframe\">\n",
       "  <thead>\n",
       "    <tr style=\"text-align: right;\">\n",
       "      <th></th>\n",
       "      <th>pred_svm</th>\n",
       "      <th>pred_lr</th>\n",
       "      <th>pred_nb</th>\n",
       "      <th>pred_final</th>\n",
       "      <th>actual</th>\n",
       "    </tr>\n",
       "  </thead>\n",
       "  <tbody>\n",
       "    <tr>\n",
       "      <th>0</th>\n",
       "      <td>five</td>\n",
       "      <td>four</td>\n",
       "      <td>four</td>\n",
       "      <td>NaN</td>\n",
       "      <td>four</td>\n",
       "    </tr>\n",
       "    <tr>\n",
       "      <th>1</th>\n",
       "      <td>four</td>\n",
       "      <td>three</td>\n",
       "      <td>three</td>\n",
       "      <td>NaN</td>\n",
       "      <td>four</td>\n",
       "    </tr>\n",
       "    <tr>\n",
       "      <th>2</th>\n",
       "      <td>five</td>\n",
       "      <td>four</td>\n",
       "      <td>one</td>\n",
       "      <td>NaN</td>\n",
       "      <td>one</td>\n",
       "    </tr>\n",
       "    <tr>\n",
       "      <th>3</th>\n",
       "      <td>one</td>\n",
       "      <td>one</td>\n",
       "      <td>one</td>\n",
       "      <td>NaN</td>\n",
       "      <td>one</td>\n",
       "    </tr>\n",
       "    <tr>\n",
       "      <th>4</th>\n",
       "      <td>five</td>\n",
       "      <td>five</td>\n",
       "      <td>five</td>\n",
       "      <td>NaN</td>\n",
       "      <td>five</td>\n",
       "    </tr>\n",
       "  </tbody>\n",
       "</table>\n",
       "</div>"
      ],
      "text/plain": [
       "  pred_svm pred_lr pred_nb pred_final actual\n",
       "0     five    four    four        NaN   four\n",
       "1     four   three   three        NaN   four\n",
       "2     five    four     one        NaN    one\n",
       "3      one     one     one        NaN    one\n",
       "4     five    five    five        NaN   five"
      ]
     },
     "execution_count": 57,
     "metadata": {},
     "output_type": "execute_result"
    }
   ],
   "source": [
    "df['actual'] = y_test\n",
    "df.head()"
   ]
  },
  {
   "cell_type": "code",
   "execution_count": 58,
   "metadata": {
    "collapsed": true
   },
   "outputs": [],
   "source": [
    "temp = df"
   ]
  },
  {
   "cell_type": "code",
   "execution_count": 59,
   "metadata": {
    "collapsed": false
   },
   "outputs": [
    {
     "data": {
      "image/png": "[encoded data removed]",
      "text/plain": [
       "<matplotlib.figure.Figure at 0x7fcfa90fe9d0>"
      ]
     },
     "metadata": {},
     "output_type": "display_data"
    },
    {
     "name": "stdout",
     "output_type": "stream",
     "text": [
      "[[24543  8181  1398   309   444]\n",
      " [ 9784 17525  9528  1294   767]\n",
      " [ 4192 10647 29849 13396  3507]\n",
      " [ 2845  4286 21003 59921 39629]\n",
      " [ 2411  1865  4456 28116 96355]]\n",
      "             precision    recall  f1-score   support\n",
      "\n",
      "        one       0.56      0.70      0.62     34875\n",
      "        two       0.41      0.45      0.43     38898\n",
      "      three       0.45      0.48      0.47     61591\n",
      "       four       0.58      0.47      0.52    127684\n",
      "       five       0.68      0.72      0.70    133203\n",
      "\n",
      "avg / total       0.58      0.58      0.57    396251\n",
      "\n"
     ]
    }
   ],
   "source": [
    "labels = ['one', 'two', 'three', 'four', 'five']\n",
    "\n",
    "cm = metrics.confusion_matrix(y_test, df.pred_nb, labels = labels)\n",
    "fig = plt.figure()\n",
    "ax = fig.add_subplot(111)\n",
    "cax = ax.matshow(cm)\n",
    "plt.title('Confusion matrix of the Nauve Bayes Classifier')\n",
    "fig.colorbar(cax)\n",
    "ax.set_xticklabels([''] + labels)\n",
    "ax.set_yticklabels([''] + labels)\n",
    "plt.xlabel('Predicted')\n",
    "plt.ylabel('True')\n",
    "plt.show()\n",
    "\n",
    "print(cm)\n",
    "print(metrics.classification_report(y_test, df.pred_nb, labels = labels))"
   ]
  },
  {
   "cell_type": "code",
   "execution_count": 60,
   "metadata": {
    "collapsed": false
   },
   "outputs": [
    {
     "data": {
      "image/png": "[encoded data removed]",
      "text/plain": [
       "<matplotlib.figure.Figure at 0x7fcffde6be50>"
      ]
     },
     "metadata": {},
     "output_type": "display_data"
    },
    {
     "name": "stdout",
     "output_type": "stream",
     "text": [
      "[[24118  7009  1693  1141   914]\n",
      " [ 7574 16413 10436  3338  1137]\n",
      " [ 1899  7151 26408 22443  3690]\n",
      " [  785  1357 10282 76918 38342]\n",
      " [  583   437  1510 32354 98319]]\n",
      "             precision    recall  f1-score   support\n",
      "\n",
      "        one       0.69      0.69      0.69     34875\n",
      "        two       0.51      0.42      0.46     38898\n",
      "      three       0.52      0.43      0.47     61591\n",
      "       four       0.56      0.60      0.58    127684\n",
      "       five       0.69      0.74      0.71    133203\n",
      "\n",
      "avg / total       0.61      0.61      0.61    396251\n",
      "\n"
     ]
    }
   ],
   "source": [
    "labels = ['one', 'two', 'three', 'four', 'five']\n",
    "\n",
    "cm = metrics.confusion_matrix(y_test, df.pred_lr, labels = labels)\n",
    "fig = plt.figure()\n",
    "ax = fig.add_subplot(111)\n",
    "cax = ax.matshow(cm)\n",
    "plt.title('Confusion matrix of the Logistic Regression Classifier')\n",
    "fig.colorbar(cax)\n",
    "ax.set_xticklabels([''] + labels)\n",
    "ax.set_yticklabels([''] + labels)\n",
    "plt.xlabel('Predicted')\n",
    "plt.ylabel('True')\n",
    "plt.show()\n",
    "\n",
    "print(cm)\n",
    "print(metrics.classification_report(y_test, df.pred_lr, labels = labels))"
   ]
  },
  {
   "cell_type": "code",
   "execution_count": 61,
   "metadata": {
    "collapsed": false
   },
   "outputs": [
    {
     "data": {
      "image/png": "[encoded data removed]",
      "text/plain": [
       "<matplotlib.figure.Figure at 0x7fcffdce3850>"
      ]
     },
     "metadata": {},
     "output_type": "display_data"
    },
    {
     "name": "stdout",
     "output_type": "stream",
     "text": [
      "[[24445  6283  1791  1361   995]\n",
      " [ 8901 14447  9970  4163  1417]\n",
      " [ 2597  7445 23522 23116  4911]\n",
      " [ 1027  1749 10277 72610 42021]\n",
      " [  600   488  1850 32233 98032]]\n",
      "             precision    recall  f1-score   support\n",
      "\n",
      "        one       0.65      0.70      0.67     34875\n",
      "        two       0.48      0.37      0.42     38898\n",
      "      three       0.50      0.38      0.43     61591\n",
      "       four       0.54      0.57      0.56    127684\n",
      "       five       0.67      0.74      0.70    133203\n",
      "\n",
      "avg / total       0.58      0.59      0.58    396251\n",
      "\n"
     ]
    }
   ],
   "source": [
    "labels = ['one', 'two', 'three', 'four', 'five']\n",
    "\n",
    "cm = metrics.confusion_matrix(y_test, df.pred_svm, labels = labels)\n",
    "fig = plt.figure()\n",
    "ax = fig.add_subplot(111)\n",
    "cax = ax.matshow(cm)\n",
    "plt.title('Confusion matrix of the linear SVM Classifier')\n",
    "fig.colorbar(cax)\n",
    "ax.set_xticklabels([''] + labels)\n",
    "ax.set_yticklabels([''] + labels)\n",
    "plt.xlabel('Predicted')\n",
    "plt.ylabel('True')\n",
    "plt.show()\n",
    "\n",
    "print(cm)\n",
    "print(metrics.classification_report(y_test, df.pred_svm, labels = labels))"
   ]
  },
  {
   "cell_type": "code",
   "execution_count": 62,
   "metadata": {
    "collapsed": false
   },
   "outputs": [
    {
     "data": {
      "text/html": [
       "<div>\n",
       "<table border=\"1\" class=\"dataframe\">\n",
       "  <thead>\n",
       "    <tr style=\"text-align: right;\">\n",
       "      <th></th>\n",
       "      <th>pred_svm</th>\n",
       "      <th>pred_lr</th>\n",
       "      <th>pred_nb</th>\n",
       "      <th>pred_final</th>\n",
       "      <th>actual</th>\n",
       "    </tr>\n",
       "  </thead>\n",
       "  <tbody>\n",
       "    <tr>\n",
       "      <th>0</th>\n",
       "      <td>five</td>\n",
       "      <td>four</td>\n",
       "      <td>four</td>\n",
       "      <td>NaN</td>\n",
       "      <td>four</td>\n",
       "    </tr>\n",
       "    <tr>\n",
       "      <th>1</th>\n",
       "      <td>four</td>\n",
       "      <td>three</td>\n",
       "      <td>three</td>\n",
       "      <td>NaN</td>\n",
       "      <td>four</td>\n",
       "    </tr>\n",
       "    <tr>\n",
       "      <th>2</th>\n",
       "      <td>five</td>\n",
       "      <td>four</td>\n",
       "      <td>one</td>\n",
       "      <td>NaN</td>\n",
       "      <td>one</td>\n",
       "    </tr>\n",
       "    <tr>\n",
       "      <th>3</th>\n",
       "      <td>one</td>\n",
       "      <td>one</td>\n",
       "      <td>one</td>\n",
       "      <td>NaN</td>\n",
       "      <td>one</td>\n",
       "    </tr>\n",
       "    <tr>\n",
       "      <th>4</th>\n",
       "      <td>five</td>\n",
       "      <td>five</td>\n",
       "      <td>five</td>\n",
       "      <td>NaN</td>\n",
       "      <td>five</td>\n",
       "    </tr>\n",
       "  </tbody>\n",
       "</table>\n",
       "</div>"
      ],
      "text/plain": [
       "  pred_svm pred_lr pred_nb pred_final actual\n",
       "0     five    four    four        NaN   four\n",
       "1     four   three   three        NaN   four\n",
       "2     five    four     one        NaN    one\n",
       "3      one     one     one        NaN    one\n",
       "4     five    five    five        NaN   five"
      ]
     },
     "execution_count": 62,
     "metadata": {},
     "output_type": "execute_result"
    }
   ],
   "source": [
    "df['actual'] = y_test\n",
    "df.head()"
   ]
  },
  {
   "cell_type": "code",
   "execution_count": 64,
   "metadata": {
    "collapsed": false
   },
   "outputs": [
    {
     "data": {
      "text/html": [
       "<div>\n",
       "<table border=\"1\" class=\"dataframe\">\n",
       "  <thead>\n",
       "    <tr style=\"text-align: right;\">\n",
       "      <th></th>\n",
       "      <th>pred_svm</th>\n",
       "      <th>pred_lr</th>\n",
       "      <th>pred_nb</th>\n",
       "      <th>pred_final</th>\n",
       "      <th>actual</th>\n",
       "    </tr>\n",
       "  </thead>\n",
       "  <tbody>\n",
       "    <tr>\n",
       "      <th>0</th>\n",
       "      <td>5</td>\n",
       "      <td>4</td>\n",
       "      <td>4</td>\n",
       "      <td>4.333333</td>\n",
       "      <td>four</td>\n",
       "    </tr>\n",
       "    <tr>\n",
       "      <th>1</th>\n",
       "      <td>4</td>\n",
       "      <td>3</td>\n",
       "      <td>3</td>\n",
       "      <td>3.333333</td>\n",
       "      <td>four</td>\n",
       "    </tr>\n",
       "    <tr>\n",
       "      <th>2</th>\n",
       "      <td>5</td>\n",
       "      <td>4</td>\n",
       "      <td>1</td>\n",
       "      <td>3.333333</td>\n",
       "      <td>one</td>\n",
       "    </tr>\n",
       "    <tr>\n",
       "      <th>3</th>\n",
       "      <td>1</td>\n",
       "      <td>1</td>\n",
       "      <td>1</td>\n",
       "      <td>1.000000</td>\n",
       "      <td>one</td>\n",
       "    </tr>\n",
       "    <tr>\n",
       "      <th>4</th>\n",
       "      <td>5</td>\n",
       "      <td>5</td>\n",
       "      <td>5</td>\n",
       "      <td>5.000000</td>\n",
       "      <td>five</td>\n",
       "    </tr>\n",
       "  </tbody>\n",
       "</table>\n",
       "</div>"
      ],
      "text/plain": [
       "   pred_svm  pred_lr  pred_nb  pred_final actual\n",
       "0         5        4        4    4.333333   four\n",
       "1         4        3        3    3.333333   four\n",
       "2         5        4        1    3.333333    one\n",
       "3         1        1        1    1.000000    one\n",
       "4         5        5        5    5.000000   five"
      ]
     },
     "execution_count": 64,
     "metadata": {},
     "output_type": "execute_result"
    }
   ],
   "source": [
    "mapping = {'one': 1, 'two': 2, 'three': 3, 'four': 4, 'five': 5}\n",
    "df = df.replace({'pred_lr': mapping, 'pred_svm': mapping, 'pred_nb': mapping})\n",
    "df.pred_final = (df.pred_nb+df.pred_svm + df.pred_lr)/3\n",
    "df.head()"
   ]
  },
  {
   "cell_type": "code",
   "execution_count": 65,
   "metadata": {
    "collapsed": false
   },
   "outputs": [],
   "source": [
    "#df.head()\n",
    "df['pred1'] = df.pred_final.round()\n",
    "#df.head(20)"
   ]
  },
  {
   "cell_type": "code",
   "execution_count": 66,
   "metadata": {
    "collapsed": true
   },
   "outputs": [],
   "source": [
    "mapping = {1: 'one', 2: 'two', 3: 'three', 4: 'four', 5: 'five'}\n",
    "#df = df.replace({'pred1': mapping, 'pred_lr': mapping, 'pred_svm': mapping, 'pred_nb': mapping})\n",
    "df = df.replace({'pred1': mapping})"
   ]
  },
  {
   "cell_type": "code",
   "execution_count": 40,
   "metadata": {
    "collapsed": false
   },
   "outputs": [],
   "source": [
    "#df.head(200)"
   ]
  },
  {
   "cell_type": "code",
   "execution_count": 67,
   "metadata": {
    "collapsed": false
   },
   "outputs": [
    {
     "data": {
      "image/png": "[encoded data removed]",
      "text/plain": [
       "<matplotlib.figure.Figure at 0x7fcffdd82b50>"
      ]
     },
     "metadata": {},
     "output_type": "display_data"
    },
    {
     "name": "stdout",
     "output_type": "stream",
     "text": [
      "[[23626  8077  2037   872   263]\n",
      " [ 7329 17499 11000  2600   470]\n",
      " [ 1666  8234 28809 20143  2739]\n",
      " [  533  1825 14233 74033 37060]\n",
      " [  317   664  2948 33168 96106]]\n",
      "             precision    recall  f1-score   support\n",
      "\n",
      "        one       0.71      0.68      0.69     34875\n",
      "        two       0.48      0.45      0.47     38898\n",
      "      three       0.49      0.47      0.48     61591\n",
      "       four       0.57      0.58      0.57    127684\n",
      "       five       0.70      0.72      0.71    133203\n",
      "\n",
      "avg / total       0.60      0.61      0.60    396251\n",
      "\n"
     ]
    }
   ],
   "source": [
    "labels = ['one', 'two', 'three', 'four', 'five']\n",
    "\n",
    "cm = metrics.confusion_matrix(y_test, df.pred1, labels = labels)\n",
    "fig = plt.figure()\n",
    "ax = fig.add_subplot(111)\n",
    "cax = ax.matshow(cm)\n",
    "plt.title('Confusion matrix of the Combined Classifiers')\n",
    "fig.colorbar(cax)\n",
    "ax.set_xticklabels([''] + labels)\n",
    "ax.set_yticklabels([''] + labels)\n",
    "plt.xlabel('Predicted')\n",
    "plt.ylabel('True')\n",
    "plt.show()\n",
    "\n",
    "print(cm)\n",
    "print(metrics.classification_report(y_test, df.pred1, labels = labels))"
   ]
  },
  {
   "cell_type": "code",
   "execution_count": null,
   "metadata": {
    "collapsed": true
   },
   "outputs": [],
   "source": []
  },
  {
   "cell_type": "code",
   "execution_count": 70,
   "metadata": {
    "collapsed": true
   },
   "outputs": [],
   "source": [
    "columns = ['LR','SVM','NB']#,'Combined']\n",
    "index = ['one','two','three','four','five']\n",
    "\n",
    "precision = pd.DataFrame(columns=columns, index = index)\n",
    "\n",
    "#precision['Combined'] = [0.71,0.48,0.49,0.57,0.7]\n",
    "precision['LR'] = [0.69,0.51,0.52,0.56,0.69]\n",
    "precision['NB'] = [0.56,0.41,0.45,0.58,0.68]\n",
    "precision['SVM'] = [0.65,0.48,0.50,0.54,0.67]\n",
    "precision['p_r'] = 'precision'\n",
    "\n",
    "recall = pd.DataFrame(columns=columns, index = index)\n",
    "#recall['Combined'] = [0.68,0.45,0.47,0.58,0.72]\n",
    "recall['LR'] = [0.69,0.42,0.43,0.6,0.74]\n",
    "recall['NB'] = [0.70,0.45,0.48,0.47,0.72]\n",
    "recall['SVM'] = [0.7,0.37,0.38,0.57,0.74]\n",
    "recall['p_r'] = 'recall'"
   ]
  },
  {
   "cell_type": "code",
   "execution_count": 71,
   "metadata": {
    "collapsed": false
   },
   "outputs": [
    {
     "data": {
      "text/plain": [
       "<matplotlib.legend.Legend at 0x7fcffdce9c90>"
      ]
     },
     "execution_count": 71,
     "metadata": {},
     "output_type": "execute_result"
    },
    {
     "data": {
      "text/plain": [
       "<matplotlib.figure.Figure at 0x7fcffdce9d50>"
      ]
     },
     "metadata": {},
     "output_type": "display_data"
    },
    {
     "data": {
      "image/png": "[encoded data removed]",
      "text/plain": [
       "<matplotlib.figure.Figure at 0x7fcffdd4f190>"
      ]
     },
     "metadata": {},
     "output_type": "display_data"
    }
   ],
   "source": [
    "plt.figure(); \n",
    "precision.plot(); \n",
    "plt.ylabel('Precision')\n",
    "plt.xlabel('Review rating')\n",
    "plt.title('Precision of classification for different algorithms')\n",
    "plt.legend(loc='best')"
   ]
  },
  {
   "cell_type": "code",
   "execution_count": 72,
   "metadata": {
    "collapsed": false
   },
   "outputs": [
    {
     "data": {
      "text/plain": [
       "<matplotlib.legend.Legend at 0x7fcffdce9c10>"
      ]
     },
     "execution_count": 72,
     "metadata": {},
     "output_type": "execute_result"
    },
    {
     "data": {
      "text/plain": [
       "<matplotlib.figure.Figure at 0x7fcffdce96d0>"
      ]
     },
     "metadata": {},
     "output_type": "display_data"
    },
    {
     "data": {
      "image/png": "[encoded data removed]",
      "text/plain": [
       "<matplotlib.figure.Figure at 0x7fcffdd9ac50>"
      ]
     },
     "metadata": {},
     "output_type": "display_data"
    }
   ],
   "source": [
    "plt.figure(); \n",
    "recall.plot();\n",
    "plt.ylabel('Recall')\n",
    "plt.xlabel('Review rating')\n",
    "plt.title('Recall of classification for different algorithms')\n",
    "plt.legend(loc='best')"
   ]
  },
  {
   "cell_type": "code",
   "execution_count": null,
   "metadata": {
    "collapsed": true
   },
   "outputs": [],
   "source": []
  },
  {
   "cell_type": "code",
   "execution_count": null,
   "metadata": {
    "collapsed": true
   },
   "outputs": [],
   "source": []
  }
 ],
 "metadata": {
  "kernelspec": {
   "display_name": "Python 2",
   "language": "python",
   "name": "python2"
  },
  "language_info": {
   "codemirror_mode": {
    "name": "ipython",
    "version": 2
   },
   "file_extension": ".py",
   "mimetype": "text/x-python",
   "name": "python",
   "nbconvert_exporter": "python",
   "pygments_lexer": "ipython2",
   "version": "2.7.11"
  }
 },
 "nbformat": 4,
 "nbformat_minor": 0
}
