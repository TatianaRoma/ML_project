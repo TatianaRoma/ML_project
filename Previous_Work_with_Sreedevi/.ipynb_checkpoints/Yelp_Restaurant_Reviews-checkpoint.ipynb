{
 "cells": [
  {
   "cell_type": "code",
   "execution_count": 1,
   "metadata": {
    "collapsed": true
   },
   "outputs": [],
   "source": [
    "import numpy as np\n",
    "import pandas as pd\n",
    "import matplotlib as mpl\n",
    "\n",
    "import matplotlib.pyplot as plt\n",
    "%matplotlib inline\n",
    "#%pylab inline\n",
    "\n",
    "from pylab import *\n",
    "\n",
    "# load statsmodels\n",
    "import statsmodels.api as sm\n",
    "\n",
    "import itertools\n",
    "\n",
    "from sklearn import metrics\n",
    "\n",
    "import random\n",
    "import scipy\n",
    "import six\n",
    "from sklearn.metrics import mean_squared_error\n",
    "from sklearn.cross_validation import train_test_split\n",
    "\n",
    "import gc\n",
    "import json\n",
    "import re\n",
    "\n",
    "# use seaborn plotting defaults\n",
    "import sys\n",
    "sys.path.append('/Users/tatiana/anaconda/pkgs/seaborn-0.6.0-np110py34_0/lib/python3.4/site-packages')\n",
    "import seaborn as sns; sns.set()"
   ]
  },
  {
   "cell_type": "code",
   "execution_count": 2,
   "metadata": {
    "collapsed": true
   },
   "outputs": [],
   "source": [
    "# nlp libraries\n",
    "import nltk\n",
    "\n",
    "# only need to download the first time\n",
    "# done when the download window closes\n",
    "#nltk.download()\n",
    "from nltk import word_tokenize"
   ]
  },
  {
   "cell_type": "code",
   "execution_count": 3,
   "metadata": {
    "collapsed": false
   },
   "outputs": [
    {
     "data": {
      "text/html": [
       "<div>\n",
       "<table border=\"1\" class=\"dataframe\">\n",
       "  <thead>\n",
       "    <tr style=\"text-align: right;\">\n",
       "      <th></th>\n",
       "      <th>funny</th>\n",
       "      <th>useful</th>\n",
       "      <th>cool</th>\n",
       "      <th>stars</th>\n",
       "      <th>text</th>\n",
       "      <th>stars_nom</th>\n",
       "    </tr>\n",
       "  </thead>\n",
       "  <tbody>\n",
       "    <tr>\n",
       "      <th>0</th>\n",
       "      <td>1</td>\n",
       "      <td>1</td>\n",
       "      <td>0</td>\n",
       "      <td>1</td>\n",
       "      <td>thumbs down! This is the worst service in Chin...</td>\n",
       "      <td>one</td>\n",
       "    </tr>\n",
       "    <tr>\n",
       "      <th>1</th>\n",
       "      <td>0</td>\n",
       "      <td>3</td>\n",
       "      <td>2</td>\n",
       "      <td>4</td>\n",
       "      <td>I like the foo-foo French cuisine every once i...</td>\n",
       "      <td>four</td>\n",
       "    </tr>\n",
       "    <tr>\n",
       "      <th>2</th>\n",
       "      <td>0</td>\n",
       "      <td>2</td>\n",
       "      <td>0</td>\n",
       "      <td>1</td>\n",
       "      <td>Warm beer, disinterested staff, boring atmosph...</td>\n",
       "      <td>one</td>\n",
       "    </tr>\n",
       "    <tr>\n",
       "      <th>3</th>\n",
       "      <td>1</td>\n",
       "      <td>1</td>\n",
       "      <td>1</td>\n",
       "      <td>2</td>\n",
       "      <td>I just randomly passed this place and wanted t...</td>\n",
       "      <td>two</td>\n",
       "    </tr>\n",
       "    <tr>\n",
       "      <th>4</th>\n",
       "      <td>3</td>\n",
       "      <td>2</td>\n",
       "      <td>3</td>\n",
       "      <td>2</td>\n",
       "      <td>This is not great pizza by any stretch of the ...</td>\n",
       "      <td>two</td>\n",
       "    </tr>\n",
       "  </tbody>\n",
       "</table>\n",
       "</div>"
      ],
      "text/plain": [
       "   funny  useful  cool  stars  \\\n",
       "0      1       1     0      1   \n",
       "1      0       3     2      4   \n",
       "2      0       2     0      1   \n",
       "3      1       1     1      2   \n",
       "4      3       2     3      2   \n",
       "\n",
       "                                                text stars_nom  \n",
       "0  thumbs down! This is the worst service in Chin...       one  \n",
       "1  I like the foo-foo French cuisine every once i...      four  \n",
       "2  Warm beer, disinterested staff, boring atmosph...       one  \n",
       "3  I just randomly passed this place and wanted t...       two  \n",
       "4  This is not great pizza by any stretch of the ...       two  "
      ]
     },
     "execution_count": 3,
     "metadata": {},
     "output_type": "execute_result"
    }
   ],
   "source": [
    "path = r'/Users/tatiana/rest_reviews_1.csv'\n",
    "reviews = pd.read_csv(path)\n",
    "reviews['stars_nom'] = [\"one\" if star == 1 else \"two\" if star == 2 else \"three\" if star == 3 \n",
    "                else \"four\" if star == 4 else \"five\" for star in reviews.stars]\n",
    "reviews.head()"
   ]
  },
  {
   "cell_type": "code",
   "execution_count": 4,
   "metadata": {
    "collapsed": false
   },
   "outputs": [],
   "source": [
    "text_cleaned = [re.sub(r'!', ' exclamation', text) for text in reviews['text']]\n",
    "text_cleaned = [text.lower() for text in text_cleaned]\n",
    "text_cleaned = [re.sub(r'[^a-z]', ' ', text) for text in text_cleaned]\n",
    "reviews['text'] = text_cleaned\n",
    "documents = [word_tokenize(text) for text in reviews.text]"
   ]
  },
  {
   "cell_type": "code",
   "execution_count": 5,
   "metadata": {
    "collapsed": true
   },
   "outputs": [],
   "source": [
    "all_words = list(itertools.chain(*documents))"
   ]
  },
  {
   "cell_type": "code",
   "execution_count": 6,
   "metadata": {
    "collapsed": false
   },
   "outputs": [],
   "source": [
    "from nltk.corpus import stopwords\n",
    "#import enchant\n",
    "\n",
    "#eng = enchant.Dict(\"en_US\")\n",
    "\n",
    "freq_words = nltk.FreqDist(w.lower() for w in all_words \n",
    "                           if w not in stopwords.words('english'))# & (eng.check(w) == True))\n",
    "word_features = sorted(w for w in set(freq_words) if freq_words[w] > 1500) # \n",
    "\n",
    "def document_features(document): # \n",
    "    document_words = set(document) # \n",
    "    features = {}\n",
    "    for word in word_features:\n",
    "        features['contains({})'.format(word)] = (word.lower() in document_words)\n",
    "    return features"
   ]
  },
  {
   "cell_type": "code",
   "execution_count": 7,
   "metadata": {
    "collapsed": false
   },
   "outputs": [
    {
     "data": {
      "text/html": [
       "<div>\n",
       "<table border=\"1\" class=\"dataframe\">\n",
       "  <thead>\n",
       "    <tr style=\"text-align: right;\">\n",
       "      <th></th>\n",
       "      <th>contains(absolutely)</th>\n",
       "      <th>contains(actually)</th>\n",
       "      <th>contains(almost)</th>\n",
       "      <th>contains(also)</th>\n",
       "      <th>contains(although)</th>\n",
       "      <th>contains(always)</th>\n",
       "      <th>contains(amazing)</th>\n",
       "      <th>contains(amount)</th>\n",
       "      <th>contains(another)</th>\n",
       "      <th>contains(anything)</th>\n",
       "      <th>...</th>\n",
       "      <th>contains(work)</th>\n",
       "      <th>contains(worth)</th>\n",
       "      <th>contains(would)</th>\n",
       "      <th>contains(wouldn)</th>\n",
       "      <th>contains(wrong)</th>\n",
       "      <th>contains(years)</th>\n",
       "      <th>contains(yelp)</th>\n",
       "      <th>contains(yes)</th>\n",
       "      <th>contains(yet)</th>\n",
       "      <th>contains(yummy)</th>\n",
       "    </tr>\n",
       "  </thead>\n",
       "  <tbody>\n",
       "    <tr>\n",
       "      <th>0</th>\n",
       "      <td>False</td>\n",
       "      <td>False</td>\n",
       "      <td>False</td>\n",
       "      <td>False</td>\n",
       "      <td>False</td>\n",
       "      <td>False</td>\n",
       "      <td>False</td>\n",
       "      <td>False</td>\n",
       "      <td>False</td>\n",
       "      <td>False</td>\n",
       "      <td>...</td>\n",
       "      <td>False</td>\n",
       "      <td>False</td>\n",
       "      <td>False</td>\n",
       "      <td>False</td>\n",
       "      <td>True</td>\n",
       "      <td>False</td>\n",
       "      <td>False</td>\n",
       "      <td>False</td>\n",
       "      <td>False</td>\n",
       "      <td>False</td>\n",
       "    </tr>\n",
       "    <tr>\n",
       "      <th>1</th>\n",
       "      <td>False</td>\n",
       "      <td>False</td>\n",
       "      <td>False</td>\n",
       "      <td>False</td>\n",
       "      <td>False</td>\n",
       "      <td>False</td>\n",
       "      <td>False</td>\n",
       "      <td>False</td>\n",
       "      <td>False</td>\n",
       "      <td>False</td>\n",
       "      <td>...</td>\n",
       "      <td>False</td>\n",
       "      <td>False</td>\n",
       "      <td>False</td>\n",
       "      <td>False</td>\n",
       "      <td>False</td>\n",
       "      <td>False</td>\n",
       "      <td>False</td>\n",
       "      <td>False</td>\n",
       "      <td>False</td>\n",
       "      <td>False</td>\n",
       "    </tr>\n",
       "    <tr>\n",
       "      <th>2</th>\n",
       "      <td>False</td>\n",
       "      <td>False</td>\n",
       "      <td>False</td>\n",
       "      <td>False</td>\n",
       "      <td>False</td>\n",
       "      <td>False</td>\n",
       "      <td>False</td>\n",
       "      <td>False</td>\n",
       "      <td>False</td>\n",
       "      <td>False</td>\n",
       "      <td>...</td>\n",
       "      <td>False</td>\n",
       "      <td>False</td>\n",
       "      <td>False</td>\n",
       "      <td>False</td>\n",
       "      <td>False</td>\n",
       "      <td>False</td>\n",
       "      <td>False</td>\n",
       "      <td>False</td>\n",
       "      <td>False</td>\n",
       "      <td>False</td>\n",
       "    </tr>\n",
       "    <tr>\n",
       "      <th>3</th>\n",
       "      <td>False</td>\n",
       "      <td>False</td>\n",
       "      <td>False</td>\n",
       "      <td>False</td>\n",
       "      <td>False</td>\n",
       "      <td>False</td>\n",
       "      <td>False</td>\n",
       "      <td>False</td>\n",
       "      <td>False</td>\n",
       "      <td>False</td>\n",
       "      <td>...</td>\n",
       "      <td>False</td>\n",
       "      <td>False</td>\n",
       "      <td>False</td>\n",
       "      <td>False</td>\n",
       "      <td>False</td>\n",
       "      <td>False</td>\n",
       "      <td>False</td>\n",
       "      <td>False</td>\n",
       "      <td>False</td>\n",
       "      <td>False</td>\n",
       "    </tr>\n",
       "    <tr>\n",
       "      <th>4</th>\n",
       "      <td>False</td>\n",
       "      <td>False</td>\n",
       "      <td>False</td>\n",
       "      <td>True</td>\n",
       "      <td>False</td>\n",
       "      <td>False</td>\n",
       "      <td>False</td>\n",
       "      <td>False</td>\n",
       "      <td>False</td>\n",
       "      <td>False</td>\n",
       "      <td>...</td>\n",
       "      <td>False</td>\n",
       "      <td>False</td>\n",
       "      <td>False</td>\n",
       "      <td>False</td>\n",
       "      <td>False</td>\n",
       "      <td>False</td>\n",
       "      <td>False</td>\n",
       "      <td>False</td>\n",
       "      <td>False</td>\n",
       "      <td>False</td>\n",
       "    </tr>\n",
       "  </tbody>\n",
       "</table>\n",
       "<p>5 rows × 418 columns</p>\n",
       "</div>"
      ],
      "text/plain": [
       "  contains(absolutely) contains(actually) contains(almost) contains(also)  \\\n",
       "0                False              False            False          False   \n",
       "1                False              False            False          False   \n",
       "2                False              False            False          False   \n",
       "3                False              False            False          False   \n",
       "4                False              False            False           True   \n",
       "\n",
       "  contains(although) contains(always) contains(amazing) contains(amount)  \\\n",
       "0              False            False             False            False   \n",
       "1              False            False             False            False   \n",
       "2              False            False             False            False   \n",
       "3              False            False             False            False   \n",
       "4              False            False             False            False   \n",
       "\n",
       "  contains(another) contains(anything)       ...       contains(work)  \\\n",
       "0             False              False       ...                False   \n",
       "1             False              False       ...                False   \n",
       "2             False              False       ...                False   \n",
       "3             False              False       ...                False   \n",
       "4             False              False       ...                False   \n",
       "\n",
       "  contains(worth) contains(would) contains(wouldn) contains(wrong)  \\\n",
       "0           False           False            False            True   \n",
       "1           False           False            False           False   \n",
       "2           False           False            False           False   \n",
       "3           False           False            False           False   \n",
       "4           False           False            False           False   \n",
       "\n",
       "  contains(years) contains(yelp) contains(yes) contains(yet) contains(yummy)  \n",
       "0           False          False         False         False           False  \n",
       "1           False          False         False         False           False  \n",
       "2           False          False         False         False           False  \n",
       "3           False          False         False         False           False  \n",
       "4           False          False         False         False           False  \n",
       "\n",
       "[5 rows x 418 columns]"
      ]
     },
     "execution_count": 7,
     "metadata": {},
     "output_type": "execute_result"
    }
   ],
   "source": [
    "features = pd.DataFrame([document_features(d) for d in documents])\n",
    "features.head()"
   ]
  },
  {
   "cell_type": "code",
   "execution_count": 8,
   "metadata": {
    "collapsed": false
   },
   "outputs": [
    {
     "data": {
      "text/html": [
       "<div>\n",
       "<table border=\"1\" class=\"dataframe\">\n",
       "  <thead>\n",
       "    <tr style=\"text-align: right;\">\n",
       "      <th></th>\n",
       "      <th>funny</th>\n",
       "      <th>useful</th>\n",
       "      <th>cool</th>\n",
       "      <th>contains(absolutely)</th>\n",
       "      <th>contains(actually)</th>\n",
       "      <th>contains(almost)</th>\n",
       "      <th>contains(also)</th>\n",
       "      <th>contains(although)</th>\n",
       "      <th>contains(always)</th>\n",
       "      <th>contains(amazing)</th>\n",
       "      <th>...</th>\n",
       "      <th>contains(work)</th>\n",
       "      <th>contains(worth)</th>\n",
       "      <th>contains(would)</th>\n",
       "      <th>contains(wouldn)</th>\n",
       "      <th>contains(wrong)</th>\n",
       "      <th>contains(years)</th>\n",
       "      <th>contains(yelp)</th>\n",
       "      <th>contains(yes)</th>\n",
       "      <th>contains(yet)</th>\n",
       "      <th>contains(yummy)</th>\n",
       "    </tr>\n",
       "  </thead>\n",
       "  <tbody>\n",
       "    <tr>\n",
       "      <th>0</th>\n",
       "      <td>1</td>\n",
       "      <td>1</td>\n",
       "      <td>0</td>\n",
       "      <td>False</td>\n",
       "      <td>False</td>\n",
       "      <td>False</td>\n",
       "      <td>False</td>\n",
       "      <td>False</td>\n",
       "      <td>False</td>\n",
       "      <td>False</td>\n",
       "      <td>...</td>\n",
       "      <td>False</td>\n",
       "      <td>False</td>\n",
       "      <td>False</td>\n",
       "      <td>False</td>\n",
       "      <td>True</td>\n",
       "      <td>False</td>\n",
       "      <td>False</td>\n",
       "      <td>False</td>\n",
       "      <td>False</td>\n",
       "      <td>False</td>\n",
       "    </tr>\n",
       "    <tr>\n",
       "      <th>1</th>\n",
       "      <td>0</td>\n",
       "      <td>3</td>\n",
       "      <td>2</td>\n",
       "      <td>False</td>\n",
       "      <td>False</td>\n",
       "      <td>False</td>\n",
       "      <td>False</td>\n",
       "      <td>False</td>\n",
       "      <td>False</td>\n",
       "      <td>False</td>\n",
       "      <td>...</td>\n",
       "      <td>False</td>\n",
       "      <td>False</td>\n",
       "      <td>False</td>\n",
       "      <td>False</td>\n",
       "      <td>False</td>\n",
       "      <td>False</td>\n",
       "      <td>False</td>\n",
       "      <td>False</td>\n",
       "      <td>False</td>\n",
       "      <td>False</td>\n",
       "    </tr>\n",
       "    <tr>\n",
       "      <th>2</th>\n",
       "      <td>0</td>\n",
       "      <td>2</td>\n",
       "      <td>0</td>\n",
       "      <td>False</td>\n",
       "      <td>False</td>\n",
       "      <td>False</td>\n",
       "      <td>False</td>\n",
       "      <td>False</td>\n",
       "      <td>False</td>\n",
       "      <td>False</td>\n",
       "      <td>...</td>\n",
       "      <td>False</td>\n",
       "      <td>False</td>\n",
       "      <td>False</td>\n",
       "      <td>False</td>\n",
       "      <td>False</td>\n",
       "      <td>False</td>\n",
       "      <td>False</td>\n",
       "      <td>False</td>\n",
       "      <td>False</td>\n",
       "      <td>False</td>\n",
       "    </tr>\n",
       "    <tr>\n",
       "      <th>3</th>\n",
       "      <td>1</td>\n",
       "      <td>1</td>\n",
       "      <td>1</td>\n",
       "      <td>False</td>\n",
       "      <td>False</td>\n",
       "      <td>False</td>\n",
       "      <td>False</td>\n",
       "      <td>False</td>\n",
       "      <td>False</td>\n",
       "      <td>False</td>\n",
       "      <td>...</td>\n",
       "      <td>False</td>\n",
       "      <td>False</td>\n",
       "      <td>False</td>\n",
       "      <td>False</td>\n",
       "      <td>False</td>\n",
       "      <td>False</td>\n",
       "      <td>False</td>\n",
       "      <td>False</td>\n",
       "      <td>False</td>\n",
       "      <td>False</td>\n",
       "    </tr>\n",
       "    <tr>\n",
       "      <th>4</th>\n",
       "      <td>3</td>\n",
       "      <td>2</td>\n",
       "      <td>3</td>\n",
       "      <td>False</td>\n",
       "      <td>False</td>\n",
       "      <td>False</td>\n",
       "      <td>True</td>\n",
       "      <td>False</td>\n",
       "      <td>False</td>\n",
       "      <td>False</td>\n",
       "      <td>...</td>\n",
       "      <td>False</td>\n",
       "      <td>False</td>\n",
       "      <td>False</td>\n",
       "      <td>False</td>\n",
       "      <td>False</td>\n",
       "      <td>False</td>\n",
       "      <td>False</td>\n",
       "      <td>False</td>\n",
       "      <td>False</td>\n",
       "      <td>False</td>\n",
       "    </tr>\n",
       "  </tbody>\n",
       "</table>\n",
       "<p>5 rows × 421 columns</p>\n",
       "</div>"
      ],
      "text/plain": [
       "   funny  useful  cool contains(absolutely) contains(actually)  \\\n",
       "0      1       1     0                False              False   \n",
       "1      0       3     2                False              False   \n",
       "2      0       2     0                False              False   \n",
       "3      1       1     1                False              False   \n",
       "4      3       2     3                False              False   \n",
       "\n",
       "  contains(almost) contains(also) contains(although) contains(always)  \\\n",
       "0            False          False              False            False   \n",
       "1            False          False              False            False   \n",
       "2            False          False              False            False   \n",
       "3            False          False              False            False   \n",
       "4            False           True              False            False   \n",
       "\n",
       "  contains(amazing)       ...       contains(work) contains(worth)  \\\n",
       "0             False       ...                False           False   \n",
       "1             False       ...                False           False   \n",
       "2             False       ...                False           False   \n",
       "3             False       ...                False           False   \n",
       "4             False       ...                False           False   \n",
       "\n",
       "  contains(would) contains(wouldn) contains(wrong) contains(years)  \\\n",
       "0           False            False            True           False   \n",
       "1           False            False           False           False   \n",
       "2           False            False           False           False   \n",
       "3           False            False           False           False   \n",
       "4           False            False           False           False   \n",
       "\n",
       "  contains(yelp) contains(yes) contains(yet) contains(yummy)  \n",
       "0          False         False         False           False  \n",
       "1          False         False         False           False  \n",
       "2          False         False         False           False  \n",
       "3          False         False         False           False  \n",
       "4          False         False         False           False  \n",
       "\n",
       "[5 rows x 421 columns]"
      ]
     },
     "execution_count": 8,
     "metadata": {},
     "output_type": "execute_result"
    }
   ],
   "source": [
    "work_table = pd.concat([reviews[['funny','useful','cool']], features], axis=1)\n",
    "work_table.head()"
   ]
  },
  {
   "cell_type": "code",
   "execution_count": 9,
   "metadata": {
    "collapsed": false
   },
   "outputs": [
    {
     "data": {
      "text/plain": [
       "50000"
      ]
     },
     "execution_count": 9,
     "metadata": {},
     "output_type": "execute_result"
    }
   ],
   "source": [
    "work_dict = work_table.T.to_dict('dict')\n",
    "featuresets = list(zip(list(work_dict.values()), reviews.stars_nom))\n",
    "len(featuresets)"
   ]
  },
  {
   "cell_type": "code",
   "execution_count": 14,
   "metadata": {
    "collapsed": false
   },
   "outputs": [
    {
     "name": "stdout",
     "output_type": "stream",
     "text": [
      "0.4664\n"
     ]
    }
   ],
   "source": [
    "# freq > 800\n",
    "random.shuffle(featuresets)\n",
    "train_set, test_set = featuresets[5000:], featuresets[:5000]\n",
    "classifier = nltk.NaiveBayesClassifier.train(train_set)\n",
    "print(nltk.classify.accuracy(classifier, test_set))"
   ]
  },
  {
   "cell_type": "code",
   "execution_count": 16,
   "metadata": {
    "collapsed": false
   },
   "outputs": [
    {
     "name": "stdout",
     "output_type": "stream",
     "text": [
      "0.4392\n"
     ]
    }
   ],
   "source": [
    "# freq > 1500\n",
    "random.shuffle(featuresets)\n",
    "train_set, test_set = featuresets[5000:], featuresets[:5000]\n",
    "classifier = nltk.NaiveBayesClassifier.train(train_set)\n",
    "print(nltk.classify.accuracy(classifier, test_set))"
   ]
  },
  {
   "cell_type": "code",
   "execution_count": 10,
   "metadata": {
    "collapsed": true
   },
   "outputs": [],
   "source": [
    "random.shuffle(featuresets)\n",
    "train_set, test_set = featuresets[5000:], featuresets[:5000]"
   ]
  },
  {
   "cell_type": "code",
   "execution_count": 21,
   "metadata": {
    "collapsed": false
   },
   "outputs": [
    {
     "name": "stdout",
     "output_type": "stream",
     "text": [
      "Most Informative Features\n",
      "     contains(perfectly) = True             five : one    =     12.3 : 1.0\n",
      "     contains(fantastic) = True             five : one    =     11.6 : 1.0\n",
      "       contains(perfect) = True             five : one    =     10.2 : 1.0\n",
      "         contains(loved) = True             five : one    =      9.6 : 1.0\n",
      "       contains(manager) = True              one : four   =      9.3 : 1.0\n",
      "       contains(awesome) = True             five : one    =      9.2 : 1.0\n",
      "      contains(favorite) = True             five : one    =      8.9 : 1.0\n",
      "     contains(delicious) = True             five : one    =      8.6 : 1.0\n",
      "           contains(dry) = True              two : five   =      8.4 : 1.0\n",
      "       contains(amazing) = True             five : one    =      8.2 : 1.0\n",
      "        contains(decent) = True            three : five   =      7.9 : 1.0\n",
      "     contains(wonderful) = True             five : one    =      7.6 : 1.0\n",
      "     contains(excellent) = True             five : one    =      7.3 : 1.0\n",
      "         contains(yummy) = True             four : one    =      7.2 : 1.0\n",
      "            contains(ok) = True              two : five   =      7.0 : 1.0\n",
      "          contains(okay) = True            three : five   =      7.0 : 1.0\n",
      "        contains(waited) = True              one : five   =      7.0 : 1.0\n",
      "     contains(flavorful) = True             four : one    =      6.8 : 1.0\n",
      "       contains(average) = True            three : five   =      6.3 : 1.0\n",
      "                   funny = 24                one : four   =      6.1 : 1.0\n",
      "         contains(money) = True              one : five   =      6.1 : 1.0\n",
      "         contains(tasty) = True             four : one    =      5.8 : 1.0\n",
      "                    cool = 8                four : one    =      5.7 : 1.0\n",
      "         contains(asked) = True              one : five   =      5.7 : 1.0\n",
      "          contains(bill) = True              one : five   =      5.6 : 1.0\n",
      "        contains(highly) = True             five : one    =      5.6 : 1.0\n",
      "          contains(slow) = True              two : five   =      5.5 : 1.0\n",
      "         contains(guess) = True              two : five   =      5.5 : 1.0\n",
      "          contains(cold) = True              one : five   =      5.4 : 1.0\n",
      "          contains(told) = True              one : five   =      5.3 : 1.0\n",
      "       contains(minutes) = True              one : five   =      5.3 : 1.0\n",
      "                   funny = 12               four : five   =      5.2 : 1.0\n",
      "        contains(seemed) = True              two : five   =      4.9 : 1.0\n",
      "      contains(customer) = True              one : four   =      4.8 : 1.0\n",
      "                  useful = 14                one : two    =      4.8 : 1.0\n",
      "     contains(attentive) = True             four : one    =      4.7 : 1.0\n",
      "      contains(friendly) = True             five : one    =      4.6 : 1.0\n",
      "       contains(enjoyed) = True             four : one    =      4.5 : 1.0\n",
      "          contains(wasn) = True              two : five   =      4.4 : 1.0\n",
      "                    cool = 5                four : one    =      4.3 : 1.0\n",
      "           contains(fun) = True             four : one    =      4.3 : 1.0\n",
      "        contains(wouldn) = True              two : five   =      4.2 : 1.0\n",
      "         contains(maybe) = True              two : five   =      4.2 : 1.0\n",
      "           contains(fan) = True             four : one    =      4.2 : 1.0\n",
      "       contains(nothing) = True              two : five   =      4.2 : 1.0\n",
      "       contains(waiting) = True              one : five   =      4.2 : 1.0\n",
      "           contains(bad) = True              one : five   =      4.1 : 1.0\n",
      "                    cool = 9                four : two    =      4.1 : 1.0\n",
      "                    cool = 13               four : three  =      4.0 : 1.0\n",
      "          contains(left) = True              one : five   =      4.0 : 1.0\n"
     ]
    }
   ],
   "source": [
    "classifier.show_most_informative_features(50)"
   ]
  },
  {
   "cell_type": "code",
   "execution_count": 20,
   "metadata": {
    "collapsed": false,
    "scrolled": false
   },
   "outputs": [
    {
     "data": {
      "text/plain": [
       "[('contains(perfectly)', True),\n",
       " ('contains(fantastic)', True),\n",
       " ('contains(perfect)', True),\n",
       " ('contains(loved)', True),\n",
       " ('contains(manager)', True),\n",
       " ('contains(awesome)', True),\n",
       " ('contains(favorite)', True),\n",
       " ('contains(delicious)', True),\n",
       " ('contains(dry)', True),\n",
       " ('contains(amazing)', True),\n",
       " ('contains(decent)', True),\n",
       " ('contains(wonderful)', True),\n",
       " ('contains(excellent)', True),\n",
       " ('contains(yummy)', True),\n",
       " ('contains(ok)', True),\n",
       " ('contains(okay)', True),\n",
       " ('contains(waited)', True),\n",
       " ('contains(flavorful)', True),\n",
       " ('contains(average)', True),\n",
       " ('funny', 24),\n",
       " ('contains(money)', True),\n",
       " ('contains(tasty)', True),\n",
       " ('cool', 8),\n",
       " ('contains(asked)', True),\n",
       " ('contains(bill)', True),\n",
       " ('contains(highly)', True),\n",
       " ('contains(slow)', True),\n",
       " ('contains(guess)', True),\n",
       " ('contains(cold)', True),\n",
       " ('contains(told)', True),\n",
       " ('contains(minutes)', True),\n",
       " ('funny', 12),\n",
       " ('contains(seemed)', True),\n",
       " ('contains(customer)', True),\n",
       " ('useful', 14),\n",
       " ('contains(attentive)', True),\n",
       " ('contains(friendly)', True),\n",
       " ('contains(enjoyed)', True),\n",
       " ('contains(wasn)', True),\n",
       " ('cool', 5),\n",
       " ('contains(fun)', True),\n",
       " ('contains(wouldn)', True),\n",
       " ('contains(maybe)', True),\n",
       " ('contains(fan)', True),\n",
       " ('contains(nothing)', True),\n",
       " ('contains(waiting)', True),\n",
       " ('contains(bad)', True),\n",
       " ('cool', 9),\n",
       " ('cool', 13),\n",
       " ('contains(left)', True),\n",
       " ('contains(brunch)', True),\n",
       " ('contains(selection)', True),\n",
       " ('contains(overall)', True),\n",
       " ('contains(love)', True),\n",
       " ('contains(definitely)', True),\n",
       " ('contains(spot)', True),\n",
       " ('contains(later)', True),\n",
       " ('funny', 20),\n",
       " ('cool', 21),\n",
       " ('useful', 29),\n",
       " ('contains(waitress)', True),\n",
       " ('contains(patio)', True),\n",
       " ('contains(pay)', True),\n",
       " ('contains(someone)', True),\n",
       " ('contains(bit)', True),\n",
       " ('funny', 21),\n",
       " ('cool', 42),\n",
       " ('contains(atmosphere)', True),\n",
       " ('contains(instead)', True),\n",
       " ('contains(said)', True),\n",
       " ('contains(walked)', True),\n",
       " ('contains(owner)', True),\n",
       " ('contains(business)', True),\n",
       " ('useful', 18),\n",
       " ('contains(great)', True),\n",
       " ('contains(fine)', True),\n",
       " ('contains(liked)', True),\n",
       " ('contains(best)', True),\n",
       " ('contains(however)', True),\n",
       " ('funny', 22),\n",
       " ('useful', 32),\n",
       " ('contains(spicy)', True),\n",
       " ('contains(tasted)', True),\n",
       " ('contains(took)', True),\n",
       " ('contains(crispy)', True),\n",
       " ('funny', 11),\n",
       " ('contains(looked)', True),\n",
       " ('contains(finally)', True),\n",
       " ('contains(disappointed)', True),\n",
       " ('cool', 11),\n",
       " ('cool', 4),\n",
       " ('contains(pretty)', True),\n",
       " ('contains(reason)', True),\n",
       " ('contains(won)', True),\n",
       " ('cool', 20),\n",
       " ('contains(decor)', True),\n",
       " ('contains(never)', True),\n",
       " ('useful', 11),\n",
       " ('contains(style)', True),\n",
       " ('contains(choice)', True)]"
      ]
     },
     "execution_count": 20,
     "metadata": {},
     "output_type": "execute_result"
    }
   ],
   "source": [
    "informative_features = classifier.most_informative_features()\n",
    "informative_features"
   ]
  },
  {
   "cell_type": "code",
   "execution_count": 15,
   "metadata": {
    "collapsed": false
   },
   "outputs": [
    {
     "name": "stdout",
     "output_type": "stream",
     "text": [
      "0.4144\n"
     ]
    }
   ],
   "source": [
    "# freq > 800\n",
    "from nltk.classify import decisiontree as tree\n",
    "from sklearn.tree import DecisionTreeClassifier\n",
    "\n",
    "classifier = nltk.classify.SklearnClassifier(DecisionTreeClassifier())\n",
    "classifier.train(train_set)\n",
    "\n",
    "print(nltk.classify.accuracy(classifier, test_set))"
   ]
  },
  {
   "cell_type": "code",
   "execution_count": 11,
   "metadata": {
    "collapsed": false
   },
   "outputs": [
    {
     "name": "stdout",
     "output_type": "stream",
     "text": [
      "0.39\n"
     ]
    }
   ],
   "source": [
    "# freq > 1500\n",
    "from nltk.classify import decisiontree as tree\n",
    "from sklearn.tree import DecisionTreeClassifier\n",
    "\n",
    "classifier = nltk.classify.SklearnClassifier(DecisionTreeClassifier())\n",
    "classifier.train(train_set)\n",
    "\n",
    "print(nltk.classify.accuracy(classifier, test_set))"
   ]
  },
  {
   "cell_type": "code",
   "execution_count": 16,
   "metadata": {
    "collapsed": false
   },
   "outputs": [
    {
     "name": "stdout",
     "output_type": "stream",
     "text": [
      "0.5536\n"
     ]
    }
   ],
   "source": [
    "from sklearn.svm import LinearSVC\n",
    "classifier = nltk.classify.SklearnClassifier(LinearSVC())\n",
    "classifier.train(train_set)\n",
    "\n",
    "print(nltk.classify.accuracy(classifier, test_set))"
   ]
  },
  {
   "cell_type": "code",
   "execution_count": 13,
   "metadata": {
    "collapsed": false
   },
   "outputs": [
    {
     "name": "stdout",
     "output_type": "stream",
     "text": [
      "0.538\n"
     ]
    }
   ],
   "source": [
    "# freq > 1500\n",
    "from sklearn.svm import LinearSVC\n",
    "classifier = nltk.classify.SklearnClassifier(LinearSVC())\n",
    "classifier.train(train_set)\n",
    "\n",
    "print(nltk.classify.accuracy(classifier, test_set))"
   ]
  },
  {
   "cell_type": "code",
   "execution_count": 23,
   "metadata": {
    "collapsed": false
   },
   "outputs": [
    {
     "name": "stdout",
     "output_type": "stream",
     "text": [
      "0.539\n"
     ]
    }
   ],
   "source": [
    "# freq > 1500\n",
    "from sklearn.svm import SVC\n",
    "classifier = SVC(kernel='linear')\n",
    "classifier = nltk.classify.SklearnClassifier(classifier)\n",
    "classifier.train(train_set)\n",
    "\n",
    "print(nltk.classify.accuracy(classifier, test_set))"
   ]
  },
  {
   "cell_type": "code",
   "execution_count": 18,
   "metadata": {
    "collapsed": false
   },
   "outputs": [],
   "source": [
    "#import cPickle"
   ]
  },
  {
   "cell_type": "code",
   "execution_count": null,
   "metadata": {
    "collapsed": true
   },
   "outputs": [],
   "source": [
    "cPickle.dump(featuresets, open('features.p', 'wb')) \n",
    "#featuresets = cPickle.load(open('features.p', 'rb'))"
   ]
  },
  {
   "cell_type": "code",
   "execution_count": 19,
   "metadata": {
    "collapsed": false
   },
   "outputs": [
    {
     "name": "stdout",
     "output_type": "stream",
     "text": [
      "0.5566\n"
     ]
    }
   ],
   "source": [
    "from sklearn.linear_model import LogisticRegression\n",
    "classifier = nltk.classify.SklearnClassifier(LogisticRegression())\n",
    "classifier.train(train_set)\n",
    "\n",
    "print(nltk.classify.accuracy(classifier, test_set))"
   ]
  },
  {
   "cell_type": "code",
   "execution_count": 24,
   "metadata": {
    "collapsed": false
   },
   "outputs": [
    {
     "name": "stdout",
     "output_type": "stream",
     "text": [
      "0.5406\n"
     ]
    }
   ],
   "source": [
    "# freq > 1500\n",
    "from sklearn.linear_model import LogisticRegression\n",
    "classifier = nltk.classify.SklearnClassifier(LogisticRegression())\n",
    "classifier.train(train_set)\n",
    "\n",
    "print(nltk.classify.accuracy(classifier, test_set))"
   ]
  },
  {
   "cell_type": "code",
   "execution_count": 25,
   "metadata": {
    "collapsed": false
   },
   "outputs": [
    {
     "name": "stdout",
     "output_type": "stream",
     "text": [
      "0.3428\n"
     ]
    }
   ],
   "source": [
    "# freq > 1500\n",
    "from sklearn.svm import SVC\n",
    "clf = SVC(kernel='poly')\n",
    "classifier = nltk.classify.SklearnClassifier(clf)\n",
    "classifier.train(train_set) \n",
    "\n",
    "print(nltk.classify.accuracy(classifier, test_set))"
   ]
  },
  {
   "cell_type": "code",
   "execution_count": 21,
   "metadata": {
    "collapsed": false
   },
   "outputs": [
    {
     "name": "stdout",
     "output_type": "stream",
     "text": [
      "0.5442\n"
     ]
    }
   ],
   "source": [
    "from sklearn.svm import SVC\n",
    "clf = SVC(kernel='rbf')\n",
    "classifier = nltk.classify.SklearnClassifier(clf)\n",
    "classifier.train(train_set) \n",
    "\n",
    "print(nltk.classify.accuracy(classifier, test_set))"
   ]
  },
  {
   "cell_type": "code",
   "execution_count": 26,
   "metadata": {
    "collapsed": false
   },
   "outputs": [
    {
     "name": "stdout",
     "output_type": "stream",
     "text": [
      "0.528\n"
     ]
    }
   ],
   "source": [
    "# freq > 1500\n",
    "from sklearn.svm import SVC\n",
    "clf = SVC(kernel='rbf')\n",
    "classifier = nltk.classify.SklearnClassifier(clf)\n",
    "classifier.train(train_set) \n",
    "\n",
    "print(nltk.classify.accuracy(classifier, test_set))"
   ]
  },
  {
   "cell_type": "code",
   "execution_count": null,
   "metadata": {
    "collapsed": true
   },
   "outputs": [],
   "source": []
  },
  {
   "cell_type": "code",
   "execution_count": 22,
   "metadata": {
    "collapsed": true
   },
   "outputs": [],
   "source": [
    "wt = work_table\n",
    "wt['stars_nom'] = [\"one\" if star == 1 else \"two\" if star == 2 else \"three\" if star == 3 \n",
    "                else \"four\" if star == 4 else \"five\" for star in reviews.stars]\n",
    "\n",
    "wt.to_pickle(\"work_table.pkl\")"
   ]
  },
  {
   "cell_type": "code",
   "execution_count": 23,
   "metadata": {
    "collapsed": false
   },
   "outputs": [
    {
     "data": {
      "text/plain": [
       "(50000, 735)"
      ]
     },
     "execution_count": 23,
     "metadata": {},
     "output_type": "execute_result"
    }
   ],
   "source": [
    "wt.to_csv('yelp_wt.csv', index=False)\n",
    "wt.shape"
   ]
  },
  {
   "cell_type": "code",
   "execution_count": null,
   "metadata": {
    "collapsed": true
   },
   "outputs": [],
   "source": []
  }
 ],
 "metadata": {
  "kernelspec": {
   "display_name": "Python 3",
   "language": "python",
   "name": "python3"
  },
  "language_info": {
   "codemirror_mode": {
    "name": "ipython",
    "version": 3
   },
   "file_extension": ".py",
   "mimetype": "text/x-python",
   "name": "python",
   "nbconvert_exporter": "python",
   "pygments_lexer": "ipython3",
   "version": "3.4.4"
  }
 },
 "nbformat": 4,
 "nbformat_minor": 0
}
